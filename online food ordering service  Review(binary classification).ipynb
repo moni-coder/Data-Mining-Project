{
 "cells": [
  {
   "cell_type": "code",
   "execution_count": 499,
   "metadata": {},
   "outputs": [
    {
     "data": {
      "text/html": [
       "<div>\n",
       "<style scoped>\n",
       "    .dataframe tbody tr th:only-of-type {\n",
       "        vertical-align: middle;\n",
       "    }\n",
       "\n",
       "    .dataframe tbody tr th {\n",
       "        vertical-align: top;\n",
       "    }\n",
       "\n",
       "    .dataframe thead th {\n",
       "        text-align: right;\n",
       "    }\n",
       "</style>\n",
       "<table border=\"1\" class=\"dataframe\">\n",
       "  <thead>\n",
       "    <tr style=\"text-align: right;\">\n",
       "      <th></th>\n",
       "      <th>sentiment</th>\n",
       "      <th>review</th>\n",
       "    </tr>\n",
       "  </thead>\n",
       "  <tbody>\n",
       "    <tr>\n",
       "      <th>0</th>\n",
       "      <td>1</td>\n",
       "      <td>I got the best service from them.</td>\n",
       "    </tr>\n",
       "    <tr>\n",
       "      <th>1</th>\n",
       "      <td>1</td>\n",
       "      <td>Very impressive service for the customers. I love how there comes a call for further confirmation of order and also for the address, which other online delivery platforms don't have and they always create misunderstandings and problems due to that. I also love the very easy, well-designed and conven...</td>\n",
       "    </tr>\n",
       "    <tr>\n",
       "      <th>2</th>\n",
       "      <td>1</td>\n",
       "      <td>Never had any issues with their delivery, always got my food on time with no problems. The new app UI looks good but is a little confusing at first. Only 4 stars because all my previous order history and saved addresses are gone due to the new update.</td>\n",
       "    </tr>\n",
       "    <tr>\n",
       "      <th>3</th>\n",
       "      <td>1</td>\n",
       "      <td>Great Service Pre-Order option is great. Loving it. :)</td>\n",
       "    </tr>\n",
       "    <tr>\n",
       "      <th>4</th>\n",
       "      <td>1</td>\n",
       "      <td>Delivery service at its best....</td>\n",
       "    </tr>\n",
       "    <tr>\n",
       "      <th>...</th>\n",
       "      <td>...</td>\n",
       "      <td>...</td>\n",
       "    </tr>\n",
       "    <tr>\n",
       "      <th>562</th>\n",
       "      <td>0</td>\n",
       "      <td>Food is very very bad. He gives wrong food. Very very bad.....</td>\n",
       "    </tr>\n",
       "    <tr>\n",
       "      <th>563</th>\n",
       "      <td>0</td>\n",
       "      <td>I ordered food almost 1 and 1/2 hour ago and still did not receive it yet. The rider just wasted my time waiting for the delivery. Worst rider ever</td>\n",
       "    </tr>\n",
       "    <tr>\n",
       "      <th>564</th>\n",
       "      <td>0</td>\n",
       "      <td>Order 140 tk and they deliver me 40 tk burger</td>\n",
       "    </tr>\n",
       "    <tr>\n",
       "      <th>565</th>\n",
       "      <td>0</td>\n",
       "      <td>Worst rider</td>\n",
       "    </tr>\n",
       "    <tr>\n",
       "      <th>566</th>\n",
       "      <td>0</td>\n",
       "      <td>I was waiting a long time for food.. It was come a long time..</td>\n",
       "    </tr>\n",
       "  </tbody>\n",
       "</table>\n",
       "<p>567 rows × 2 columns</p>\n",
       "</div>"
      ],
      "text/plain": [
       "     sentiment  \\\n",
       "0            1   \n",
       "1            1   \n",
       "2            1   \n",
       "3            1   \n",
       "4            1   \n",
       "..         ...   \n",
       "562          0   \n",
       "563          0   \n",
       "564          0   \n",
       "565          0   \n",
       "566          0   \n",
       "\n",
       "                                                                                                                                                                                                                                                                                                              review  \n",
       "0                                                                                                                                                                                                                                                                                  I got the best service from them.  \n",
       "1    Very impressive service for the customers. I love how there comes a call for further confirmation of order and also for the address, which other online delivery platforms don't have and they always create misunderstandings and problems due to that. I also love the very easy, well-designed and conven...  \n",
       "2                                                        Never had any issues with their delivery, always got my food on time with no problems. The new app UI looks good but is a little confusing at first. Only 4 stars because all my previous order history and saved addresses are gone due to the new update.  \n",
       "3                                                                                                                                                                                                                                                             Great Service Pre-Order option is great. Loving it. :)  \n",
       "4                                                                                                                                                                                                                                                                                   Delivery service at its best....  \n",
       "..                                                                                                                                                                                                                                                                                                               ...  \n",
       "562                                                                                                                                                                                                                                                   Food is very very bad. He gives wrong food. Very very bad.....  \n",
       "563                                                                                                                                                              I ordered food almost 1 and 1/2 hour ago and still did not receive it yet. The rider just wasted my time waiting for the delivery. Worst rider ever  \n",
       "564                                                                                                                                                                                                                                                                    Order 140 tk and they deliver me 40 tk burger  \n",
       "565                                                                                                                                                                                                                                                                                                      Worst rider  \n",
       "566                                                                                                                                                                                                                                                   I was waiting a long time for food.. It was come a long time..  \n",
       "\n",
       "[567 rows x 2 columns]"
      ]
     },
     "execution_count": 499,
     "metadata": {},
     "output_type": "execute_result"
    }
   ],
   "source": [
    "import pandas as pd \n",
    "from matplotlib import pyplot as plt\n",
    "import numpy as np\n",
    "pd.set_option('display.max_colwidth',500) \n",
    "column_names = ['sentiment', 'review']\n",
    "df = pd.read_csv('Book3.csv', names = column_names)\n",
    "df"
   ]
  },
  {
   "cell_type": "markdown",
   "metadata": {},
   "source": [
    "# Remove Punctuation"
   ]
  },
  {
   "cell_type": "code",
   "execution_count": 500,
   "metadata": {},
   "outputs": [
    {
     "data": {
      "text/html": [
       "<div>\n",
       "<style scoped>\n",
       "    .dataframe tbody tr th:only-of-type {\n",
       "        vertical-align: middle;\n",
       "    }\n",
       "\n",
       "    .dataframe tbody tr th {\n",
       "        vertical-align: top;\n",
       "    }\n",
       "\n",
       "    .dataframe thead th {\n",
       "        text-align: right;\n",
       "    }\n",
       "</style>\n",
       "<table border=\"1\" class=\"dataframe\">\n",
       "  <thead>\n",
       "    <tr style=\"text-align: right;\">\n",
       "      <th></th>\n",
       "      <th>sentiment</th>\n",
       "      <th>review</th>\n",
       "      <th>remove_punc</th>\n",
       "    </tr>\n",
       "  </thead>\n",
       "  <tbody>\n",
       "    <tr>\n",
       "      <th>0</th>\n",
       "      <td>1</td>\n",
       "      <td>I got the best service from them.</td>\n",
       "      <td>I got the best service from them</td>\n",
       "    </tr>\n",
       "    <tr>\n",
       "      <th>1</th>\n",
       "      <td>1</td>\n",
       "      <td>Very impressive service for the customers. I love how there comes a call for further confirmation of order and also for the address, which other online delivery platforms don't have and they always create misunderstandings and problems due to that. I also love the very easy, well-designed and conven...</td>\n",
       "      <td>Very impressive service for the customers I love how there comes a call for further confirmation of order and also for the address which other online delivery platforms dont have and they always create misunderstandings and problems due to that I also love the very easy welldesigned and conven</td>\n",
       "    </tr>\n",
       "    <tr>\n",
       "      <th>2</th>\n",
       "      <td>1</td>\n",
       "      <td>Never had any issues with their delivery, always got my food on time with no problems. The new app UI looks good but is a little confusing at first. Only 4 stars because all my previous order history and saved addresses are gone due to the new update.</td>\n",
       "      <td>Never had any issues with their delivery always got my food on time with no problems The new app UI looks good but is a little confusing at first Only 4 stars because all my previous order history and saved addresses are gone due to the new update</td>\n",
       "    </tr>\n",
       "    <tr>\n",
       "      <th>3</th>\n",
       "      <td>1</td>\n",
       "      <td>Great Service Pre-Order option is great. Loving it. :)</td>\n",
       "      <td>Great Service PreOrder option is great Loving it</td>\n",
       "    </tr>\n",
       "    <tr>\n",
       "      <th>4</th>\n",
       "      <td>1</td>\n",
       "      <td>Delivery service at its best....</td>\n",
       "      <td>Delivery service at its best</td>\n",
       "    </tr>\n",
       "    <tr>\n",
       "      <th>...</th>\n",
       "      <td>...</td>\n",
       "      <td>...</td>\n",
       "      <td>...</td>\n",
       "    </tr>\n",
       "    <tr>\n",
       "      <th>562</th>\n",
       "      <td>0</td>\n",
       "      <td>Food is very very bad. He gives wrong food. Very very bad.....</td>\n",
       "      <td>Food is very very bad He gives wrong food Very very bad</td>\n",
       "    </tr>\n",
       "    <tr>\n",
       "      <th>563</th>\n",
       "      <td>0</td>\n",
       "      <td>I ordered food almost 1 and 1/2 hour ago and still did not receive it yet. The rider just wasted my time waiting for the delivery. Worst rider ever</td>\n",
       "      <td>I ordered food almost 1 and 12 hour ago and still did not receive it yet The rider just wasted my time waiting for the delivery Worst rider ever</td>\n",
       "    </tr>\n",
       "    <tr>\n",
       "      <th>564</th>\n",
       "      <td>0</td>\n",
       "      <td>Order 140 tk and they deliver me 40 tk burger</td>\n",
       "      <td>Order 140 tk and they deliver me 40 tk burger</td>\n",
       "    </tr>\n",
       "    <tr>\n",
       "      <th>565</th>\n",
       "      <td>0</td>\n",
       "      <td>Worst rider</td>\n",
       "      <td>Worst rider</td>\n",
       "    </tr>\n",
       "    <tr>\n",
       "      <th>566</th>\n",
       "      <td>0</td>\n",
       "      <td>I was waiting a long time for food.. It was come a long time..</td>\n",
       "      <td>I was waiting a long time for food It was come a long time</td>\n",
       "    </tr>\n",
       "  </tbody>\n",
       "</table>\n",
       "<p>567 rows × 3 columns</p>\n",
       "</div>"
      ],
      "text/plain": [
       "     sentiment  \\\n",
       "0            1   \n",
       "1            1   \n",
       "2            1   \n",
       "3            1   \n",
       "4            1   \n",
       "..         ...   \n",
       "562          0   \n",
       "563          0   \n",
       "564          0   \n",
       "565          0   \n",
       "566          0   \n",
       "\n",
       "                                                                                                                                                                                                                                                                                                              review  \\\n",
       "0                                                                                                                                                                                                                                                                                  I got the best service from them.   \n",
       "1    Very impressive service for the customers. I love how there comes a call for further confirmation of order and also for the address, which other online delivery platforms don't have and they always create misunderstandings and problems due to that. I also love the very easy, well-designed and conven...   \n",
       "2                                                        Never had any issues with their delivery, always got my food on time with no problems. The new app UI looks good but is a little confusing at first. Only 4 stars because all my previous order history and saved addresses are gone due to the new update.   \n",
       "3                                                                                                                                                                                                                                                             Great Service Pre-Order option is great. Loving it. :)   \n",
       "4                                                                                                                                                                                                                                                                                   Delivery service at its best....   \n",
       "..                                                                                                                                                                                                                                                                                                               ...   \n",
       "562                                                                                                                                                                                                                                                   Food is very very bad. He gives wrong food. Very very bad.....   \n",
       "563                                                                                                                                                              I ordered food almost 1 and 1/2 hour ago and still did not receive it yet. The rider just wasted my time waiting for the delivery. Worst rider ever   \n",
       "564                                                                                                                                                                                                                                                                    Order 140 tk and they deliver me 40 tk burger   \n",
       "565                                                                                                                                                                                                                                                                                                      Worst rider   \n",
       "566                                                                                                                                                                                                                                                   I was waiting a long time for food.. It was come a long time..   \n",
       "\n",
       "                                                                                                                                                                                                                                                                                                remove_punc  \n",
       "0                                                                                                                                                                                                                                                                          I got the best service from them  \n",
       "1    Very impressive service for the customers I love how there comes a call for further confirmation of order and also for the address which other online delivery platforms dont have and they always create misunderstandings and problems due to that I also love the very easy welldesigned and conven  \n",
       "2                                                   Never had any issues with their delivery always got my food on time with no problems The new app UI looks good but is a little confusing at first Only 4 stars because all my previous order history and saved addresses are gone due to the new update  \n",
       "3                                                                                                                                                                                                                                                         Great Service PreOrder option is great Loving it   \n",
       "4                                                                                                                                                                                                                                                                              Delivery service at its best  \n",
       "..                                                                                                                                                                                                                                                                                                      ...  \n",
       "562                                                                                                                                                                                                                                                 Food is very very bad He gives wrong food Very very bad  \n",
       "563                                                                                                                                                        I ordered food almost 1 and 12 hour ago and still did not receive it yet The rider just wasted my time waiting for the delivery Worst rider ever  \n",
       "564                                                                                                                                                                                                                                                           Order 140 tk and they deliver me 40 tk burger  \n",
       "565                                                                                                                                                                                                                                                                                             Worst rider  \n",
       "566                                                                                                                                                                                                                                              I was waiting a long time for food It was come a long time  \n",
       "\n",
       "[567 rows x 3 columns]"
      ]
     },
     "execution_count": 500,
     "metadata": {},
     "output_type": "execute_result"
    }
   ],
   "source": [
    "import string \n",
    "string.punctuation \n",
    "def remove_punctuation(txt):    \n",
    "    txt_nonpunct = \"\".join ([c for c in txt if c not in string.punctuation]) \n",
    "    return txt_nonpunct \n",
    "\n",
    "df['remove_punc'] = df['review'].apply(lambda x: remove_punctuation(x)) \n",
    "df"
   ]
  },
  {
   "cell_type": "markdown",
   "metadata": {},
   "source": [
    "# Tokenization"
   ]
  },
  {
   "cell_type": "code",
   "execution_count": 501,
   "metadata": {},
   "outputs": [
    {
     "data": {
      "text/html": [
       "<div>\n",
       "<style scoped>\n",
       "    .dataframe tbody tr th:only-of-type {\n",
       "        vertical-align: middle;\n",
       "    }\n",
       "\n",
       "    .dataframe tbody tr th {\n",
       "        vertical-align: top;\n",
       "    }\n",
       "\n",
       "    .dataframe thead th {\n",
       "        text-align: right;\n",
       "    }\n",
       "</style>\n",
       "<table border=\"1\" class=\"dataframe\">\n",
       "  <thead>\n",
       "    <tr style=\"text-align: right;\">\n",
       "      <th></th>\n",
       "      <th>sentiment</th>\n",
       "      <th>review</th>\n",
       "      <th>remove_punc</th>\n",
       "      <th>tokenized</th>\n",
       "    </tr>\n",
       "  </thead>\n",
       "  <tbody>\n",
       "    <tr>\n",
       "      <th>0</th>\n",
       "      <td>1</td>\n",
       "      <td>I got the best service from them.</td>\n",
       "      <td>I got the best service from them</td>\n",
       "      <td>[i, got, the, best, service, from, them]</td>\n",
       "    </tr>\n",
       "    <tr>\n",
       "      <th>1</th>\n",
       "      <td>1</td>\n",
       "      <td>Very impressive service for the customers. I love how there comes a call for further confirmation of order and also for the address, which other online delivery platforms don't have and they always create misunderstandings and problems due to that. I also love the very easy, well-designed and conven...</td>\n",
       "      <td>Very impressive service for the customers I love how there comes a call for further confirmation of order and also for the address which other online delivery platforms dont have and they always create misunderstandings and problems due to that I also love the very easy welldesigned and conven</td>\n",
       "      <td>[very, impressive, service, for, the, customers, i, love, how, there, comes, a, call, for, further, confirmation, of, order, and, also, for, the, address, which, other, online, delivery, platforms, dont, have, and, they, always, create, misunderstandings, and, problems, due, to, that, i, also, love, the, very, easy, welldesigned, and, conven]</td>\n",
       "    </tr>\n",
       "    <tr>\n",
       "      <th>2</th>\n",
       "      <td>1</td>\n",
       "      <td>Never had any issues with their delivery, always got my food on time with no problems. The new app UI looks good but is a little confusing at first. Only 4 stars because all my previous order history and saved addresses are gone due to the new update.</td>\n",
       "      <td>Never had any issues with their delivery always got my food on time with no problems The new app UI looks good but is a little confusing at first Only 4 stars because all my previous order history and saved addresses are gone due to the new update</td>\n",
       "      <td>[never, had, any, issues, with, their, delivery, always, got, my, food, on, time, with, no, problems, the, new, app, ui, looks, good, but, is, a, little, confusing, at, first, only, 4, stars, because, all, my, previous, order, history, and, saved, addresses, are, gone, due, to, the, new, update]</td>\n",
       "    </tr>\n",
       "    <tr>\n",
       "      <th>3</th>\n",
       "      <td>1</td>\n",
       "      <td>Great Service Pre-Order option is great. Loving it. :)</td>\n",
       "      <td>Great Service PreOrder option is great Loving it</td>\n",
       "      <td>[great, service, preorder, option, is, great, loving, it]</td>\n",
       "    </tr>\n",
       "    <tr>\n",
       "      <th>4</th>\n",
       "      <td>1</td>\n",
       "      <td>Delivery service at its best....</td>\n",
       "      <td>Delivery service at its best</td>\n",
       "      <td>[delivery, service, at, its, best]</td>\n",
       "    </tr>\n",
       "    <tr>\n",
       "      <th>...</th>\n",
       "      <td>...</td>\n",
       "      <td>...</td>\n",
       "      <td>...</td>\n",
       "      <td>...</td>\n",
       "    </tr>\n",
       "    <tr>\n",
       "      <th>562</th>\n",
       "      <td>0</td>\n",
       "      <td>Food is very very bad. He gives wrong food. Very very bad.....</td>\n",
       "      <td>Food is very very bad He gives wrong food Very very bad</td>\n",
       "      <td>[food, is, very, very, bad, he, gives, wrong, food, very, very, bad]</td>\n",
       "    </tr>\n",
       "    <tr>\n",
       "      <th>563</th>\n",
       "      <td>0</td>\n",
       "      <td>I ordered food almost 1 and 1/2 hour ago and still did not receive it yet. The rider just wasted my time waiting for the delivery. Worst rider ever</td>\n",
       "      <td>I ordered food almost 1 and 12 hour ago and still did not receive it yet The rider just wasted my time waiting for the delivery Worst rider ever</td>\n",
       "      <td>[i, ordered, food, almost, 1, and, 12, hour, ago, and, still, did, not, receive, it, yet, the, rider, just, wasted, my, time, waiting, for, the, delivery, worst, rider, ever]</td>\n",
       "    </tr>\n",
       "    <tr>\n",
       "      <th>564</th>\n",
       "      <td>0</td>\n",
       "      <td>Order 140 tk and they deliver me 40 tk burger</td>\n",
       "      <td>Order 140 tk and they deliver me 40 tk burger</td>\n",
       "      <td>[order, 140, tk, and, they, deliver, me, 40, tk, burger]</td>\n",
       "    </tr>\n",
       "    <tr>\n",
       "      <th>565</th>\n",
       "      <td>0</td>\n",
       "      <td>Worst rider</td>\n",
       "      <td>Worst rider</td>\n",
       "      <td>[worst, rider]</td>\n",
       "    </tr>\n",
       "    <tr>\n",
       "      <th>566</th>\n",
       "      <td>0</td>\n",
       "      <td>I was waiting a long time for food.. It was come a long time..</td>\n",
       "      <td>I was waiting a long time for food It was come a long time</td>\n",
       "      <td>[i, was, waiting, a, long, time, for, food, it, was, come, a, long, time]</td>\n",
       "    </tr>\n",
       "  </tbody>\n",
       "</table>\n",
       "<p>567 rows × 4 columns</p>\n",
       "</div>"
      ],
      "text/plain": [
       "     sentiment  \\\n",
       "0            1   \n",
       "1            1   \n",
       "2            1   \n",
       "3            1   \n",
       "4            1   \n",
       "..         ...   \n",
       "562          0   \n",
       "563          0   \n",
       "564          0   \n",
       "565          0   \n",
       "566          0   \n",
       "\n",
       "                                                                                                                                                                                                                                                                                                              review  \\\n",
       "0                                                                                                                                                                                                                                                                                  I got the best service from them.   \n",
       "1    Very impressive service for the customers. I love how there comes a call for further confirmation of order and also for the address, which other online delivery platforms don't have and they always create misunderstandings and problems due to that. I also love the very easy, well-designed and conven...   \n",
       "2                                                        Never had any issues with their delivery, always got my food on time with no problems. The new app UI looks good but is a little confusing at first. Only 4 stars because all my previous order history and saved addresses are gone due to the new update.   \n",
       "3                                                                                                                                                                                                                                                             Great Service Pre-Order option is great. Loving it. :)   \n",
       "4                                                                                                                                                                                                                                                                                   Delivery service at its best....   \n",
       "..                                                                                                                                                                                                                                                                                                               ...   \n",
       "562                                                                                                                                                                                                                                                   Food is very very bad. He gives wrong food. Very very bad.....   \n",
       "563                                                                                                                                                              I ordered food almost 1 and 1/2 hour ago and still did not receive it yet. The rider just wasted my time waiting for the delivery. Worst rider ever   \n",
       "564                                                                                                                                                                                                                                                                    Order 140 tk and they deliver me 40 tk burger   \n",
       "565                                                                                                                                                                                                                                                                                                      Worst rider   \n",
       "566                                                                                                                                                                                                                                                   I was waiting a long time for food.. It was come a long time..   \n",
       "\n",
       "                                                                                                                                                                                                                                                                                                remove_punc  \\\n",
       "0                                                                                                                                                                                                                                                                          I got the best service from them   \n",
       "1    Very impressive service for the customers I love how there comes a call for further confirmation of order and also for the address which other online delivery platforms dont have and they always create misunderstandings and problems due to that I also love the very easy welldesigned and conven   \n",
       "2                                                   Never had any issues with their delivery always got my food on time with no problems The new app UI looks good but is a little confusing at first Only 4 stars because all my previous order history and saved addresses are gone due to the new update   \n",
       "3                                                                                                                                                                                                                                                         Great Service PreOrder option is great Loving it    \n",
       "4                                                                                                                                                                                                                                                                              Delivery service at its best   \n",
       "..                                                                                                                                                                                                                                                                                                      ...   \n",
       "562                                                                                                                                                                                                                                                 Food is very very bad He gives wrong food Very very bad   \n",
       "563                                                                                                                                                        I ordered food almost 1 and 12 hour ago and still did not receive it yet The rider just wasted my time waiting for the delivery Worst rider ever   \n",
       "564                                                                                                                                                                                                                                                           Order 140 tk and they deliver me 40 tk burger   \n",
       "565                                                                                                                                                                                                                                                                                             Worst rider   \n",
       "566                                                                                                                                                                                                                                              I was waiting a long time for food It was come a long time   \n",
       "\n",
       "                                                                                                                                                                                                                                                                                                                                                    tokenized  \n",
       "0                                                                                                                                                                                                                                                                                                                    [i, got, the, best, service, from, them]  \n",
       "1    [very, impressive, service, for, the, customers, i, love, how, there, comes, a, call, for, further, confirmation, of, order, and, also, for, the, address, which, other, online, delivery, platforms, dont, have, and, they, always, create, misunderstandings, and, problems, due, to, that, i, also, love, the, very, easy, welldesigned, and, conven]  \n",
       "2                                                    [never, had, any, issues, with, their, delivery, always, got, my, food, on, time, with, no, problems, the, new, app, ui, looks, good, but, is, a, little, confusing, at, first, only, 4, stars, because, all, my, previous, order, history, and, saved, addresses, are, gone, due, to, the, new, update]  \n",
       "3                                                                                                                                                                                                                                                                                                   [great, service, preorder, option, is, great, loving, it]  \n",
       "4                                                                                                                                                                                                                                                                                                                          [delivery, service, at, its, best]  \n",
       "..                                                                                                                                                                                                                                                                                                                                                        ...  \n",
       "562                                                                                                                                                                                                                                                                                      [food, is, very, very, bad, he, gives, wrong, food, very, very, bad]  \n",
       "563                                                                                                                                                                            [i, ordered, food, almost, 1, and, 12, hour, ago, and, still, did, not, receive, it, yet, the, rider, just, wasted, my, time, waiting, for, the, delivery, worst, rider, ever]  \n",
       "564                                                                                                                                                                                                                                                                                                  [order, 140, tk, and, they, deliver, me, 40, tk, burger]  \n",
       "565                                                                                                                                                                                                                                                                                                                                            [worst, rider]  \n",
       "566                                                                                                                                                                                                                                                                                 [i, was, waiting, a, long, time, for, food, it, was, come, a, long, time]  \n",
       "\n",
       "[567 rows x 4 columns]"
      ]
     },
     "execution_count": 501,
     "metadata": {},
     "output_type": "execute_result"
    }
   ],
   "source": [
    "from nltk.tokenize import word_tokenize\n",
    "def tokenize(txt):    \n",
    "    tokens = word_tokenize(txt)\n",
    "    return tokens \n",
    "df['tokenized'] = df['remove_punc'].apply(lambda x: tokenize(x.lower())) \n",
    "df"
   ]
  },
  {
   "cell_type": "markdown",
   "metadata": {},
   "source": [
    "# Remove stop words"
   ]
  },
  {
   "cell_type": "code",
   "execution_count": 502,
   "metadata": {},
   "outputs": [
    {
     "data": {
      "text/plain": [
       "['i', 'me', 'my', 'myself', 'we', 'our', 'ours', 'ourselves', 'you', \"you're\"]"
      ]
     },
     "execution_count": 502,
     "metadata": {},
     "output_type": "execute_result"
    }
   ],
   "source": [
    "import nltk \n",
    "stopwords = nltk.corpus.stopwords.words('english') \n",
    "stopwords[0:10]"
   ]
  },
  {
   "cell_type": "code",
   "execution_count": 503,
   "metadata": {},
   "outputs": [
    {
     "data": {
      "text/html": [
       "<div>\n",
       "<style scoped>\n",
       "    .dataframe tbody tr th:only-of-type {\n",
       "        vertical-align: middle;\n",
       "    }\n",
       "\n",
       "    .dataframe tbody tr th {\n",
       "        vertical-align: top;\n",
       "    }\n",
       "\n",
       "    .dataframe thead th {\n",
       "        text-align: right;\n",
       "    }\n",
       "</style>\n",
       "<table border=\"1\" class=\"dataframe\">\n",
       "  <thead>\n",
       "    <tr style=\"text-align: right;\">\n",
       "      <th></th>\n",
       "      <th>sentiment</th>\n",
       "      <th>review</th>\n",
       "      <th>remove_punc</th>\n",
       "      <th>tokenized</th>\n",
       "      <th>remove_sw</th>\n",
       "    </tr>\n",
       "  </thead>\n",
       "  <tbody>\n",
       "    <tr>\n",
       "      <th>0</th>\n",
       "      <td>1</td>\n",
       "      <td>I got the best service from them.</td>\n",
       "      <td>I got the best service from them</td>\n",
       "      <td>[i, got, the, best, service, from, them]</td>\n",
       "      <td>[got, best, service]</td>\n",
       "    </tr>\n",
       "    <tr>\n",
       "      <th>1</th>\n",
       "      <td>1</td>\n",
       "      <td>Very impressive service for the customers. I love how there comes a call for further confirmation of order and also for the address, which other online delivery platforms don't have and they always create misunderstandings and problems due to that. I also love the very easy, well-designed and conven...</td>\n",
       "      <td>Very impressive service for the customers I love how there comes a call for further confirmation of order and also for the address which other online delivery platforms dont have and they always create misunderstandings and problems due to that I also love the very easy welldesigned and conven</td>\n",
       "      <td>[very, impressive, service, for, the, customers, i, love, how, there, comes, a, call, for, further, confirmation, of, order, and, also, for, the, address, which, other, online, delivery, platforms, dont, have, and, they, always, create, misunderstandings, and, problems, due, to, that, i, also, love, the, very, easy, welldesigned, and, conven]</td>\n",
       "      <td>[impressive, service, customers, love, comes, call, confirmation, order, also, address, online, delivery, platforms, dont, always, create, misunderstandings, problems, due, also, love, easy, welldesigned, conven]</td>\n",
       "    </tr>\n",
       "    <tr>\n",
       "      <th>2</th>\n",
       "      <td>1</td>\n",
       "      <td>Never had any issues with their delivery, always got my food on time with no problems. The new app UI looks good but is a little confusing at first. Only 4 stars because all my previous order history and saved addresses are gone due to the new update.</td>\n",
       "      <td>Never had any issues with their delivery always got my food on time with no problems The new app UI looks good but is a little confusing at first Only 4 stars because all my previous order history and saved addresses are gone due to the new update</td>\n",
       "      <td>[never, had, any, issues, with, their, delivery, always, got, my, food, on, time, with, no, problems, the, new, app, ui, looks, good, but, is, a, little, confusing, at, first, only, 4, stars, because, all, my, previous, order, history, and, saved, addresses, are, gone, due, to, the, new, update]</td>\n",
       "      <td>[never, issues, delivery, always, got, food, time, problems, new, app, ui, looks, good, little, confusing, first, 4, stars, previous, order, history, saved, addresses, gone, due, new, update]</td>\n",
       "    </tr>\n",
       "    <tr>\n",
       "      <th>3</th>\n",
       "      <td>1</td>\n",
       "      <td>Great Service Pre-Order option is great. Loving it. :)</td>\n",
       "      <td>Great Service PreOrder option is great Loving it</td>\n",
       "      <td>[great, service, preorder, option, is, great, loving, it]</td>\n",
       "      <td>[great, service, preorder, option, great, loving]</td>\n",
       "    </tr>\n",
       "    <tr>\n",
       "      <th>4</th>\n",
       "      <td>1</td>\n",
       "      <td>Delivery service at its best....</td>\n",
       "      <td>Delivery service at its best</td>\n",
       "      <td>[delivery, service, at, its, best]</td>\n",
       "      <td>[delivery, service, best]</td>\n",
       "    </tr>\n",
       "    <tr>\n",
       "      <th>...</th>\n",
       "      <td>...</td>\n",
       "      <td>...</td>\n",
       "      <td>...</td>\n",
       "      <td>...</td>\n",
       "      <td>...</td>\n",
       "    </tr>\n",
       "    <tr>\n",
       "      <th>562</th>\n",
       "      <td>0</td>\n",
       "      <td>Food is very very bad. He gives wrong food. Very very bad.....</td>\n",
       "      <td>Food is very very bad He gives wrong food Very very bad</td>\n",
       "      <td>[food, is, very, very, bad, he, gives, wrong, food, very, very, bad]</td>\n",
       "      <td>[food, bad, gives, wrong, food, bad]</td>\n",
       "    </tr>\n",
       "    <tr>\n",
       "      <th>563</th>\n",
       "      <td>0</td>\n",
       "      <td>I ordered food almost 1 and 1/2 hour ago and still did not receive it yet. The rider just wasted my time waiting for the delivery. Worst rider ever</td>\n",
       "      <td>I ordered food almost 1 and 12 hour ago and still did not receive it yet The rider just wasted my time waiting for the delivery Worst rider ever</td>\n",
       "      <td>[i, ordered, food, almost, 1, and, 12, hour, ago, and, still, did, not, receive, it, yet, the, rider, just, wasted, my, time, waiting, for, the, delivery, worst, rider, ever]</td>\n",
       "      <td>[ordered, food, almost, 1, 12, hour, ago, still, receive, yet, rider, wasted, time, waiting, delivery, worst, rider, ever]</td>\n",
       "    </tr>\n",
       "    <tr>\n",
       "      <th>564</th>\n",
       "      <td>0</td>\n",
       "      <td>Order 140 tk and they deliver me 40 tk burger</td>\n",
       "      <td>Order 140 tk and they deliver me 40 tk burger</td>\n",
       "      <td>[order, 140, tk, and, they, deliver, me, 40, tk, burger]</td>\n",
       "      <td>[order, 140, tk, deliver, 40, tk, burger]</td>\n",
       "    </tr>\n",
       "    <tr>\n",
       "      <th>565</th>\n",
       "      <td>0</td>\n",
       "      <td>Worst rider</td>\n",
       "      <td>Worst rider</td>\n",
       "      <td>[worst, rider]</td>\n",
       "      <td>[worst, rider]</td>\n",
       "    </tr>\n",
       "    <tr>\n",
       "      <th>566</th>\n",
       "      <td>0</td>\n",
       "      <td>I was waiting a long time for food.. It was come a long time..</td>\n",
       "      <td>I was waiting a long time for food It was come a long time</td>\n",
       "      <td>[i, was, waiting, a, long, time, for, food, it, was, come, a, long, time]</td>\n",
       "      <td>[waiting, long, time, food, come, long, time]</td>\n",
       "    </tr>\n",
       "  </tbody>\n",
       "</table>\n",
       "<p>567 rows × 5 columns</p>\n",
       "</div>"
      ],
      "text/plain": [
       "     sentiment  \\\n",
       "0            1   \n",
       "1            1   \n",
       "2            1   \n",
       "3            1   \n",
       "4            1   \n",
       "..         ...   \n",
       "562          0   \n",
       "563          0   \n",
       "564          0   \n",
       "565          0   \n",
       "566          0   \n",
       "\n",
       "                                                                                                                                                                                                                                                                                                              review  \\\n",
       "0                                                                                                                                                                                                                                                                                  I got the best service from them.   \n",
       "1    Very impressive service for the customers. I love how there comes a call for further confirmation of order and also for the address, which other online delivery platforms don't have and they always create misunderstandings and problems due to that. I also love the very easy, well-designed and conven...   \n",
       "2                                                        Never had any issues with their delivery, always got my food on time with no problems. The new app UI looks good but is a little confusing at first. Only 4 stars because all my previous order history and saved addresses are gone due to the new update.   \n",
       "3                                                                                                                                                                                                                                                             Great Service Pre-Order option is great. Loving it. :)   \n",
       "4                                                                                                                                                                                                                                                                                   Delivery service at its best....   \n",
       "..                                                                                                                                                                                                                                                                                                               ...   \n",
       "562                                                                                                                                                                                                                                                   Food is very very bad. He gives wrong food. Very very bad.....   \n",
       "563                                                                                                                                                              I ordered food almost 1 and 1/2 hour ago and still did not receive it yet. The rider just wasted my time waiting for the delivery. Worst rider ever   \n",
       "564                                                                                                                                                                                                                                                                    Order 140 tk and they deliver me 40 tk burger   \n",
       "565                                                                                                                                                                                                                                                                                                      Worst rider   \n",
       "566                                                                                                                                                                                                                                                   I was waiting a long time for food.. It was come a long time..   \n",
       "\n",
       "                                                                                                                                                                                                                                                                                                remove_punc  \\\n",
       "0                                                                                                                                                                                                                                                                          I got the best service from them   \n",
       "1    Very impressive service for the customers I love how there comes a call for further confirmation of order and also for the address which other online delivery platforms dont have and they always create misunderstandings and problems due to that I also love the very easy welldesigned and conven   \n",
       "2                                                   Never had any issues with their delivery always got my food on time with no problems The new app UI looks good but is a little confusing at first Only 4 stars because all my previous order history and saved addresses are gone due to the new update   \n",
       "3                                                                                                                                                                                                                                                         Great Service PreOrder option is great Loving it    \n",
       "4                                                                                                                                                                                                                                                                              Delivery service at its best   \n",
       "..                                                                                                                                                                                                                                                                                                      ...   \n",
       "562                                                                                                                                                                                                                                                 Food is very very bad He gives wrong food Very very bad   \n",
       "563                                                                                                                                                        I ordered food almost 1 and 12 hour ago and still did not receive it yet The rider just wasted my time waiting for the delivery Worst rider ever   \n",
       "564                                                                                                                                                                                                                                                           Order 140 tk and they deliver me 40 tk burger   \n",
       "565                                                                                                                                                                                                                                                                                             Worst rider   \n",
       "566                                                                                                                                                                                                                                              I was waiting a long time for food It was come a long time   \n",
       "\n",
       "                                                                                                                                                                                                                                                                                                                                                    tokenized  \\\n",
       "0                                                                                                                                                                                                                                                                                                                    [i, got, the, best, service, from, them]   \n",
       "1    [very, impressive, service, for, the, customers, i, love, how, there, comes, a, call, for, further, confirmation, of, order, and, also, for, the, address, which, other, online, delivery, platforms, dont, have, and, they, always, create, misunderstandings, and, problems, due, to, that, i, also, love, the, very, easy, welldesigned, and, conven]   \n",
       "2                                                    [never, had, any, issues, with, their, delivery, always, got, my, food, on, time, with, no, problems, the, new, app, ui, looks, good, but, is, a, little, confusing, at, first, only, 4, stars, because, all, my, previous, order, history, and, saved, addresses, are, gone, due, to, the, new, update]   \n",
       "3                                                                                                                                                                                                                                                                                                   [great, service, preorder, option, is, great, loving, it]   \n",
       "4                                                                                                                                                                                                                                                                                                                          [delivery, service, at, its, best]   \n",
       "..                                                                                                                                                                                                                                                                                                                                                        ...   \n",
       "562                                                                                                                                                                                                                                                                                      [food, is, very, very, bad, he, gives, wrong, food, very, very, bad]   \n",
       "563                                                                                                                                                                            [i, ordered, food, almost, 1, and, 12, hour, ago, and, still, did, not, receive, it, yet, the, rider, just, wasted, my, time, waiting, for, the, delivery, worst, rider, ever]   \n",
       "564                                                                                                                                                                                                                                                                                                  [order, 140, tk, and, they, deliver, me, 40, tk, burger]   \n",
       "565                                                                                                                                                                                                                                                                                                                                            [worst, rider]   \n",
       "566                                                                                                                                                                                                                                                                                 [i, was, waiting, a, long, time, for, food, it, was, come, a, long, time]   \n",
       "\n",
       "                                                                                                                                                                                                                remove_sw  \n",
       "0                                                                                                                                                                                                    [got, best, service]  \n",
       "1    [impressive, service, customers, love, comes, call, confirmation, order, also, address, online, delivery, platforms, dont, always, create, misunderstandings, problems, due, also, love, easy, welldesigned, conven]  \n",
       "2                         [never, issues, delivery, always, got, food, time, problems, new, app, ui, looks, good, little, confusing, first, 4, stars, previous, order, history, saved, addresses, gone, due, new, update]  \n",
       "3                                                                                                                                                                       [great, service, preorder, option, great, loving]  \n",
       "4                                                                                                                                                                                               [delivery, service, best]  \n",
       "..                                                                                                                                                                                                                    ...  \n",
       "562                                                                                                                                                                                  [food, bad, gives, wrong, food, bad]  \n",
       "563                                                                                            [ordered, food, almost, 1, 12, hour, ago, still, receive, yet, rider, wasted, time, waiting, delivery, worst, rider, ever]  \n",
       "564                                                                                                                                                                             [order, 140, tk, deliver, 40, tk, burger]  \n",
       "565                                                                                                                                                                                                        [worst, rider]  \n",
       "566                                                                                                                                                                         [waiting, long, time, food, come, long, time]  \n",
       "\n",
       "[567 rows x 5 columns]"
      ]
     },
     "execution_count": 503,
     "metadata": {},
     "output_type": "execute_result"
    }
   ],
   "source": [
    "def remove_stopwords(txt_tokenized):   \n",
    "    txt_clean = [word for word in txt_tokenized if word not in stopwords] \n",
    "    return txt_clean \n",
    "df['remove_sw'] = df['tokenized'].apply(lambda x: remove_stopwords(x)) \n",
    "df"
   ]
  },
  {
   "cell_type": "markdown",
   "metadata": {},
   "source": [
    "# Lemmatization"
   ]
  },
  {
   "cell_type": "code",
   "execution_count": 504,
   "metadata": {},
   "outputs": [
    {
     "data": {
      "text/plain": [
       "['__class__',\n",
       " '__delattr__',\n",
       " '__dict__',\n",
       " '__dir__',\n",
       " '__doc__',\n",
       " '__eq__',\n",
       " '__format__',\n",
       " '__ge__',\n",
       " '__getattribute__',\n",
       " '__gt__',\n",
       " '__hash__',\n",
       " '__init__',\n",
       " '__init_subclass__',\n",
       " '__le__',\n",
       " '__lt__',\n",
       " '__module__',\n",
       " '__ne__',\n",
       " '__new__',\n",
       " '__reduce__',\n",
       " '__reduce_ex__',\n",
       " '__repr__',\n",
       " '__setattr__',\n",
       " '__sizeof__',\n",
       " '__str__',\n",
       " '__subclasshook__',\n",
       " '__weakref__',\n",
       " 'lemmatize']"
      ]
     },
     "execution_count": 504,
     "metadata": {},
     "output_type": "execute_result"
    }
   ],
   "source": [
    "import nltk \n",
    "wn = nltk.WordNetLemmatizer()\n",
    "ps = nltk.PorterStemmer()\n",
    "\n",
    "dir(wn)"
   ]
  },
  {
   "cell_type": "code",
   "execution_count": 505,
   "metadata": {},
   "outputs": [
    {
     "data": {
      "text/html": [
       "<div>\n",
       "<style scoped>\n",
       "    .dataframe tbody tr th:only-of-type {\n",
       "        vertical-align: middle;\n",
       "    }\n",
       "\n",
       "    .dataframe tbody tr th {\n",
       "        vertical-align: top;\n",
       "    }\n",
       "\n",
       "    .dataframe thead th {\n",
       "        text-align: right;\n",
       "    }\n",
       "</style>\n",
       "<table border=\"1\" class=\"dataframe\">\n",
       "  <thead>\n",
       "    <tr style=\"text-align: right;\">\n",
       "      <th></th>\n",
       "      <th>sentiment</th>\n",
       "      <th>review</th>\n",
       "      <th>remove_punc</th>\n",
       "      <th>tokenized</th>\n",
       "      <th>remove_sw</th>\n",
       "      <th>lemmatize</th>\n",
       "    </tr>\n",
       "  </thead>\n",
       "  <tbody>\n",
       "    <tr>\n",
       "      <th>0</th>\n",
       "      <td>1</td>\n",
       "      <td>I got the best service from them.</td>\n",
       "      <td>I got the best service from them</td>\n",
       "      <td>[i, got, the, best, service, from, them]</td>\n",
       "      <td>[got, best, service]</td>\n",
       "      <td>got best service</td>\n",
       "    </tr>\n",
       "    <tr>\n",
       "      <th>1</th>\n",
       "      <td>1</td>\n",
       "      <td>Very impressive service for the customers. I love how there comes a call for further confirmation of order and also for the address, which other online delivery platforms don't have and they always create misunderstandings and problems due to that. I also love the very easy, well-designed and conven...</td>\n",
       "      <td>Very impressive service for the customers I love how there comes a call for further confirmation of order and also for the address which other online delivery platforms dont have and they always create misunderstandings and problems due to that I also love the very easy welldesigned and conven</td>\n",
       "      <td>[very, impressive, service, for, the, customers, i, love, how, there, comes, a, call, for, further, confirmation, of, order, and, also, for, the, address, which, other, online, delivery, platforms, dont, have, and, they, always, create, misunderstandings, and, problems, due, to, that, i, also, love, the, very, easy, welldesigned, and, conven]</td>\n",
       "      <td>[impressive, service, customers, love, comes, call, confirmation, order, also, address, online, delivery, platforms, dont, always, create, misunderstandings, problems, due, also, love, easy, welldesigned, conven]</td>\n",
       "      <td>impressive service customer love come call confirmation order also address online delivery platform dont always create misunderstanding problem due also love easy welldesigned conven</td>\n",
       "    </tr>\n",
       "    <tr>\n",
       "      <th>2</th>\n",
       "      <td>1</td>\n",
       "      <td>Never had any issues with their delivery, always got my food on time with no problems. The new app UI looks good but is a little confusing at first. Only 4 stars because all my previous order history and saved addresses are gone due to the new update.</td>\n",
       "      <td>Never had any issues with their delivery always got my food on time with no problems The new app UI looks good but is a little confusing at first Only 4 stars because all my previous order history and saved addresses are gone due to the new update</td>\n",
       "      <td>[never, had, any, issues, with, their, delivery, always, got, my, food, on, time, with, no, problems, the, new, app, ui, looks, good, but, is, a, little, confusing, at, first, only, 4, stars, because, all, my, previous, order, history, and, saved, addresses, are, gone, due, to, the, new, update]</td>\n",
       "      <td>[never, issues, delivery, always, got, food, time, problems, new, app, ui, looks, good, little, confusing, first, 4, stars, previous, order, history, saved, addresses, gone, due, new, update]</td>\n",
       "      <td>never issue delivery always got food time problem new app ui look good little confusing first 4 star previous order history saved address gone due new update</td>\n",
       "    </tr>\n",
       "    <tr>\n",
       "      <th>3</th>\n",
       "      <td>1</td>\n",
       "      <td>Great Service Pre-Order option is great. Loving it. :)</td>\n",
       "      <td>Great Service PreOrder option is great Loving it</td>\n",
       "      <td>[great, service, preorder, option, is, great, loving, it]</td>\n",
       "      <td>[great, service, preorder, option, great, loving]</td>\n",
       "      <td>great service preorder option great loving</td>\n",
       "    </tr>\n",
       "    <tr>\n",
       "      <th>4</th>\n",
       "      <td>1</td>\n",
       "      <td>Delivery service at its best....</td>\n",
       "      <td>Delivery service at its best</td>\n",
       "      <td>[delivery, service, at, its, best]</td>\n",
       "      <td>[delivery, service, best]</td>\n",
       "      <td>delivery service best</td>\n",
       "    </tr>\n",
       "    <tr>\n",
       "      <th>...</th>\n",
       "      <td>...</td>\n",
       "      <td>...</td>\n",
       "      <td>...</td>\n",
       "      <td>...</td>\n",
       "      <td>...</td>\n",
       "      <td>...</td>\n",
       "    </tr>\n",
       "    <tr>\n",
       "      <th>562</th>\n",
       "      <td>0</td>\n",
       "      <td>Food is very very bad. He gives wrong food. Very very bad.....</td>\n",
       "      <td>Food is very very bad He gives wrong food Very very bad</td>\n",
       "      <td>[food, is, very, very, bad, he, gives, wrong, food, very, very, bad]</td>\n",
       "      <td>[food, bad, gives, wrong, food, bad]</td>\n",
       "      <td>food bad give wrong food bad</td>\n",
       "    </tr>\n",
       "    <tr>\n",
       "      <th>563</th>\n",
       "      <td>0</td>\n",
       "      <td>I ordered food almost 1 and 1/2 hour ago and still did not receive it yet. The rider just wasted my time waiting for the delivery. Worst rider ever</td>\n",
       "      <td>I ordered food almost 1 and 12 hour ago and still did not receive it yet The rider just wasted my time waiting for the delivery Worst rider ever</td>\n",
       "      <td>[i, ordered, food, almost, 1, and, 12, hour, ago, and, still, did, not, receive, it, yet, the, rider, just, wasted, my, time, waiting, for, the, delivery, worst, rider, ever]</td>\n",
       "      <td>[ordered, food, almost, 1, 12, hour, ago, still, receive, yet, rider, wasted, time, waiting, delivery, worst, rider, ever]</td>\n",
       "      <td>ordered food almost 1 12 hour ago still receive yet rider wasted time waiting delivery worst rider ever</td>\n",
       "    </tr>\n",
       "    <tr>\n",
       "      <th>564</th>\n",
       "      <td>0</td>\n",
       "      <td>Order 140 tk and they deliver me 40 tk burger</td>\n",
       "      <td>Order 140 tk and they deliver me 40 tk burger</td>\n",
       "      <td>[order, 140, tk, and, they, deliver, me, 40, tk, burger]</td>\n",
       "      <td>[order, 140, tk, deliver, 40, tk, burger]</td>\n",
       "      <td>order 140 tk deliver 40 tk burger</td>\n",
       "    </tr>\n",
       "    <tr>\n",
       "      <th>565</th>\n",
       "      <td>0</td>\n",
       "      <td>Worst rider</td>\n",
       "      <td>Worst rider</td>\n",
       "      <td>[worst, rider]</td>\n",
       "      <td>[worst, rider]</td>\n",
       "      <td>worst rider</td>\n",
       "    </tr>\n",
       "    <tr>\n",
       "      <th>566</th>\n",
       "      <td>0</td>\n",
       "      <td>I was waiting a long time for food.. It was come a long time..</td>\n",
       "      <td>I was waiting a long time for food It was come a long time</td>\n",
       "      <td>[i, was, waiting, a, long, time, for, food, it, was, come, a, long, time]</td>\n",
       "      <td>[waiting, long, time, food, come, long, time]</td>\n",
       "      <td>waiting long time food come long time</td>\n",
       "    </tr>\n",
       "  </tbody>\n",
       "</table>\n",
       "<p>567 rows × 6 columns</p>\n",
       "</div>"
      ],
      "text/plain": [
       "     sentiment  \\\n",
       "0            1   \n",
       "1            1   \n",
       "2            1   \n",
       "3            1   \n",
       "4            1   \n",
       "..         ...   \n",
       "562          0   \n",
       "563          0   \n",
       "564          0   \n",
       "565          0   \n",
       "566          0   \n",
       "\n",
       "                                                                                                                                                                                                                                                                                                              review  \\\n",
       "0                                                                                                                                                                                                                                                                                  I got the best service from them.   \n",
       "1    Very impressive service for the customers. I love how there comes a call for further confirmation of order and also for the address, which other online delivery platforms don't have and they always create misunderstandings and problems due to that. I also love the very easy, well-designed and conven...   \n",
       "2                                                        Never had any issues with their delivery, always got my food on time with no problems. The new app UI looks good but is a little confusing at first. Only 4 stars because all my previous order history and saved addresses are gone due to the new update.   \n",
       "3                                                                                                                                                                                                                                                             Great Service Pre-Order option is great. Loving it. :)   \n",
       "4                                                                                                                                                                                                                                                                                   Delivery service at its best....   \n",
       "..                                                                                                                                                                                                                                                                                                               ...   \n",
       "562                                                                                                                                                                                                                                                   Food is very very bad. He gives wrong food. Very very bad.....   \n",
       "563                                                                                                                                                              I ordered food almost 1 and 1/2 hour ago and still did not receive it yet. The rider just wasted my time waiting for the delivery. Worst rider ever   \n",
       "564                                                                                                                                                                                                                                                                    Order 140 tk and they deliver me 40 tk burger   \n",
       "565                                                                                                                                                                                                                                                                                                      Worst rider   \n",
       "566                                                                                                                                                                                                                                                   I was waiting a long time for food.. It was come a long time..   \n",
       "\n",
       "                                                                                                                                                                                                                                                                                                remove_punc  \\\n",
       "0                                                                                                                                                                                                                                                                          I got the best service from them   \n",
       "1    Very impressive service for the customers I love how there comes a call for further confirmation of order and also for the address which other online delivery platforms dont have and they always create misunderstandings and problems due to that I also love the very easy welldesigned and conven   \n",
       "2                                                   Never had any issues with their delivery always got my food on time with no problems The new app UI looks good but is a little confusing at first Only 4 stars because all my previous order history and saved addresses are gone due to the new update   \n",
       "3                                                                                                                                                                                                                                                         Great Service PreOrder option is great Loving it    \n",
       "4                                                                                                                                                                                                                                                                              Delivery service at its best   \n",
       "..                                                                                                                                                                                                                                                                                                      ...   \n",
       "562                                                                                                                                                                                                                                                 Food is very very bad He gives wrong food Very very bad   \n",
       "563                                                                                                                                                        I ordered food almost 1 and 12 hour ago and still did not receive it yet The rider just wasted my time waiting for the delivery Worst rider ever   \n",
       "564                                                                                                                                                                                                                                                           Order 140 tk and they deliver me 40 tk burger   \n",
       "565                                                                                                                                                                                                                                                                                             Worst rider   \n",
       "566                                                                                                                                                                                                                                              I was waiting a long time for food It was come a long time   \n",
       "\n",
       "                                                                                                                                                                                                                                                                                                                                                    tokenized  \\\n",
       "0                                                                                                                                                                                                                                                                                                                    [i, got, the, best, service, from, them]   \n",
       "1    [very, impressive, service, for, the, customers, i, love, how, there, comes, a, call, for, further, confirmation, of, order, and, also, for, the, address, which, other, online, delivery, platforms, dont, have, and, they, always, create, misunderstandings, and, problems, due, to, that, i, also, love, the, very, easy, welldesigned, and, conven]   \n",
       "2                                                    [never, had, any, issues, with, their, delivery, always, got, my, food, on, time, with, no, problems, the, new, app, ui, looks, good, but, is, a, little, confusing, at, first, only, 4, stars, because, all, my, previous, order, history, and, saved, addresses, are, gone, due, to, the, new, update]   \n",
       "3                                                                                                                                                                                                                                                                                                   [great, service, preorder, option, is, great, loving, it]   \n",
       "4                                                                                                                                                                                                                                                                                                                          [delivery, service, at, its, best]   \n",
       "..                                                                                                                                                                                                                                                                                                                                                        ...   \n",
       "562                                                                                                                                                                                                                                                                                      [food, is, very, very, bad, he, gives, wrong, food, very, very, bad]   \n",
       "563                                                                                                                                                                            [i, ordered, food, almost, 1, and, 12, hour, ago, and, still, did, not, receive, it, yet, the, rider, just, wasted, my, time, waiting, for, the, delivery, worst, rider, ever]   \n",
       "564                                                                                                                                                                                                                                                                                                  [order, 140, tk, and, they, deliver, me, 40, tk, burger]   \n",
       "565                                                                                                                                                                                                                                                                                                                                            [worst, rider]   \n",
       "566                                                                                                                                                                                                                                                                                 [i, was, waiting, a, long, time, for, food, it, was, come, a, long, time]   \n",
       "\n",
       "                                                                                                                                                                                                                remove_sw  \\\n",
       "0                                                                                                                                                                                                    [got, best, service]   \n",
       "1    [impressive, service, customers, love, comes, call, confirmation, order, also, address, online, delivery, platforms, dont, always, create, misunderstandings, problems, due, also, love, easy, welldesigned, conven]   \n",
       "2                         [never, issues, delivery, always, got, food, time, problems, new, app, ui, looks, good, little, confusing, first, 4, stars, previous, order, history, saved, addresses, gone, due, new, update]   \n",
       "3                                                                                                                                                                       [great, service, preorder, option, great, loving]   \n",
       "4                                                                                                                                                                                               [delivery, service, best]   \n",
       "..                                                                                                                                                                                                                    ...   \n",
       "562                                                                                                                                                                                  [food, bad, gives, wrong, food, bad]   \n",
       "563                                                                                            [ordered, food, almost, 1, 12, hour, ago, still, receive, yet, rider, wasted, time, waiting, delivery, worst, rider, ever]   \n",
       "564                                                                                                                                                                             [order, 140, tk, deliver, 40, tk, burger]   \n",
       "565                                                                                                                                                                                                        [worst, rider]   \n",
       "566                                                                                                                                                                         [waiting, long, time, food, come, long, time]   \n",
       "\n",
       "                                                                                                                                                                                  lemmatize  \n",
       "0                                                                                                                                                                          got best service  \n",
       "1    impressive service customer love come call confirmation order also address online delivery platform dont always create misunderstanding problem due also love easy welldesigned conven  \n",
       "2                             never issue delivery always got food time problem new app ui look good little confusing first 4 star previous order history saved address gone due new update  \n",
       "3                                                                                                                                                great service preorder option great loving  \n",
       "4                                                                                                                                                                     delivery service best  \n",
       "..                                                                                                                                                                                      ...  \n",
       "562                                                                                                                                                            food bad give wrong food bad  \n",
       "563                                                                                 ordered food almost 1 12 hour ago still receive yet rider wasted time waiting delivery worst rider ever  \n",
       "564                                                                                                                                                       order 140 tk deliver 40 tk burger  \n",
       "565                                                                                                                                                                             worst rider  \n",
       "566                                                                                                                                                   waiting long time food come long time  \n",
       "\n",
       "[567 rows x 6 columns]"
      ]
     },
     "execution_count": 505,
     "metadata": {},
     "output_type": "execute_result"
    }
   ],
   "source": [
    "def lemmatization(token_txt):   \n",
    "    text = [wn.lemmatize(word) for word in token_txt]\n",
    "    text=\" \".join(text)\n",
    "    return text \n",
    "df['lemmatize'] = df['remove_sw'].apply(lambda x: lemmatization(x)) \n",
    "df"
   ]
  },
  {
   "cell_type": "code",
   "execution_count": 506,
   "metadata": {},
   "outputs": [
    {
     "data": {
      "text/html": [
       "<div>\n",
       "<style scoped>\n",
       "    .dataframe tbody tr th:only-of-type {\n",
       "        vertical-align: middle;\n",
       "    }\n",
       "\n",
       "    .dataframe tbody tr th {\n",
       "        vertical-align: top;\n",
       "    }\n",
       "\n",
       "    .dataframe thead th {\n",
       "        text-align: right;\n",
       "    }\n",
       "</style>\n",
       "<table border=\"1\" class=\"dataframe\">\n",
       "  <thead>\n",
       "    <tr style=\"text-align: right;\">\n",
       "      <th></th>\n",
       "      <th>sentiment</th>\n",
       "      <th>review</th>\n",
       "      <th>remove_punc</th>\n",
       "      <th>tokenized</th>\n",
       "      <th>remove_sw</th>\n",
       "      <th>lemmatize</th>\n",
       "      <th>emoji</th>\n",
       "    </tr>\n",
       "  </thead>\n",
       "  <tbody>\n",
       "    <tr>\n",
       "      <th>0</th>\n",
       "      <td>1</td>\n",
       "      <td>I got the best service from them.</td>\n",
       "      <td>I got the best service from them</td>\n",
       "      <td>[i, got, the, best, service, from, them]</td>\n",
       "      <td>[got, best, service]</td>\n",
       "      <td>got best service</td>\n",
       "      <td>got best service</td>\n",
       "    </tr>\n",
       "    <tr>\n",
       "      <th>1</th>\n",
       "      <td>1</td>\n",
       "      <td>Very impressive service for the customers. I love how there comes a call for further confirmation of order and also for the address, which other online delivery platforms don't have and they always create misunderstandings and problems due to that. I also love the very easy, well-designed and conven...</td>\n",
       "      <td>Very impressive service for the customers I love how there comes a call for further confirmation of order and also for the address which other online delivery platforms dont have and they always create misunderstandings and problems due to that I also love the very easy welldesigned and conven</td>\n",
       "      <td>[very, impressive, service, for, the, customers, i, love, how, there, comes, a, call, for, further, confirmation, of, order, and, also, for, the, address, which, other, online, delivery, platforms, dont, have, and, they, always, create, misunderstandings, and, problems, due, to, that, i, also, love, the, very, easy, welldesigned, and, conven]</td>\n",
       "      <td>[impressive, service, customers, love, comes, call, confirmation, order, also, address, online, delivery, platforms, dont, always, create, misunderstandings, problems, due, also, love, easy, welldesigned, conven]</td>\n",
       "      <td>impressive service customer love come call confirmation order also address online delivery platform dont always create misunderstanding problem due also love easy welldesigned conven</td>\n",
       "      <td>impressive service customer love come call confirmation order also address online delivery platform dont always create misunderstanding problem due also love easy welldesigned conven</td>\n",
       "    </tr>\n",
       "    <tr>\n",
       "      <th>2</th>\n",
       "      <td>1</td>\n",
       "      <td>Never had any issues with their delivery, always got my food on time with no problems. The new app UI looks good but is a little confusing at first. Only 4 stars because all my previous order history and saved addresses are gone due to the new update.</td>\n",
       "      <td>Never had any issues with their delivery always got my food on time with no problems The new app UI looks good but is a little confusing at first Only 4 stars because all my previous order history and saved addresses are gone due to the new update</td>\n",
       "      <td>[never, had, any, issues, with, their, delivery, always, got, my, food, on, time, with, no, problems, the, new, app, ui, looks, good, but, is, a, little, confusing, at, first, only, 4, stars, because, all, my, previous, order, history, and, saved, addresses, are, gone, due, to, the, new, update]</td>\n",
       "      <td>[never, issues, delivery, always, got, food, time, problems, new, app, ui, looks, good, little, confusing, first, 4, stars, previous, order, history, saved, addresses, gone, due, new, update]</td>\n",
       "      <td>never issue delivery always got food time problem new app ui look good little confusing first 4 star previous order history saved address gone due new update</td>\n",
       "      <td>never issue delivery always got food time problem new app ui look good little confusing first 4 star previous order history saved address gone due new update</td>\n",
       "    </tr>\n",
       "    <tr>\n",
       "      <th>3</th>\n",
       "      <td>1</td>\n",
       "      <td>Great Service Pre-Order option is great. Loving it. :)</td>\n",
       "      <td>Great Service PreOrder option is great Loving it</td>\n",
       "      <td>[great, service, preorder, option, is, great, loving, it]</td>\n",
       "      <td>[great, service, preorder, option, great, loving]</td>\n",
       "      <td>great service preorder option great loving</td>\n",
       "      <td>great service preorder option great loving</td>\n",
       "    </tr>\n",
       "    <tr>\n",
       "      <th>4</th>\n",
       "      <td>1</td>\n",
       "      <td>Delivery service at its best....</td>\n",
       "      <td>Delivery service at its best</td>\n",
       "      <td>[delivery, service, at, its, best]</td>\n",
       "      <td>[delivery, service, best]</td>\n",
       "      <td>delivery service best</td>\n",
       "      <td>delivery service best</td>\n",
       "    </tr>\n",
       "    <tr>\n",
       "      <th>...</th>\n",
       "      <td>...</td>\n",
       "      <td>...</td>\n",
       "      <td>...</td>\n",
       "      <td>...</td>\n",
       "      <td>...</td>\n",
       "      <td>...</td>\n",
       "      <td>...</td>\n",
       "    </tr>\n",
       "    <tr>\n",
       "      <th>562</th>\n",
       "      <td>0</td>\n",
       "      <td>Food is very very bad. He gives wrong food. Very very bad.....</td>\n",
       "      <td>Food is very very bad He gives wrong food Very very bad</td>\n",
       "      <td>[food, is, very, very, bad, he, gives, wrong, food, very, very, bad]</td>\n",
       "      <td>[food, bad, gives, wrong, food, bad]</td>\n",
       "      <td>food bad give wrong food bad</td>\n",
       "      <td>food bad give wrong food bad</td>\n",
       "    </tr>\n",
       "    <tr>\n",
       "      <th>563</th>\n",
       "      <td>0</td>\n",
       "      <td>I ordered food almost 1 and 1/2 hour ago and still did not receive it yet. The rider just wasted my time waiting for the delivery. Worst rider ever</td>\n",
       "      <td>I ordered food almost 1 and 12 hour ago and still did not receive it yet The rider just wasted my time waiting for the delivery Worst rider ever</td>\n",
       "      <td>[i, ordered, food, almost, 1, and, 12, hour, ago, and, still, did, not, receive, it, yet, the, rider, just, wasted, my, time, waiting, for, the, delivery, worst, rider, ever]</td>\n",
       "      <td>[ordered, food, almost, 1, 12, hour, ago, still, receive, yet, rider, wasted, time, waiting, delivery, worst, rider, ever]</td>\n",
       "      <td>ordered food almost 1 12 hour ago still receive yet rider wasted time waiting delivery worst rider ever</td>\n",
       "      <td>ordered food almost 1 12 hour ago still receive yet rider wasted time waiting delivery worst rider ever</td>\n",
       "    </tr>\n",
       "    <tr>\n",
       "      <th>564</th>\n",
       "      <td>0</td>\n",
       "      <td>Order 140 tk and they deliver me 40 tk burger</td>\n",
       "      <td>Order 140 tk and they deliver me 40 tk burger</td>\n",
       "      <td>[order, 140, tk, and, they, deliver, me, 40, tk, burger]</td>\n",
       "      <td>[order, 140, tk, deliver, 40, tk, burger]</td>\n",
       "      <td>order 140 tk deliver 40 tk burger</td>\n",
       "      <td>order 140 tk deliver 40 tk burger</td>\n",
       "    </tr>\n",
       "    <tr>\n",
       "      <th>565</th>\n",
       "      <td>0</td>\n",
       "      <td>Worst rider</td>\n",
       "      <td>Worst rider</td>\n",
       "      <td>[worst, rider]</td>\n",
       "      <td>[worst, rider]</td>\n",
       "      <td>worst rider</td>\n",
       "      <td>worst rider</td>\n",
       "    </tr>\n",
       "    <tr>\n",
       "      <th>566</th>\n",
       "      <td>0</td>\n",
       "      <td>I was waiting a long time for food.. It was come a long time..</td>\n",
       "      <td>I was waiting a long time for food It was come a long time</td>\n",
       "      <td>[i, was, waiting, a, long, time, for, food, it, was, come, a, long, time]</td>\n",
       "      <td>[waiting, long, time, food, come, long, time]</td>\n",
       "      <td>waiting long time food come long time</td>\n",
       "      <td>waiting long time food come long time</td>\n",
       "    </tr>\n",
       "  </tbody>\n",
       "</table>\n",
       "<p>567 rows × 7 columns</p>\n",
       "</div>"
      ],
      "text/plain": [
       "     sentiment  \\\n",
       "0            1   \n",
       "1            1   \n",
       "2            1   \n",
       "3            1   \n",
       "4            1   \n",
       "..         ...   \n",
       "562          0   \n",
       "563          0   \n",
       "564          0   \n",
       "565          0   \n",
       "566          0   \n",
       "\n",
       "                                                                                                                                                                                                                                                                                                              review  \\\n",
       "0                                                                                                                                                                                                                                                                                  I got the best service from them.   \n",
       "1    Very impressive service for the customers. I love how there comes a call for further confirmation of order and also for the address, which other online delivery platforms don't have and they always create misunderstandings and problems due to that. I also love the very easy, well-designed and conven...   \n",
       "2                                                        Never had any issues with their delivery, always got my food on time with no problems. The new app UI looks good but is a little confusing at first. Only 4 stars because all my previous order history and saved addresses are gone due to the new update.   \n",
       "3                                                                                                                                                                                                                                                             Great Service Pre-Order option is great. Loving it. :)   \n",
       "4                                                                                                                                                                                                                                                                                   Delivery service at its best....   \n",
       "..                                                                                                                                                                                                                                                                                                               ...   \n",
       "562                                                                                                                                                                                                                                                   Food is very very bad. He gives wrong food. Very very bad.....   \n",
       "563                                                                                                                                                              I ordered food almost 1 and 1/2 hour ago and still did not receive it yet. The rider just wasted my time waiting for the delivery. Worst rider ever   \n",
       "564                                                                                                                                                                                                                                                                    Order 140 tk and they deliver me 40 tk burger   \n",
       "565                                                                                                                                                                                                                                                                                                      Worst rider   \n",
       "566                                                                                                                                                                                                                                                   I was waiting a long time for food.. It was come a long time..   \n",
       "\n",
       "                                                                                                                                                                                                                                                                                                remove_punc  \\\n",
       "0                                                                                                                                                                                                                                                                          I got the best service from them   \n",
       "1    Very impressive service for the customers I love how there comes a call for further confirmation of order and also for the address which other online delivery platforms dont have and they always create misunderstandings and problems due to that I also love the very easy welldesigned and conven   \n",
       "2                                                   Never had any issues with their delivery always got my food on time with no problems The new app UI looks good but is a little confusing at first Only 4 stars because all my previous order history and saved addresses are gone due to the new update   \n",
       "3                                                                                                                                                                                                                                                         Great Service PreOrder option is great Loving it    \n",
       "4                                                                                                                                                                                                                                                                              Delivery service at its best   \n",
       "..                                                                                                                                                                                                                                                                                                      ...   \n",
       "562                                                                                                                                                                                                                                                 Food is very very bad He gives wrong food Very very bad   \n",
       "563                                                                                                                                                        I ordered food almost 1 and 12 hour ago and still did not receive it yet The rider just wasted my time waiting for the delivery Worst rider ever   \n",
       "564                                                                                                                                                                                                                                                           Order 140 tk and they deliver me 40 tk burger   \n",
       "565                                                                                                                                                                                                                                                                                             Worst rider   \n",
       "566                                                                                                                                                                                                                                              I was waiting a long time for food It was come a long time   \n",
       "\n",
       "                                                                                                                                                                                                                                                                                                                                                    tokenized  \\\n",
       "0                                                                                                                                                                                                                                                                                                                    [i, got, the, best, service, from, them]   \n",
       "1    [very, impressive, service, for, the, customers, i, love, how, there, comes, a, call, for, further, confirmation, of, order, and, also, for, the, address, which, other, online, delivery, platforms, dont, have, and, they, always, create, misunderstandings, and, problems, due, to, that, i, also, love, the, very, easy, welldesigned, and, conven]   \n",
       "2                                                    [never, had, any, issues, with, their, delivery, always, got, my, food, on, time, with, no, problems, the, new, app, ui, looks, good, but, is, a, little, confusing, at, first, only, 4, stars, because, all, my, previous, order, history, and, saved, addresses, are, gone, due, to, the, new, update]   \n",
       "3                                                                                                                                                                                                                                                                                                   [great, service, preorder, option, is, great, loving, it]   \n",
       "4                                                                                                                                                                                                                                                                                                                          [delivery, service, at, its, best]   \n",
       "..                                                                                                                                                                                                                                                                                                                                                        ...   \n",
       "562                                                                                                                                                                                                                                                                                      [food, is, very, very, bad, he, gives, wrong, food, very, very, bad]   \n",
       "563                                                                                                                                                                            [i, ordered, food, almost, 1, and, 12, hour, ago, and, still, did, not, receive, it, yet, the, rider, just, wasted, my, time, waiting, for, the, delivery, worst, rider, ever]   \n",
       "564                                                                                                                                                                                                                                                                                                  [order, 140, tk, and, they, deliver, me, 40, tk, burger]   \n",
       "565                                                                                                                                                                                                                                                                                                                                            [worst, rider]   \n",
       "566                                                                                                                                                                                                                                                                                 [i, was, waiting, a, long, time, for, food, it, was, come, a, long, time]   \n",
       "\n",
       "                                                                                                                                                                                                                remove_sw  \\\n",
       "0                                                                                                                                                                                                    [got, best, service]   \n",
       "1    [impressive, service, customers, love, comes, call, confirmation, order, also, address, online, delivery, platforms, dont, always, create, misunderstandings, problems, due, also, love, easy, welldesigned, conven]   \n",
       "2                         [never, issues, delivery, always, got, food, time, problems, new, app, ui, looks, good, little, confusing, first, 4, stars, previous, order, history, saved, addresses, gone, due, new, update]   \n",
       "3                                                                                                                                                                       [great, service, preorder, option, great, loving]   \n",
       "4                                                                                                                                                                                               [delivery, service, best]   \n",
       "..                                                                                                                                                                                                                    ...   \n",
       "562                                                                                                                                                                                  [food, bad, gives, wrong, food, bad]   \n",
       "563                                                                                            [ordered, food, almost, 1, 12, hour, ago, still, receive, yet, rider, wasted, time, waiting, delivery, worst, rider, ever]   \n",
       "564                                                                                                                                                                             [order, 140, tk, deliver, 40, tk, burger]   \n",
       "565                                                                                                                                                                                                        [worst, rider]   \n",
       "566                                                                                                                                                                         [waiting, long, time, food, come, long, time]   \n",
       "\n",
       "                                                                                                                                                                                  lemmatize  \\\n",
       "0                                                                                                                                                                          got best service   \n",
       "1    impressive service customer love come call confirmation order also address online delivery platform dont always create misunderstanding problem due also love easy welldesigned conven   \n",
       "2                             never issue delivery always got food time problem new app ui look good little confusing first 4 star previous order history saved address gone due new update   \n",
       "3                                                                                                                                                great service preorder option great loving   \n",
       "4                                                                                                                                                                     delivery service best   \n",
       "..                                                                                                                                                                                      ...   \n",
       "562                                                                                                                                                            food bad give wrong food bad   \n",
       "563                                                                                 ordered food almost 1 12 hour ago still receive yet rider wasted time waiting delivery worst rider ever   \n",
       "564                                                                                                                                                       order 140 tk deliver 40 tk burger   \n",
       "565                                                                                                                                                                             worst rider   \n",
       "566                                                                                                                                                   waiting long time food come long time   \n",
       "\n",
       "                                                                                                                                                                                      emoji  \n",
       "0                                                                                                                                                                          got best service  \n",
       "1    impressive service customer love come call confirmation order also address online delivery platform dont always create misunderstanding problem due also love easy welldesigned conven  \n",
       "2                             never issue delivery always got food time problem new app ui look good little confusing first 4 star previous order history saved address gone due new update  \n",
       "3                                                                                                                                                great service preorder option great loving  \n",
       "4                                                                                                                                                                     delivery service best  \n",
       "..                                                                                                                                                                                      ...  \n",
       "562                                                                                                                                                            food bad give wrong food bad  \n",
       "563                                                                                 ordered food almost 1 12 hour ago still receive yet rider wasted time waiting delivery worst rider ever  \n",
       "564                                                                                                                                                       order 140 tk deliver 40 tk burger  \n",
       "565                                                                                                                                                                             worst rider  \n",
       "566                                                                                                                                                   waiting long time food come long time  \n",
       "\n",
       "[567 rows x 7 columns]"
      ]
     },
     "execution_count": 506,
     "metadata": {},
     "output_type": "execute_result"
    }
   ],
   "source": [
    "import re\n",
    "import pandas as pd\n",
    "def demoji(text):\n",
    "\temoji_pattern = re.compile(\"[\"\n",
    "\t\tu\"\\U0001F600-\\U0001F64F\"  # emoticons\n",
    "        u\"\\U0001F300-\\U0001F5FF\"  # symbols & pictographs\n",
    "        u\"\\U0001F680-\\U0001F6FF\"  # transport & map symbols\n",
    "        u\"\\U0001F1E0-\\U0001F1FF\"  # flags (iOS)\n",
    "        u\"\\U00002702-\\U000027B0\"\n",
    "        u\"\\U000024C2-\\U0001F251\"\n",
    "        u\"\\U00010000-\\U0010ffff\"\n",
    "\t                           \"]+\", flags=re.UNICODE)\n",
    "\treturn(emoji_pattern.sub(r'', text))\n",
    "\n",
    "df['emoji'] = df['lemmatize'].apply(lambda x: demoji(x)) \n",
    "df\n"
   ]
  },
  {
   "cell_type": "code",
   "execution_count": 507,
   "metadata": {},
   "outputs": [
    {
     "data": {
      "text/html": [
       "<div>\n",
       "<style scoped>\n",
       "    .dataframe tbody tr th:only-of-type {\n",
       "        vertical-align: middle;\n",
       "    }\n",
       "\n",
       "    .dataframe tbody tr th {\n",
       "        vertical-align: top;\n",
       "    }\n",
       "\n",
       "    .dataframe thead th {\n",
       "        text-align: right;\n",
       "    }\n",
       "</style>\n",
       "<table border=\"1\" class=\"dataframe\">\n",
       "  <thead>\n",
       "    <tr style=\"text-align: right;\">\n",
       "      <th></th>\n",
       "      <th>sentiment</th>\n",
       "      <th>review</th>\n",
       "      <th>remove_punc</th>\n",
       "      <th>tokenized</th>\n",
       "      <th>remove_sw</th>\n",
       "      <th>lemmatize</th>\n",
       "      <th>emoji</th>\n",
       "      <th>text</th>\n",
       "    </tr>\n",
       "  </thead>\n",
       "  <tbody>\n",
       "    <tr>\n",
       "      <th>0</th>\n",
       "      <td>1</td>\n",
       "      <td>I got the best service from them.</td>\n",
       "      <td>I got the best service from them</td>\n",
       "      <td>[i, got, the, best, service, from, them]</td>\n",
       "      <td>[got, best, service]</td>\n",
       "      <td>got best service</td>\n",
       "      <td>got best service</td>\n",
       "      <td>got best service</td>\n",
       "    </tr>\n",
       "    <tr>\n",
       "      <th>1</th>\n",
       "      <td>1</td>\n",
       "      <td>Very impressive service for the customers. I love how there comes a call for further confirmation of order and also for the address, which other online delivery platforms don't have and they always create misunderstandings and problems due to that. I also love the very easy, well-designed and conven...</td>\n",
       "      <td>Very impressive service for the customers I love how there comes a call for further confirmation of order and also for the address which other online delivery platforms dont have and they always create misunderstandings and problems due to that I also love the very easy welldesigned and conven</td>\n",
       "      <td>[very, impressive, service, for, the, customers, i, love, how, there, comes, a, call, for, further, confirmation, of, order, and, also, for, the, address, which, other, online, delivery, platforms, dont, have, and, they, always, create, misunderstandings, and, problems, due, to, that, i, also, love, the, very, easy, welldesigned, and, conven]</td>\n",
       "      <td>[impressive, service, customers, love, comes, call, confirmation, order, also, address, online, delivery, platforms, dont, always, create, misunderstandings, problems, due, also, love, easy, welldesigned, conven]</td>\n",
       "      <td>impressive service customer love come call confirmation order also address online delivery platform dont always create misunderstanding problem due also love easy welldesigned conven</td>\n",
       "      <td>impressive service customer love come call confirmation order also address online delivery platform dont always create misunderstanding problem due also love easy welldesigned conven</td>\n",
       "      <td>impressive service customer love come call confirmation order also address online delivery platform dont always create misunderstanding problem due also love easy welldesigned conven</td>\n",
       "    </tr>\n",
       "    <tr>\n",
       "      <th>2</th>\n",
       "      <td>1</td>\n",
       "      <td>Never had any issues with their delivery, always got my food on time with no problems. The new app UI looks good but is a little confusing at first. Only 4 stars because all my previous order history and saved addresses are gone due to the new update.</td>\n",
       "      <td>Never had any issues with their delivery always got my food on time with no problems The new app UI looks good but is a little confusing at first Only 4 stars because all my previous order history and saved addresses are gone due to the new update</td>\n",
       "      <td>[never, had, any, issues, with, their, delivery, always, got, my, food, on, time, with, no, problems, the, new, app, ui, looks, good, but, is, a, little, confusing, at, first, only, 4, stars, because, all, my, previous, order, history, and, saved, addresses, are, gone, due, to, the, new, update]</td>\n",
       "      <td>[never, issues, delivery, always, got, food, time, problems, new, app, ui, looks, good, little, confusing, first, 4, stars, previous, order, history, saved, addresses, gone, due, new, update]</td>\n",
       "      <td>never issue delivery always got food time problem new app ui look good little confusing first 4 star previous order history saved address gone due new update</td>\n",
       "      <td>never issue delivery always got food time problem new app ui look good little confusing first 4 star previous order history saved address gone due new update</td>\n",
       "      <td>never issue delivery always got food time problem new app ui look good little confusing first  star previous order history saved address gone due new update</td>\n",
       "    </tr>\n",
       "    <tr>\n",
       "      <th>3</th>\n",
       "      <td>1</td>\n",
       "      <td>Great Service Pre-Order option is great. Loving it. :)</td>\n",
       "      <td>Great Service PreOrder option is great Loving it</td>\n",
       "      <td>[great, service, preorder, option, is, great, loving, it]</td>\n",
       "      <td>[great, service, preorder, option, great, loving]</td>\n",
       "      <td>great service preorder option great loving</td>\n",
       "      <td>great service preorder option great loving</td>\n",
       "      <td>great service preorder option great loving</td>\n",
       "    </tr>\n",
       "    <tr>\n",
       "      <th>4</th>\n",
       "      <td>1</td>\n",
       "      <td>Delivery service at its best....</td>\n",
       "      <td>Delivery service at its best</td>\n",
       "      <td>[delivery, service, at, its, best]</td>\n",
       "      <td>[delivery, service, best]</td>\n",
       "      <td>delivery service best</td>\n",
       "      <td>delivery service best</td>\n",
       "      <td>delivery service best</td>\n",
       "    </tr>\n",
       "    <tr>\n",
       "      <th>...</th>\n",
       "      <td>...</td>\n",
       "      <td>...</td>\n",
       "      <td>...</td>\n",
       "      <td>...</td>\n",
       "      <td>...</td>\n",
       "      <td>...</td>\n",
       "      <td>...</td>\n",
       "      <td>...</td>\n",
       "    </tr>\n",
       "    <tr>\n",
       "      <th>562</th>\n",
       "      <td>0</td>\n",
       "      <td>Food is very very bad. He gives wrong food. Very very bad.....</td>\n",
       "      <td>Food is very very bad He gives wrong food Very very bad</td>\n",
       "      <td>[food, is, very, very, bad, he, gives, wrong, food, very, very, bad]</td>\n",
       "      <td>[food, bad, gives, wrong, food, bad]</td>\n",
       "      <td>food bad give wrong food bad</td>\n",
       "      <td>food bad give wrong food bad</td>\n",
       "      <td>food bad give wrong food bad</td>\n",
       "    </tr>\n",
       "    <tr>\n",
       "      <th>563</th>\n",
       "      <td>0</td>\n",
       "      <td>I ordered food almost 1 and 1/2 hour ago and still did not receive it yet. The rider just wasted my time waiting for the delivery. Worst rider ever</td>\n",
       "      <td>I ordered food almost 1 and 12 hour ago and still did not receive it yet The rider just wasted my time waiting for the delivery Worst rider ever</td>\n",
       "      <td>[i, ordered, food, almost, 1, and, 12, hour, ago, and, still, did, not, receive, it, yet, the, rider, just, wasted, my, time, waiting, for, the, delivery, worst, rider, ever]</td>\n",
       "      <td>[ordered, food, almost, 1, 12, hour, ago, still, receive, yet, rider, wasted, time, waiting, delivery, worst, rider, ever]</td>\n",
       "      <td>ordered food almost 1 12 hour ago still receive yet rider wasted time waiting delivery worst rider ever</td>\n",
       "      <td>ordered food almost 1 12 hour ago still receive yet rider wasted time waiting delivery worst rider ever</td>\n",
       "      <td>ordered food almost   hour ago still receive yet rider wasted time waiting delivery worst rider ever</td>\n",
       "    </tr>\n",
       "    <tr>\n",
       "      <th>564</th>\n",
       "      <td>0</td>\n",
       "      <td>Order 140 tk and they deliver me 40 tk burger</td>\n",
       "      <td>Order 140 tk and they deliver me 40 tk burger</td>\n",
       "      <td>[order, 140, tk, and, they, deliver, me, 40, tk, burger]</td>\n",
       "      <td>[order, 140, tk, deliver, 40, tk, burger]</td>\n",
       "      <td>order 140 tk deliver 40 tk burger</td>\n",
       "      <td>order 140 tk deliver 40 tk burger</td>\n",
       "      <td>order  tk deliver  tk burger</td>\n",
       "    </tr>\n",
       "    <tr>\n",
       "      <th>565</th>\n",
       "      <td>0</td>\n",
       "      <td>Worst rider</td>\n",
       "      <td>Worst rider</td>\n",
       "      <td>[worst, rider]</td>\n",
       "      <td>[worst, rider]</td>\n",
       "      <td>worst rider</td>\n",
       "      <td>worst rider</td>\n",
       "      <td>worst rider</td>\n",
       "    </tr>\n",
       "    <tr>\n",
       "      <th>566</th>\n",
       "      <td>0</td>\n",
       "      <td>I was waiting a long time for food.. It was come a long time..</td>\n",
       "      <td>I was waiting a long time for food It was come a long time</td>\n",
       "      <td>[i, was, waiting, a, long, time, for, food, it, was, come, a, long, time]</td>\n",
       "      <td>[waiting, long, time, food, come, long, time]</td>\n",
       "      <td>waiting long time food come long time</td>\n",
       "      <td>waiting long time food come long time</td>\n",
       "      <td>waiting long time food come long time</td>\n",
       "    </tr>\n",
       "  </tbody>\n",
       "</table>\n",
       "<p>567 rows × 8 columns</p>\n",
       "</div>"
      ],
      "text/plain": [
       "     sentiment  \\\n",
       "0            1   \n",
       "1            1   \n",
       "2            1   \n",
       "3            1   \n",
       "4            1   \n",
       "..         ...   \n",
       "562          0   \n",
       "563          0   \n",
       "564          0   \n",
       "565          0   \n",
       "566          0   \n",
       "\n",
       "                                                                                                                                                                                                                                                                                                              review  \\\n",
       "0                                                                                                                                                                                                                                                                                  I got the best service from them.   \n",
       "1    Very impressive service for the customers. I love how there comes a call for further confirmation of order and also for the address, which other online delivery platforms don't have and they always create misunderstandings and problems due to that. I also love the very easy, well-designed and conven...   \n",
       "2                                                        Never had any issues with their delivery, always got my food on time with no problems. The new app UI looks good but is a little confusing at first. Only 4 stars because all my previous order history and saved addresses are gone due to the new update.   \n",
       "3                                                                                                                                                                                                                                                             Great Service Pre-Order option is great. Loving it. :)   \n",
       "4                                                                                                                                                                                                                                                                                   Delivery service at its best....   \n",
       "..                                                                                                                                                                                                                                                                                                               ...   \n",
       "562                                                                                                                                                                                                                                                   Food is very very bad. He gives wrong food. Very very bad.....   \n",
       "563                                                                                                                                                              I ordered food almost 1 and 1/2 hour ago and still did not receive it yet. The rider just wasted my time waiting for the delivery. Worst rider ever   \n",
       "564                                                                                                                                                                                                                                                                    Order 140 tk and they deliver me 40 tk burger   \n",
       "565                                                                                                                                                                                                                                                                                                      Worst rider   \n",
       "566                                                                                                                                                                                                                                                   I was waiting a long time for food.. It was come a long time..   \n",
       "\n",
       "                                                                                                                                                                                                                                                                                                remove_punc  \\\n",
       "0                                                                                                                                                                                                                                                                          I got the best service from them   \n",
       "1    Very impressive service for the customers I love how there comes a call for further confirmation of order and also for the address which other online delivery platforms dont have and they always create misunderstandings and problems due to that I also love the very easy welldesigned and conven   \n",
       "2                                                   Never had any issues with their delivery always got my food on time with no problems The new app UI looks good but is a little confusing at first Only 4 stars because all my previous order history and saved addresses are gone due to the new update   \n",
       "3                                                                                                                                                                                                                                                         Great Service PreOrder option is great Loving it    \n",
       "4                                                                                                                                                                                                                                                                              Delivery service at its best   \n",
       "..                                                                                                                                                                                                                                                                                                      ...   \n",
       "562                                                                                                                                                                                                                                                 Food is very very bad He gives wrong food Very very bad   \n",
       "563                                                                                                                                                        I ordered food almost 1 and 12 hour ago and still did not receive it yet The rider just wasted my time waiting for the delivery Worst rider ever   \n",
       "564                                                                                                                                                                                                                                                           Order 140 tk and they deliver me 40 tk burger   \n",
       "565                                                                                                                                                                                                                                                                                             Worst rider   \n",
       "566                                                                                                                                                                                                                                              I was waiting a long time for food It was come a long time   \n",
       "\n",
       "                                                                                                                                                                                                                                                                                                                                                    tokenized  \\\n",
       "0                                                                                                                                                                                                                                                                                                                    [i, got, the, best, service, from, them]   \n",
       "1    [very, impressive, service, for, the, customers, i, love, how, there, comes, a, call, for, further, confirmation, of, order, and, also, for, the, address, which, other, online, delivery, platforms, dont, have, and, they, always, create, misunderstandings, and, problems, due, to, that, i, also, love, the, very, easy, welldesigned, and, conven]   \n",
       "2                                                    [never, had, any, issues, with, their, delivery, always, got, my, food, on, time, with, no, problems, the, new, app, ui, looks, good, but, is, a, little, confusing, at, first, only, 4, stars, because, all, my, previous, order, history, and, saved, addresses, are, gone, due, to, the, new, update]   \n",
       "3                                                                                                                                                                                                                                                                                                   [great, service, preorder, option, is, great, loving, it]   \n",
       "4                                                                                                                                                                                                                                                                                                                          [delivery, service, at, its, best]   \n",
       "..                                                                                                                                                                                                                                                                                                                                                        ...   \n",
       "562                                                                                                                                                                                                                                                                                      [food, is, very, very, bad, he, gives, wrong, food, very, very, bad]   \n",
       "563                                                                                                                                                                            [i, ordered, food, almost, 1, and, 12, hour, ago, and, still, did, not, receive, it, yet, the, rider, just, wasted, my, time, waiting, for, the, delivery, worst, rider, ever]   \n",
       "564                                                                                                                                                                                                                                                                                                  [order, 140, tk, and, they, deliver, me, 40, tk, burger]   \n",
       "565                                                                                                                                                                                                                                                                                                                                            [worst, rider]   \n",
       "566                                                                                                                                                                                                                                                                                 [i, was, waiting, a, long, time, for, food, it, was, come, a, long, time]   \n",
       "\n",
       "                                                                                                                                                                                                                remove_sw  \\\n",
       "0                                                                                                                                                                                                    [got, best, service]   \n",
       "1    [impressive, service, customers, love, comes, call, confirmation, order, also, address, online, delivery, platforms, dont, always, create, misunderstandings, problems, due, also, love, easy, welldesigned, conven]   \n",
       "2                         [never, issues, delivery, always, got, food, time, problems, new, app, ui, looks, good, little, confusing, first, 4, stars, previous, order, history, saved, addresses, gone, due, new, update]   \n",
       "3                                                                                                                                                                       [great, service, preorder, option, great, loving]   \n",
       "4                                                                                                                                                                                               [delivery, service, best]   \n",
       "..                                                                                                                                                                                                                    ...   \n",
       "562                                                                                                                                                                                  [food, bad, gives, wrong, food, bad]   \n",
       "563                                                                                            [ordered, food, almost, 1, 12, hour, ago, still, receive, yet, rider, wasted, time, waiting, delivery, worst, rider, ever]   \n",
       "564                                                                                                                                                                             [order, 140, tk, deliver, 40, tk, burger]   \n",
       "565                                                                                                                                                                                                        [worst, rider]   \n",
       "566                                                                                                                                                                         [waiting, long, time, food, come, long, time]   \n",
       "\n",
       "                                                                                                                                                                                  lemmatize  \\\n",
       "0                                                                                                                                                                          got best service   \n",
       "1    impressive service customer love come call confirmation order also address online delivery platform dont always create misunderstanding problem due also love easy welldesigned conven   \n",
       "2                             never issue delivery always got food time problem new app ui look good little confusing first 4 star previous order history saved address gone due new update   \n",
       "3                                                                                                                                                great service preorder option great loving   \n",
       "4                                                                                                                                                                     delivery service best   \n",
       "..                                                                                                                                                                                      ...   \n",
       "562                                                                                                                                                            food bad give wrong food bad   \n",
       "563                                                                                 ordered food almost 1 12 hour ago still receive yet rider wasted time waiting delivery worst rider ever   \n",
       "564                                                                                                                                                       order 140 tk deliver 40 tk burger   \n",
       "565                                                                                                                                                                             worst rider   \n",
       "566                                                                                                                                                   waiting long time food come long time   \n",
       "\n",
       "                                                                                                                                                                                      emoji  \\\n",
       "0                                                                                                                                                                          got best service   \n",
       "1    impressive service customer love come call confirmation order also address online delivery platform dont always create misunderstanding problem due also love easy welldesigned conven   \n",
       "2                             never issue delivery always got food time problem new app ui look good little confusing first 4 star previous order history saved address gone due new update   \n",
       "3                                                                                                                                                great service preorder option great loving   \n",
       "4                                                                                                                                                                     delivery service best   \n",
       "..                                                                                                                                                                                      ...   \n",
       "562                                                                                                                                                            food bad give wrong food bad   \n",
       "563                                                                                 ordered food almost 1 12 hour ago still receive yet rider wasted time waiting delivery worst rider ever   \n",
       "564                                                                                                                                                       order 140 tk deliver 40 tk burger   \n",
       "565                                                                                                                                                                             worst rider   \n",
       "566                                                                                                                                                   waiting long time food come long time   \n",
       "\n",
       "                                                                                                                                                                                       text  \n",
       "0                                                                                                                                                                          got best service  \n",
       "1    impressive service customer love come call confirmation order also address online delivery platform dont always create misunderstanding problem due also love easy welldesigned conven  \n",
       "2                              never issue delivery always got food time problem new app ui look good little confusing first  star previous order history saved address gone due new update  \n",
       "3                                                                                                                                                great service preorder option great loving  \n",
       "4                                                                                                                                                                     delivery service best  \n",
       "..                                                                                                                                                                                      ...  \n",
       "562                                                                                                                                                            food bad give wrong food bad  \n",
       "563                                                                                    ordered food almost   hour ago still receive yet rider wasted time waiting delivery worst rider ever  \n",
       "564                                                                                                                                                            order  tk deliver  tk burger  \n",
       "565                                                                                                                                                                             worst rider  \n",
       "566                                                                                                                                                   waiting long time food come long time  \n",
       "\n",
       "[567 rows x 8 columns]"
      ]
     },
     "execution_count": 507,
     "metadata": {},
     "output_type": "execute_result"
    }
   ],
   "source": [
    "def digit(text):\n",
    "    text= \"\".join(c for c in text if not c.isdigit())\n",
    "    return text\n",
    "df['text'] = df['emoji'].apply(lambda x: digit(x)) \n",
    "df"
   ]
  },
  {
   "cell_type": "markdown",
   "metadata": {},
   "source": [
    "# Remove Some column"
   ]
  },
  {
   "cell_type": "code",
   "execution_count": 508,
   "metadata": {},
   "outputs": [
    {
     "data": {
      "text/html": [
       "<div>\n",
       "<style scoped>\n",
       "    .dataframe tbody tr th:only-of-type {\n",
       "        vertical-align: middle;\n",
       "    }\n",
       "\n",
       "    .dataframe tbody tr th {\n",
       "        vertical-align: top;\n",
       "    }\n",
       "\n",
       "    .dataframe thead th {\n",
       "        text-align: right;\n",
       "    }\n",
       "</style>\n",
       "<table border=\"1\" class=\"dataframe\">\n",
       "  <thead>\n",
       "    <tr style=\"text-align: right;\">\n",
       "      <th></th>\n",
       "      <th>sentiment</th>\n",
       "      <th>remove_punc</th>\n",
       "      <th>tokenized</th>\n",
       "      <th>remove_sw</th>\n",
       "      <th>lemmatize</th>\n",
       "      <th>emoji</th>\n",
       "      <th>text</th>\n",
       "    </tr>\n",
       "  </thead>\n",
       "  <tbody>\n",
       "    <tr>\n",
       "      <th>0</th>\n",
       "      <td>1</td>\n",
       "      <td>I got the best service from them</td>\n",
       "      <td>[i, got, the, best, service, from, them]</td>\n",
       "      <td>[got, best, service]</td>\n",
       "      <td>got best service</td>\n",
       "      <td>got best service</td>\n",
       "      <td>got best service</td>\n",
       "    </tr>\n",
       "    <tr>\n",
       "      <th>1</th>\n",
       "      <td>1</td>\n",
       "      <td>Very impressive service for the customers I love how there comes a call for further confirmation of order and also for the address which other online delivery platforms dont have and they always create misunderstandings and problems due to that I also love the very easy welldesigned and conven</td>\n",
       "      <td>[very, impressive, service, for, the, customers, i, love, how, there, comes, a, call, for, further, confirmation, of, order, and, also, for, the, address, which, other, online, delivery, platforms, dont, have, and, they, always, create, misunderstandings, and, problems, due, to, that, i, also, love, the, very, easy, welldesigned, and, conven]</td>\n",
       "      <td>[impressive, service, customers, love, comes, call, confirmation, order, also, address, online, delivery, platforms, dont, always, create, misunderstandings, problems, due, also, love, easy, welldesigned, conven]</td>\n",
       "      <td>impressive service customer love come call confirmation order also address online delivery platform dont always create misunderstanding problem due also love easy welldesigned conven</td>\n",
       "      <td>impressive service customer love come call confirmation order also address online delivery platform dont always create misunderstanding problem due also love easy welldesigned conven</td>\n",
       "      <td>impressive service customer love come call confirmation order also address online delivery platform dont always create misunderstanding problem due also love easy welldesigned conven</td>\n",
       "    </tr>\n",
       "    <tr>\n",
       "      <th>2</th>\n",
       "      <td>1</td>\n",
       "      <td>Never had any issues with their delivery always got my food on time with no problems The new app UI looks good but is a little confusing at first Only 4 stars because all my previous order history and saved addresses are gone due to the new update</td>\n",
       "      <td>[never, had, any, issues, with, their, delivery, always, got, my, food, on, time, with, no, problems, the, new, app, ui, looks, good, but, is, a, little, confusing, at, first, only, 4, stars, because, all, my, previous, order, history, and, saved, addresses, are, gone, due, to, the, new, update]</td>\n",
       "      <td>[never, issues, delivery, always, got, food, time, problems, new, app, ui, looks, good, little, confusing, first, 4, stars, previous, order, history, saved, addresses, gone, due, new, update]</td>\n",
       "      <td>never issue delivery always got food time problem new app ui look good little confusing first 4 star previous order history saved address gone due new update</td>\n",
       "      <td>never issue delivery always got food time problem new app ui look good little confusing first 4 star previous order history saved address gone due new update</td>\n",
       "      <td>never issue delivery always got food time problem new app ui look good little confusing first  star previous order history saved address gone due new update</td>\n",
       "    </tr>\n",
       "    <tr>\n",
       "      <th>3</th>\n",
       "      <td>1</td>\n",
       "      <td>Great Service PreOrder option is great Loving it</td>\n",
       "      <td>[great, service, preorder, option, is, great, loving, it]</td>\n",
       "      <td>[great, service, preorder, option, great, loving]</td>\n",
       "      <td>great service preorder option great loving</td>\n",
       "      <td>great service preorder option great loving</td>\n",
       "      <td>great service preorder option great loving</td>\n",
       "    </tr>\n",
       "    <tr>\n",
       "      <th>4</th>\n",
       "      <td>1</td>\n",
       "      <td>Delivery service at its best</td>\n",
       "      <td>[delivery, service, at, its, best]</td>\n",
       "      <td>[delivery, service, best]</td>\n",
       "      <td>delivery service best</td>\n",
       "      <td>delivery service best</td>\n",
       "      <td>delivery service best</td>\n",
       "    </tr>\n",
       "    <tr>\n",
       "      <th>...</th>\n",
       "      <td>...</td>\n",
       "      <td>...</td>\n",
       "      <td>...</td>\n",
       "      <td>...</td>\n",
       "      <td>...</td>\n",
       "      <td>...</td>\n",
       "      <td>...</td>\n",
       "    </tr>\n",
       "    <tr>\n",
       "      <th>562</th>\n",
       "      <td>0</td>\n",
       "      <td>Food is very very bad He gives wrong food Very very bad</td>\n",
       "      <td>[food, is, very, very, bad, he, gives, wrong, food, very, very, bad]</td>\n",
       "      <td>[food, bad, gives, wrong, food, bad]</td>\n",
       "      <td>food bad give wrong food bad</td>\n",
       "      <td>food bad give wrong food bad</td>\n",
       "      <td>food bad give wrong food bad</td>\n",
       "    </tr>\n",
       "    <tr>\n",
       "      <th>563</th>\n",
       "      <td>0</td>\n",
       "      <td>I ordered food almost 1 and 12 hour ago and still did not receive it yet The rider just wasted my time waiting for the delivery Worst rider ever</td>\n",
       "      <td>[i, ordered, food, almost, 1, and, 12, hour, ago, and, still, did, not, receive, it, yet, the, rider, just, wasted, my, time, waiting, for, the, delivery, worst, rider, ever]</td>\n",
       "      <td>[ordered, food, almost, 1, 12, hour, ago, still, receive, yet, rider, wasted, time, waiting, delivery, worst, rider, ever]</td>\n",
       "      <td>ordered food almost 1 12 hour ago still receive yet rider wasted time waiting delivery worst rider ever</td>\n",
       "      <td>ordered food almost 1 12 hour ago still receive yet rider wasted time waiting delivery worst rider ever</td>\n",
       "      <td>ordered food almost   hour ago still receive yet rider wasted time waiting delivery worst rider ever</td>\n",
       "    </tr>\n",
       "    <tr>\n",
       "      <th>564</th>\n",
       "      <td>0</td>\n",
       "      <td>Order 140 tk and they deliver me 40 tk burger</td>\n",
       "      <td>[order, 140, tk, and, they, deliver, me, 40, tk, burger]</td>\n",
       "      <td>[order, 140, tk, deliver, 40, tk, burger]</td>\n",
       "      <td>order 140 tk deliver 40 tk burger</td>\n",
       "      <td>order 140 tk deliver 40 tk burger</td>\n",
       "      <td>order  tk deliver  tk burger</td>\n",
       "    </tr>\n",
       "    <tr>\n",
       "      <th>565</th>\n",
       "      <td>0</td>\n",
       "      <td>Worst rider</td>\n",
       "      <td>[worst, rider]</td>\n",
       "      <td>[worst, rider]</td>\n",
       "      <td>worst rider</td>\n",
       "      <td>worst rider</td>\n",
       "      <td>worst rider</td>\n",
       "    </tr>\n",
       "    <tr>\n",
       "      <th>566</th>\n",
       "      <td>0</td>\n",
       "      <td>I was waiting a long time for food It was come a long time</td>\n",
       "      <td>[i, was, waiting, a, long, time, for, food, it, was, come, a, long, time]</td>\n",
       "      <td>[waiting, long, time, food, come, long, time]</td>\n",
       "      <td>waiting long time food come long time</td>\n",
       "      <td>waiting long time food come long time</td>\n",
       "      <td>waiting long time food come long time</td>\n",
       "    </tr>\n",
       "  </tbody>\n",
       "</table>\n",
       "<p>567 rows × 7 columns</p>\n",
       "</div>"
      ],
      "text/plain": [
       "     sentiment  \\\n",
       "0            1   \n",
       "1            1   \n",
       "2            1   \n",
       "3            1   \n",
       "4            1   \n",
       "..         ...   \n",
       "562          0   \n",
       "563          0   \n",
       "564          0   \n",
       "565          0   \n",
       "566          0   \n",
       "\n",
       "                                                                                                                                                                                                                                                                                                remove_punc  \\\n",
       "0                                                                                                                                                                                                                                                                          I got the best service from them   \n",
       "1    Very impressive service for the customers I love how there comes a call for further confirmation of order and also for the address which other online delivery platforms dont have and they always create misunderstandings and problems due to that I also love the very easy welldesigned and conven   \n",
       "2                                                   Never had any issues with their delivery always got my food on time with no problems The new app UI looks good but is a little confusing at first Only 4 stars because all my previous order history and saved addresses are gone due to the new update   \n",
       "3                                                                                                                                                                                                                                                         Great Service PreOrder option is great Loving it    \n",
       "4                                                                                                                                                                                                                                                                              Delivery service at its best   \n",
       "..                                                                                                                                                                                                                                                                                                      ...   \n",
       "562                                                                                                                                                                                                                                                 Food is very very bad He gives wrong food Very very bad   \n",
       "563                                                                                                                                                        I ordered food almost 1 and 12 hour ago and still did not receive it yet The rider just wasted my time waiting for the delivery Worst rider ever   \n",
       "564                                                                                                                                                                                                                                                           Order 140 tk and they deliver me 40 tk burger   \n",
       "565                                                                                                                                                                                                                                                                                             Worst rider   \n",
       "566                                                                                                                                                                                                                                              I was waiting a long time for food It was come a long time   \n",
       "\n",
       "                                                                                                                                                                                                                                                                                                                                                    tokenized  \\\n",
       "0                                                                                                                                                                                                                                                                                                                    [i, got, the, best, service, from, them]   \n",
       "1    [very, impressive, service, for, the, customers, i, love, how, there, comes, a, call, for, further, confirmation, of, order, and, also, for, the, address, which, other, online, delivery, platforms, dont, have, and, they, always, create, misunderstandings, and, problems, due, to, that, i, also, love, the, very, easy, welldesigned, and, conven]   \n",
       "2                                                    [never, had, any, issues, with, their, delivery, always, got, my, food, on, time, with, no, problems, the, new, app, ui, looks, good, but, is, a, little, confusing, at, first, only, 4, stars, because, all, my, previous, order, history, and, saved, addresses, are, gone, due, to, the, new, update]   \n",
       "3                                                                                                                                                                                                                                                                                                   [great, service, preorder, option, is, great, loving, it]   \n",
       "4                                                                                                                                                                                                                                                                                                                          [delivery, service, at, its, best]   \n",
       "..                                                                                                                                                                                                                                                                                                                                                        ...   \n",
       "562                                                                                                                                                                                                                                                                                      [food, is, very, very, bad, he, gives, wrong, food, very, very, bad]   \n",
       "563                                                                                                                                                                            [i, ordered, food, almost, 1, and, 12, hour, ago, and, still, did, not, receive, it, yet, the, rider, just, wasted, my, time, waiting, for, the, delivery, worst, rider, ever]   \n",
       "564                                                                                                                                                                                                                                                                                                  [order, 140, tk, and, they, deliver, me, 40, tk, burger]   \n",
       "565                                                                                                                                                                                                                                                                                                                                            [worst, rider]   \n",
       "566                                                                                                                                                                                                                                                                                 [i, was, waiting, a, long, time, for, food, it, was, come, a, long, time]   \n",
       "\n",
       "                                                                                                                                                                                                                remove_sw  \\\n",
       "0                                                                                                                                                                                                    [got, best, service]   \n",
       "1    [impressive, service, customers, love, comes, call, confirmation, order, also, address, online, delivery, platforms, dont, always, create, misunderstandings, problems, due, also, love, easy, welldesigned, conven]   \n",
       "2                         [never, issues, delivery, always, got, food, time, problems, new, app, ui, looks, good, little, confusing, first, 4, stars, previous, order, history, saved, addresses, gone, due, new, update]   \n",
       "3                                                                                                                                                                       [great, service, preorder, option, great, loving]   \n",
       "4                                                                                                                                                                                               [delivery, service, best]   \n",
       "..                                                                                                                                                                                                                    ...   \n",
       "562                                                                                                                                                                                  [food, bad, gives, wrong, food, bad]   \n",
       "563                                                                                            [ordered, food, almost, 1, 12, hour, ago, still, receive, yet, rider, wasted, time, waiting, delivery, worst, rider, ever]   \n",
       "564                                                                                                                                                                             [order, 140, tk, deliver, 40, tk, burger]   \n",
       "565                                                                                                                                                                                                        [worst, rider]   \n",
       "566                                                                                                                                                                         [waiting, long, time, food, come, long, time]   \n",
       "\n",
       "                                                                                                                                                                                  lemmatize  \\\n",
       "0                                                                                                                                                                          got best service   \n",
       "1    impressive service customer love come call confirmation order also address online delivery platform dont always create misunderstanding problem due also love easy welldesigned conven   \n",
       "2                             never issue delivery always got food time problem new app ui look good little confusing first 4 star previous order history saved address gone due new update   \n",
       "3                                                                                                                                                great service preorder option great loving   \n",
       "4                                                                                                                                                                     delivery service best   \n",
       "..                                                                                                                                                                                      ...   \n",
       "562                                                                                                                                                            food bad give wrong food bad   \n",
       "563                                                                                 ordered food almost 1 12 hour ago still receive yet rider wasted time waiting delivery worst rider ever   \n",
       "564                                                                                                                                                       order 140 tk deliver 40 tk burger   \n",
       "565                                                                                                                                                                             worst rider   \n",
       "566                                                                                                                                                   waiting long time food come long time   \n",
       "\n",
       "                                                                                                                                                                                      emoji  \\\n",
       "0                                                                                                                                                                          got best service   \n",
       "1    impressive service customer love come call confirmation order also address online delivery platform dont always create misunderstanding problem due also love easy welldesigned conven   \n",
       "2                             never issue delivery always got food time problem new app ui look good little confusing first 4 star previous order history saved address gone due new update   \n",
       "3                                                                                                                                                great service preorder option great loving   \n",
       "4                                                                                                                                                                     delivery service best   \n",
       "..                                                                                                                                                                                      ...   \n",
       "562                                                                                                                                                            food bad give wrong food bad   \n",
       "563                                                                                 ordered food almost 1 12 hour ago still receive yet rider wasted time waiting delivery worst rider ever   \n",
       "564                                                                                                                                                       order 140 tk deliver 40 tk burger   \n",
       "565                                                                                                                                                                             worst rider   \n",
       "566                                                                                                                                                   waiting long time food come long time   \n",
       "\n",
       "                                                                                                                                                                                       text  \n",
       "0                                                                                                                                                                          got best service  \n",
       "1    impressive service customer love come call confirmation order also address online delivery platform dont always create misunderstanding problem due also love easy welldesigned conven  \n",
       "2                              never issue delivery always got food time problem new app ui look good little confusing first  star previous order history saved address gone due new update  \n",
       "3                                                                                                                                                great service preorder option great loving  \n",
       "4                                                                                                                                                                     delivery service best  \n",
       "..                                                                                                                                                                                      ...  \n",
       "562                                                                                                                                                            food bad give wrong food bad  \n",
       "563                                                                                    ordered food almost   hour ago still receive yet rider wasted time waiting delivery worst rider ever  \n",
       "564                                                                                                                                                            order  tk deliver  tk burger  \n",
       "565                                                                                                                                                                             worst rider  \n",
       "566                                                                                                                                                   waiting long time food come long time  \n",
       "\n",
       "[567 rows x 7 columns]"
      ]
     },
     "execution_count": 508,
     "metadata": {},
     "output_type": "execute_result"
    }
   ],
   "source": [
    "del df['review']\n",
    "df"
   ]
  },
  {
   "cell_type": "code",
   "execution_count": 509,
   "metadata": {},
   "outputs": [
    {
     "data": {
      "text/html": [
       "<div>\n",
       "<style scoped>\n",
       "    .dataframe tbody tr th:only-of-type {\n",
       "        vertical-align: middle;\n",
       "    }\n",
       "\n",
       "    .dataframe tbody tr th {\n",
       "        vertical-align: top;\n",
       "    }\n",
       "\n",
       "    .dataframe thead th {\n",
       "        text-align: right;\n",
       "    }\n",
       "</style>\n",
       "<table border=\"1\" class=\"dataframe\">\n",
       "  <thead>\n",
       "    <tr style=\"text-align: right;\">\n",
       "      <th></th>\n",
       "      <th>sentiment</th>\n",
       "      <th>tokenized</th>\n",
       "      <th>remove_sw</th>\n",
       "      <th>lemmatize</th>\n",
       "      <th>emoji</th>\n",
       "      <th>text</th>\n",
       "    </tr>\n",
       "  </thead>\n",
       "  <tbody>\n",
       "    <tr>\n",
       "      <th>0</th>\n",
       "      <td>1</td>\n",
       "      <td>[i, got, the, best, service, from, them]</td>\n",
       "      <td>[got, best, service]</td>\n",
       "      <td>got best service</td>\n",
       "      <td>got best service</td>\n",
       "      <td>got best service</td>\n",
       "    </tr>\n",
       "    <tr>\n",
       "      <th>1</th>\n",
       "      <td>1</td>\n",
       "      <td>[very, impressive, service, for, the, customers, i, love, how, there, comes, a, call, for, further, confirmation, of, order, and, also, for, the, address, which, other, online, delivery, platforms, dont, have, and, they, always, create, misunderstandings, and, problems, due, to, that, i, also, love, the, very, easy, welldesigned, and, conven]</td>\n",
       "      <td>[impressive, service, customers, love, comes, call, confirmation, order, also, address, online, delivery, platforms, dont, always, create, misunderstandings, problems, due, also, love, easy, welldesigned, conven]</td>\n",
       "      <td>impressive service customer love come call confirmation order also address online delivery platform dont always create misunderstanding problem due also love easy welldesigned conven</td>\n",
       "      <td>impressive service customer love come call confirmation order also address online delivery platform dont always create misunderstanding problem due also love easy welldesigned conven</td>\n",
       "      <td>impressive service customer love come call confirmation order also address online delivery platform dont always create misunderstanding problem due also love easy welldesigned conven</td>\n",
       "    </tr>\n",
       "    <tr>\n",
       "      <th>2</th>\n",
       "      <td>1</td>\n",
       "      <td>[never, had, any, issues, with, their, delivery, always, got, my, food, on, time, with, no, problems, the, new, app, ui, looks, good, but, is, a, little, confusing, at, first, only, 4, stars, because, all, my, previous, order, history, and, saved, addresses, are, gone, due, to, the, new, update]</td>\n",
       "      <td>[never, issues, delivery, always, got, food, time, problems, new, app, ui, looks, good, little, confusing, first, 4, stars, previous, order, history, saved, addresses, gone, due, new, update]</td>\n",
       "      <td>never issue delivery always got food time problem new app ui look good little confusing first 4 star previous order history saved address gone due new update</td>\n",
       "      <td>never issue delivery always got food time problem new app ui look good little confusing first 4 star previous order history saved address gone due new update</td>\n",
       "      <td>never issue delivery always got food time problem new app ui look good little confusing first  star previous order history saved address gone due new update</td>\n",
       "    </tr>\n",
       "    <tr>\n",
       "      <th>3</th>\n",
       "      <td>1</td>\n",
       "      <td>[great, service, preorder, option, is, great, loving, it]</td>\n",
       "      <td>[great, service, preorder, option, great, loving]</td>\n",
       "      <td>great service preorder option great loving</td>\n",
       "      <td>great service preorder option great loving</td>\n",
       "      <td>great service preorder option great loving</td>\n",
       "    </tr>\n",
       "    <tr>\n",
       "      <th>4</th>\n",
       "      <td>1</td>\n",
       "      <td>[delivery, service, at, its, best]</td>\n",
       "      <td>[delivery, service, best]</td>\n",
       "      <td>delivery service best</td>\n",
       "      <td>delivery service best</td>\n",
       "      <td>delivery service best</td>\n",
       "    </tr>\n",
       "    <tr>\n",
       "      <th>...</th>\n",
       "      <td>...</td>\n",
       "      <td>...</td>\n",
       "      <td>...</td>\n",
       "      <td>...</td>\n",
       "      <td>...</td>\n",
       "      <td>...</td>\n",
       "    </tr>\n",
       "    <tr>\n",
       "      <th>562</th>\n",
       "      <td>0</td>\n",
       "      <td>[food, is, very, very, bad, he, gives, wrong, food, very, very, bad]</td>\n",
       "      <td>[food, bad, gives, wrong, food, bad]</td>\n",
       "      <td>food bad give wrong food bad</td>\n",
       "      <td>food bad give wrong food bad</td>\n",
       "      <td>food bad give wrong food bad</td>\n",
       "    </tr>\n",
       "    <tr>\n",
       "      <th>563</th>\n",
       "      <td>0</td>\n",
       "      <td>[i, ordered, food, almost, 1, and, 12, hour, ago, and, still, did, not, receive, it, yet, the, rider, just, wasted, my, time, waiting, for, the, delivery, worst, rider, ever]</td>\n",
       "      <td>[ordered, food, almost, 1, 12, hour, ago, still, receive, yet, rider, wasted, time, waiting, delivery, worst, rider, ever]</td>\n",
       "      <td>ordered food almost 1 12 hour ago still receive yet rider wasted time waiting delivery worst rider ever</td>\n",
       "      <td>ordered food almost 1 12 hour ago still receive yet rider wasted time waiting delivery worst rider ever</td>\n",
       "      <td>ordered food almost   hour ago still receive yet rider wasted time waiting delivery worst rider ever</td>\n",
       "    </tr>\n",
       "    <tr>\n",
       "      <th>564</th>\n",
       "      <td>0</td>\n",
       "      <td>[order, 140, tk, and, they, deliver, me, 40, tk, burger]</td>\n",
       "      <td>[order, 140, tk, deliver, 40, tk, burger]</td>\n",
       "      <td>order 140 tk deliver 40 tk burger</td>\n",
       "      <td>order 140 tk deliver 40 tk burger</td>\n",
       "      <td>order  tk deliver  tk burger</td>\n",
       "    </tr>\n",
       "    <tr>\n",
       "      <th>565</th>\n",
       "      <td>0</td>\n",
       "      <td>[worst, rider]</td>\n",
       "      <td>[worst, rider]</td>\n",
       "      <td>worst rider</td>\n",
       "      <td>worst rider</td>\n",
       "      <td>worst rider</td>\n",
       "    </tr>\n",
       "    <tr>\n",
       "      <th>566</th>\n",
       "      <td>0</td>\n",
       "      <td>[i, was, waiting, a, long, time, for, food, it, was, come, a, long, time]</td>\n",
       "      <td>[waiting, long, time, food, come, long, time]</td>\n",
       "      <td>waiting long time food come long time</td>\n",
       "      <td>waiting long time food come long time</td>\n",
       "      <td>waiting long time food come long time</td>\n",
       "    </tr>\n",
       "  </tbody>\n",
       "</table>\n",
       "<p>567 rows × 6 columns</p>\n",
       "</div>"
      ],
      "text/plain": [
       "     sentiment  \\\n",
       "0            1   \n",
       "1            1   \n",
       "2            1   \n",
       "3            1   \n",
       "4            1   \n",
       "..         ...   \n",
       "562          0   \n",
       "563          0   \n",
       "564          0   \n",
       "565          0   \n",
       "566          0   \n",
       "\n",
       "                                                                                                                                                                                                                                                                                                                                                    tokenized  \\\n",
       "0                                                                                                                                                                                                                                                                                                                    [i, got, the, best, service, from, them]   \n",
       "1    [very, impressive, service, for, the, customers, i, love, how, there, comes, a, call, for, further, confirmation, of, order, and, also, for, the, address, which, other, online, delivery, platforms, dont, have, and, they, always, create, misunderstandings, and, problems, due, to, that, i, also, love, the, very, easy, welldesigned, and, conven]   \n",
       "2                                                    [never, had, any, issues, with, their, delivery, always, got, my, food, on, time, with, no, problems, the, new, app, ui, looks, good, but, is, a, little, confusing, at, first, only, 4, stars, because, all, my, previous, order, history, and, saved, addresses, are, gone, due, to, the, new, update]   \n",
       "3                                                                                                                                                                                                                                                                                                   [great, service, preorder, option, is, great, loving, it]   \n",
       "4                                                                                                                                                                                                                                                                                                                          [delivery, service, at, its, best]   \n",
       "..                                                                                                                                                                                                                                                                                                                                                        ...   \n",
       "562                                                                                                                                                                                                                                                                                      [food, is, very, very, bad, he, gives, wrong, food, very, very, bad]   \n",
       "563                                                                                                                                                                            [i, ordered, food, almost, 1, and, 12, hour, ago, and, still, did, not, receive, it, yet, the, rider, just, wasted, my, time, waiting, for, the, delivery, worst, rider, ever]   \n",
       "564                                                                                                                                                                                                                                                                                                  [order, 140, tk, and, they, deliver, me, 40, tk, burger]   \n",
       "565                                                                                                                                                                                                                                                                                                                                            [worst, rider]   \n",
       "566                                                                                                                                                                                                                                                                                 [i, was, waiting, a, long, time, for, food, it, was, come, a, long, time]   \n",
       "\n",
       "                                                                                                                                                                                                                remove_sw  \\\n",
       "0                                                                                                                                                                                                    [got, best, service]   \n",
       "1    [impressive, service, customers, love, comes, call, confirmation, order, also, address, online, delivery, platforms, dont, always, create, misunderstandings, problems, due, also, love, easy, welldesigned, conven]   \n",
       "2                         [never, issues, delivery, always, got, food, time, problems, new, app, ui, looks, good, little, confusing, first, 4, stars, previous, order, history, saved, addresses, gone, due, new, update]   \n",
       "3                                                                                                                                                                       [great, service, preorder, option, great, loving]   \n",
       "4                                                                                                                                                                                               [delivery, service, best]   \n",
       "..                                                                                                                                                                                                                    ...   \n",
       "562                                                                                                                                                                                  [food, bad, gives, wrong, food, bad]   \n",
       "563                                                                                            [ordered, food, almost, 1, 12, hour, ago, still, receive, yet, rider, wasted, time, waiting, delivery, worst, rider, ever]   \n",
       "564                                                                                                                                                                             [order, 140, tk, deliver, 40, tk, burger]   \n",
       "565                                                                                                                                                                                                        [worst, rider]   \n",
       "566                                                                                                                                                                         [waiting, long, time, food, come, long, time]   \n",
       "\n",
       "                                                                                                                                                                                  lemmatize  \\\n",
       "0                                                                                                                                                                          got best service   \n",
       "1    impressive service customer love come call confirmation order also address online delivery platform dont always create misunderstanding problem due also love easy welldesigned conven   \n",
       "2                             never issue delivery always got food time problem new app ui look good little confusing first 4 star previous order history saved address gone due new update   \n",
       "3                                                                                                                                                great service preorder option great loving   \n",
       "4                                                                                                                                                                     delivery service best   \n",
       "..                                                                                                                                                                                      ...   \n",
       "562                                                                                                                                                            food bad give wrong food bad   \n",
       "563                                                                                 ordered food almost 1 12 hour ago still receive yet rider wasted time waiting delivery worst rider ever   \n",
       "564                                                                                                                                                       order 140 tk deliver 40 tk burger   \n",
       "565                                                                                                                                                                             worst rider   \n",
       "566                                                                                                                                                   waiting long time food come long time   \n",
       "\n",
       "                                                                                                                                                                                      emoji  \\\n",
       "0                                                                                                                                                                          got best service   \n",
       "1    impressive service customer love come call confirmation order also address online delivery platform dont always create misunderstanding problem due also love easy welldesigned conven   \n",
       "2                             never issue delivery always got food time problem new app ui look good little confusing first 4 star previous order history saved address gone due new update   \n",
       "3                                                                                                                                                great service preorder option great loving   \n",
       "4                                                                                                                                                                     delivery service best   \n",
       "..                                                                                                                                                                                      ...   \n",
       "562                                                                                                                                                            food bad give wrong food bad   \n",
       "563                                                                                 ordered food almost 1 12 hour ago still receive yet rider wasted time waiting delivery worst rider ever   \n",
       "564                                                                                                                                                       order 140 tk deliver 40 tk burger   \n",
       "565                                                                                                                                                                             worst rider   \n",
       "566                                                                                                                                                   waiting long time food come long time   \n",
       "\n",
       "                                                                                                                                                                                       text  \n",
       "0                                                                                                                                                                          got best service  \n",
       "1    impressive service customer love come call confirmation order also address online delivery platform dont always create misunderstanding problem due also love easy welldesigned conven  \n",
       "2                              never issue delivery always got food time problem new app ui look good little confusing first  star previous order history saved address gone due new update  \n",
       "3                                                                                                                                                great service preorder option great loving  \n",
       "4                                                                                                                                                                     delivery service best  \n",
       "..                                                                                                                                                                                      ...  \n",
       "562                                                                                                                                                            food bad give wrong food bad  \n",
       "563                                                                                    ordered food almost   hour ago still receive yet rider wasted time waiting delivery worst rider ever  \n",
       "564                                                                                                                                                            order  tk deliver  tk burger  \n",
       "565                                                                                                                                                                             worst rider  \n",
       "566                                                                                                                                                   waiting long time food come long time  \n",
       "\n",
       "[567 rows x 6 columns]"
      ]
     },
     "execution_count": 509,
     "metadata": {},
     "output_type": "execute_result"
    }
   ],
   "source": [
    "del df['remove_punc']\n",
    "df"
   ]
  },
  {
   "cell_type": "code",
   "execution_count": 510,
   "metadata": {},
   "outputs": [
    {
     "data": {
      "text/html": [
       "<div>\n",
       "<style scoped>\n",
       "    .dataframe tbody tr th:only-of-type {\n",
       "        vertical-align: middle;\n",
       "    }\n",
       "\n",
       "    .dataframe tbody tr th {\n",
       "        vertical-align: top;\n",
       "    }\n",
       "\n",
       "    .dataframe thead th {\n",
       "        text-align: right;\n",
       "    }\n",
       "</style>\n",
       "<table border=\"1\" class=\"dataframe\">\n",
       "  <thead>\n",
       "    <tr style=\"text-align: right;\">\n",
       "      <th></th>\n",
       "      <th>sentiment</th>\n",
       "      <th>remove_sw</th>\n",
       "      <th>lemmatize</th>\n",
       "      <th>emoji</th>\n",
       "      <th>text</th>\n",
       "    </tr>\n",
       "  </thead>\n",
       "  <tbody>\n",
       "    <tr>\n",
       "      <th>0</th>\n",
       "      <td>1</td>\n",
       "      <td>[got, best, service]</td>\n",
       "      <td>got best service</td>\n",
       "      <td>got best service</td>\n",
       "      <td>got best service</td>\n",
       "    </tr>\n",
       "    <tr>\n",
       "      <th>1</th>\n",
       "      <td>1</td>\n",
       "      <td>[impressive, service, customers, love, comes, call, confirmation, order, also, address, online, delivery, platforms, dont, always, create, misunderstandings, problems, due, also, love, easy, welldesigned, conven]</td>\n",
       "      <td>impressive service customer love come call confirmation order also address online delivery platform dont always create misunderstanding problem due also love easy welldesigned conven</td>\n",
       "      <td>impressive service customer love come call confirmation order also address online delivery platform dont always create misunderstanding problem due also love easy welldesigned conven</td>\n",
       "      <td>impressive service customer love come call confirmation order also address online delivery platform dont always create misunderstanding problem due also love easy welldesigned conven</td>\n",
       "    </tr>\n",
       "    <tr>\n",
       "      <th>2</th>\n",
       "      <td>1</td>\n",
       "      <td>[never, issues, delivery, always, got, food, time, problems, new, app, ui, looks, good, little, confusing, first, 4, stars, previous, order, history, saved, addresses, gone, due, new, update]</td>\n",
       "      <td>never issue delivery always got food time problem new app ui look good little confusing first 4 star previous order history saved address gone due new update</td>\n",
       "      <td>never issue delivery always got food time problem new app ui look good little confusing first 4 star previous order history saved address gone due new update</td>\n",
       "      <td>never issue delivery always got food time problem new app ui look good little confusing first  star previous order history saved address gone due new update</td>\n",
       "    </tr>\n",
       "    <tr>\n",
       "      <th>3</th>\n",
       "      <td>1</td>\n",
       "      <td>[great, service, preorder, option, great, loving]</td>\n",
       "      <td>great service preorder option great loving</td>\n",
       "      <td>great service preorder option great loving</td>\n",
       "      <td>great service preorder option great loving</td>\n",
       "    </tr>\n",
       "    <tr>\n",
       "      <th>4</th>\n",
       "      <td>1</td>\n",
       "      <td>[delivery, service, best]</td>\n",
       "      <td>delivery service best</td>\n",
       "      <td>delivery service best</td>\n",
       "      <td>delivery service best</td>\n",
       "    </tr>\n",
       "    <tr>\n",
       "      <th>...</th>\n",
       "      <td>...</td>\n",
       "      <td>...</td>\n",
       "      <td>...</td>\n",
       "      <td>...</td>\n",
       "      <td>...</td>\n",
       "    </tr>\n",
       "    <tr>\n",
       "      <th>562</th>\n",
       "      <td>0</td>\n",
       "      <td>[food, bad, gives, wrong, food, bad]</td>\n",
       "      <td>food bad give wrong food bad</td>\n",
       "      <td>food bad give wrong food bad</td>\n",
       "      <td>food bad give wrong food bad</td>\n",
       "    </tr>\n",
       "    <tr>\n",
       "      <th>563</th>\n",
       "      <td>0</td>\n",
       "      <td>[ordered, food, almost, 1, 12, hour, ago, still, receive, yet, rider, wasted, time, waiting, delivery, worst, rider, ever]</td>\n",
       "      <td>ordered food almost 1 12 hour ago still receive yet rider wasted time waiting delivery worst rider ever</td>\n",
       "      <td>ordered food almost 1 12 hour ago still receive yet rider wasted time waiting delivery worst rider ever</td>\n",
       "      <td>ordered food almost   hour ago still receive yet rider wasted time waiting delivery worst rider ever</td>\n",
       "    </tr>\n",
       "    <tr>\n",
       "      <th>564</th>\n",
       "      <td>0</td>\n",
       "      <td>[order, 140, tk, deliver, 40, tk, burger]</td>\n",
       "      <td>order 140 tk deliver 40 tk burger</td>\n",
       "      <td>order 140 tk deliver 40 tk burger</td>\n",
       "      <td>order  tk deliver  tk burger</td>\n",
       "    </tr>\n",
       "    <tr>\n",
       "      <th>565</th>\n",
       "      <td>0</td>\n",
       "      <td>[worst, rider]</td>\n",
       "      <td>worst rider</td>\n",
       "      <td>worst rider</td>\n",
       "      <td>worst rider</td>\n",
       "    </tr>\n",
       "    <tr>\n",
       "      <th>566</th>\n",
       "      <td>0</td>\n",
       "      <td>[waiting, long, time, food, come, long, time]</td>\n",
       "      <td>waiting long time food come long time</td>\n",
       "      <td>waiting long time food come long time</td>\n",
       "      <td>waiting long time food come long time</td>\n",
       "    </tr>\n",
       "  </tbody>\n",
       "</table>\n",
       "<p>567 rows × 5 columns</p>\n",
       "</div>"
      ],
      "text/plain": [
       "     sentiment  \\\n",
       "0            1   \n",
       "1            1   \n",
       "2            1   \n",
       "3            1   \n",
       "4            1   \n",
       "..         ...   \n",
       "562          0   \n",
       "563          0   \n",
       "564          0   \n",
       "565          0   \n",
       "566          0   \n",
       "\n",
       "                                                                                                                                                                                                                remove_sw  \\\n",
       "0                                                                                                                                                                                                    [got, best, service]   \n",
       "1    [impressive, service, customers, love, comes, call, confirmation, order, also, address, online, delivery, platforms, dont, always, create, misunderstandings, problems, due, also, love, easy, welldesigned, conven]   \n",
       "2                         [never, issues, delivery, always, got, food, time, problems, new, app, ui, looks, good, little, confusing, first, 4, stars, previous, order, history, saved, addresses, gone, due, new, update]   \n",
       "3                                                                                                                                                                       [great, service, preorder, option, great, loving]   \n",
       "4                                                                                                                                                                                               [delivery, service, best]   \n",
       "..                                                                                                                                                                                                                    ...   \n",
       "562                                                                                                                                                                                  [food, bad, gives, wrong, food, bad]   \n",
       "563                                                                                            [ordered, food, almost, 1, 12, hour, ago, still, receive, yet, rider, wasted, time, waiting, delivery, worst, rider, ever]   \n",
       "564                                                                                                                                                                             [order, 140, tk, deliver, 40, tk, burger]   \n",
       "565                                                                                                                                                                                                        [worst, rider]   \n",
       "566                                                                                                                                                                         [waiting, long, time, food, come, long, time]   \n",
       "\n",
       "                                                                                                                                                                                  lemmatize  \\\n",
       "0                                                                                                                                                                          got best service   \n",
       "1    impressive service customer love come call confirmation order also address online delivery platform dont always create misunderstanding problem due also love easy welldesigned conven   \n",
       "2                             never issue delivery always got food time problem new app ui look good little confusing first 4 star previous order history saved address gone due new update   \n",
       "3                                                                                                                                                great service preorder option great loving   \n",
       "4                                                                                                                                                                     delivery service best   \n",
       "..                                                                                                                                                                                      ...   \n",
       "562                                                                                                                                                            food bad give wrong food bad   \n",
       "563                                                                                 ordered food almost 1 12 hour ago still receive yet rider wasted time waiting delivery worst rider ever   \n",
       "564                                                                                                                                                       order 140 tk deliver 40 tk burger   \n",
       "565                                                                                                                                                                             worst rider   \n",
       "566                                                                                                                                                   waiting long time food come long time   \n",
       "\n",
       "                                                                                                                                                                                      emoji  \\\n",
       "0                                                                                                                                                                          got best service   \n",
       "1    impressive service customer love come call confirmation order also address online delivery platform dont always create misunderstanding problem due also love easy welldesigned conven   \n",
       "2                             never issue delivery always got food time problem new app ui look good little confusing first 4 star previous order history saved address gone due new update   \n",
       "3                                                                                                                                                great service preorder option great loving   \n",
       "4                                                                                                                                                                     delivery service best   \n",
       "..                                                                                                                                                                                      ...   \n",
       "562                                                                                                                                                            food bad give wrong food bad   \n",
       "563                                                                                 ordered food almost 1 12 hour ago still receive yet rider wasted time waiting delivery worst rider ever   \n",
       "564                                                                                                                                                       order 140 tk deliver 40 tk burger   \n",
       "565                                                                                                                                                                             worst rider   \n",
       "566                                                                                                                                                   waiting long time food come long time   \n",
       "\n",
       "                                                                                                                                                                                       text  \n",
       "0                                                                                                                                                                          got best service  \n",
       "1    impressive service customer love come call confirmation order also address online delivery platform dont always create misunderstanding problem due also love easy welldesigned conven  \n",
       "2                              never issue delivery always got food time problem new app ui look good little confusing first  star previous order history saved address gone due new update  \n",
       "3                                                                                                                                                great service preorder option great loving  \n",
       "4                                                                                                                                                                     delivery service best  \n",
       "..                                                                                                                                                                                      ...  \n",
       "562                                                                                                                                                            food bad give wrong food bad  \n",
       "563                                                                                    ordered food almost   hour ago still receive yet rider wasted time waiting delivery worst rider ever  \n",
       "564                                                                                                                                                            order  tk deliver  tk burger  \n",
       "565                                                                                                                                                                             worst rider  \n",
       "566                                                                                                                                                   waiting long time food come long time  \n",
       "\n",
       "[567 rows x 5 columns]"
      ]
     },
     "execution_count": 510,
     "metadata": {},
     "output_type": "execute_result"
    }
   ],
   "source": [
    "del df['tokenized']\n",
    "df"
   ]
  },
  {
   "cell_type": "code",
   "execution_count": 511,
   "metadata": {},
   "outputs": [
    {
     "data": {
      "text/html": [
       "<div>\n",
       "<style scoped>\n",
       "    .dataframe tbody tr th:only-of-type {\n",
       "        vertical-align: middle;\n",
       "    }\n",
       "\n",
       "    .dataframe tbody tr th {\n",
       "        vertical-align: top;\n",
       "    }\n",
       "\n",
       "    .dataframe thead th {\n",
       "        text-align: right;\n",
       "    }\n",
       "</style>\n",
       "<table border=\"1\" class=\"dataframe\">\n",
       "  <thead>\n",
       "    <tr style=\"text-align: right;\">\n",
       "      <th></th>\n",
       "      <th>sentiment</th>\n",
       "      <th>lemmatize</th>\n",
       "      <th>emoji</th>\n",
       "      <th>text</th>\n",
       "    </tr>\n",
       "  </thead>\n",
       "  <tbody>\n",
       "    <tr>\n",
       "      <th>0</th>\n",
       "      <td>1</td>\n",
       "      <td>got best service</td>\n",
       "      <td>got best service</td>\n",
       "      <td>got best service</td>\n",
       "    </tr>\n",
       "    <tr>\n",
       "      <th>1</th>\n",
       "      <td>1</td>\n",
       "      <td>impressive service customer love come call confirmation order also address online delivery platform dont always create misunderstanding problem due also love easy welldesigned conven</td>\n",
       "      <td>impressive service customer love come call confirmation order also address online delivery platform dont always create misunderstanding problem due also love easy welldesigned conven</td>\n",
       "      <td>impressive service customer love come call confirmation order also address online delivery platform dont always create misunderstanding problem due also love easy welldesigned conven</td>\n",
       "    </tr>\n",
       "    <tr>\n",
       "      <th>2</th>\n",
       "      <td>1</td>\n",
       "      <td>never issue delivery always got food time problem new app ui look good little confusing first 4 star previous order history saved address gone due new update</td>\n",
       "      <td>never issue delivery always got food time problem new app ui look good little confusing first 4 star previous order history saved address gone due new update</td>\n",
       "      <td>never issue delivery always got food time problem new app ui look good little confusing first  star previous order history saved address gone due new update</td>\n",
       "    </tr>\n",
       "    <tr>\n",
       "      <th>3</th>\n",
       "      <td>1</td>\n",
       "      <td>great service preorder option great loving</td>\n",
       "      <td>great service preorder option great loving</td>\n",
       "      <td>great service preorder option great loving</td>\n",
       "    </tr>\n",
       "    <tr>\n",
       "      <th>4</th>\n",
       "      <td>1</td>\n",
       "      <td>delivery service best</td>\n",
       "      <td>delivery service best</td>\n",
       "      <td>delivery service best</td>\n",
       "    </tr>\n",
       "    <tr>\n",
       "      <th>...</th>\n",
       "      <td>...</td>\n",
       "      <td>...</td>\n",
       "      <td>...</td>\n",
       "      <td>...</td>\n",
       "    </tr>\n",
       "    <tr>\n",
       "      <th>562</th>\n",
       "      <td>0</td>\n",
       "      <td>food bad give wrong food bad</td>\n",
       "      <td>food bad give wrong food bad</td>\n",
       "      <td>food bad give wrong food bad</td>\n",
       "    </tr>\n",
       "    <tr>\n",
       "      <th>563</th>\n",
       "      <td>0</td>\n",
       "      <td>ordered food almost 1 12 hour ago still receive yet rider wasted time waiting delivery worst rider ever</td>\n",
       "      <td>ordered food almost 1 12 hour ago still receive yet rider wasted time waiting delivery worst rider ever</td>\n",
       "      <td>ordered food almost   hour ago still receive yet rider wasted time waiting delivery worst rider ever</td>\n",
       "    </tr>\n",
       "    <tr>\n",
       "      <th>564</th>\n",
       "      <td>0</td>\n",
       "      <td>order 140 tk deliver 40 tk burger</td>\n",
       "      <td>order 140 tk deliver 40 tk burger</td>\n",
       "      <td>order  tk deliver  tk burger</td>\n",
       "    </tr>\n",
       "    <tr>\n",
       "      <th>565</th>\n",
       "      <td>0</td>\n",
       "      <td>worst rider</td>\n",
       "      <td>worst rider</td>\n",
       "      <td>worst rider</td>\n",
       "    </tr>\n",
       "    <tr>\n",
       "      <th>566</th>\n",
       "      <td>0</td>\n",
       "      <td>waiting long time food come long time</td>\n",
       "      <td>waiting long time food come long time</td>\n",
       "      <td>waiting long time food come long time</td>\n",
       "    </tr>\n",
       "  </tbody>\n",
       "</table>\n",
       "<p>567 rows × 4 columns</p>\n",
       "</div>"
      ],
      "text/plain": [
       "     sentiment  \\\n",
       "0            1   \n",
       "1            1   \n",
       "2            1   \n",
       "3            1   \n",
       "4            1   \n",
       "..         ...   \n",
       "562          0   \n",
       "563          0   \n",
       "564          0   \n",
       "565          0   \n",
       "566          0   \n",
       "\n",
       "                                                                                                                                                                                  lemmatize  \\\n",
       "0                                                                                                                                                                          got best service   \n",
       "1    impressive service customer love come call confirmation order also address online delivery platform dont always create misunderstanding problem due also love easy welldesigned conven   \n",
       "2                             never issue delivery always got food time problem new app ui look good little confusing first 4 star previous order history saved address gone due new update   \n",
       "3                                                                                                                                                great service preorder option great loving   \n",
       "4                                                                                                                                                                     delivery service best   \n",
       "..                                                                                                                                                                                      ...   \n",
       "562                                                                                                                                                            food bad give wrong food bad   \n",
       "563                                                                                 ordered food almost 1 12 hour ago still receive yet rider wasted time waiting delivery worst rider ever   \n",
       "564                                                                                                                                                       order 140 tk deliver 40 tk burger   \n",
       "565                                                                                                                                                                             worst rider   \n",
       "566                                                                                                                                                   waiting long time food come long time   \n",
       "\n",
       "                                                                                                                                                                                      emoji  \\\n",
       "0                                                                                                                                                                          got best service   \n",
       "1    impressive service customer love come call confirmation order also address online delivery platform dont always create misunderstanding problem due also love easy welldesigned conven   \n",
       "2                             never issue delivery always got food time problem new app ui look good little confusing first 4 star previous order history saved address gone due new update   \n",
       "3                                                                                                                                                great service preorder option great loving   \n",
       "4                                                                                                                                                                     delivery service best   \n",
       "..                                                                                                                                                                                      ...   \n",
       "562                                                                                                                                                            food bad give wrong food bad   \n",
       "563                                                                                 ordered food almost 1 12 hour ago still receive yet rider wasted time waiting delivery worst rider ever   \n",
       "564                                                                                                                                                       order 140 tk deliver 40 tk burger   \n",
       "565                                                                                                                                                                             worst rider   \n",
       "566                                                                                                                                                   waiting long time food come long time   \n",
       "\n",
       "                                                                                                                                                                                       text  \n",
       "0                                                                                                                                                                          got best service  \n",
       "1    impressive service customer love come call confirmation order also address online delivery platform dont always create misunderstanding problem due also love easy welldesigned conven  \n",
       "2                              never issue delivery always got food time problem new app ui look good little confusing first  star previous order history saved address gone due new update  \n",
       "3                                                                                                                                                great service preorder option great loving  \n",
       "4                                                                                                                                                                     delivery service best  \n",
       "..                                                                                                                                                                                      ...  \n",
       "562                                                                                                                                                            food bad give wrong food bad  \n",
       "563                                                                                    ordered food almost   hour ago still receive yet rider wasted time waiting delivery worst rider ever  \n",
       "564                                                                                                                                                            order  tk deliver  tk burger  \n",
       "565                                                                                                                                                                             worst rider  \n",
       "566                                                                                                                                                   waiting long time food come long time  \n",
       "\n",
       "[567 rows x 4 columns]"
      ]
     },
     "execution_count": 511,
     "metadata": {},
     "output_type": "execute_result"
    }
   ],
   "source": [
    "del df['remove_sw']\n",
    "df"
   ]
  },
  {
   "cell_type": "code",
   "execution_count": 512,
   "metadata": {},
   "outputs": [
    {
     "data": {
      "text/html": [
       "<div>\n",
       "<style scoped>\n",
       "    .dataframe tbody tr th:only-of-type {\n",
       "        vertical-align: middle;\n",
       "    }\n",
       "\n",
       "    .dataframe tbody tr th {\n",
       "        vertical-align: top;\n",
       "    }\n",
       "\n",
       "    .dataframe thead th {\n",
       "        text-align: right;\n",
       "    }\n",
       "</style>\n",
       "<table border=\"1\" class=\"dataframe\">\n",
       "  <thead>\n",
       "    <tr style=\"text-align: right;\">\n",
       "      <th></th>\n",
       "      <th>sentiment</th>\n",
       "      <th>emoji</th>\n",
       "      <th>text</th>\n",
       "    </tr>\n",
       "  </thead>\n",
       "  <tbody>\n",
       "    <tr>\n",
       "      <th>0</th>\n",
       "      <td>1</td>\n",
       "      <td>got best service</td>\n",
       "      <td>got best service</td>\n",
       "    </tr>\n",
       "    <tr>\n",
       "      <th>1</th>\n",
       "      <td>1</td>\n",
       "      <td>impressive service customer love come call confirmation order also address online delivery platform dont always create misunderstanding problem due also love easy welldesigned conven</td>\n",
       "      <td>impressive service customer love come call confirmation order also address online delivery platform dont always create misunderstanding problem due also love easy welldesigned conven</td>\n",
       "    </tr>\n",
       "    <tr>\n",
       "      <th>2</th>\n",
       "      <td>1</td>\n",
       "      <td>never issue delivery always got food time problem new app ui look good little confusing first 4 star previous order history saved address gone due new update</td>\n",
       "      <td>never issue delivery always got food time problem new app ui look good little confusing first  star previous order history saved address gone due new update</td>\n",
       "    </tr>\n",
       "    <tr>\n",
       "      <th>3</th>\n",
       "      <td>1</td>\n",
       "      <td>great service preorder option great loving</td>\n",
       "      <td>great service preorder option great loving</td>\n",
       "    </tr>\n",
       "    <tr>\n",
       "      <th>4</th>\n",
       "      <td>1</td>\n",
       "      <td>delivery service best</td>\n",
       "      <td>delivery service best</td>\n",
       "    </tr>\n",
       "    <tr>\n",
       "      <th>...</th>\n",
       "      <td>...</td>\n",
       "      <td>...</td>\n",
       "      <td>...</td>\n",
       "    </tr>\n",
       "    <tr>\n",
       "      <th>562</th>\n",
       "      <td>0</td>\n",
       "      <td>food bad give wrong food bad</td>\n",
       "      <td>food bad give wrong food bad</td>\n",
       "    </tr>\n",
       "    <tr>\n",
       "      <th>563</th>\n",
       "      <td>0</td>\n",
       "      <td>ordered food almost 1 12 hour ago still receive yet rider wasted time waiting delivery worst rider ever</td>\n",
       "      <td>ordered food almost   hour ago still receive yet rider wasted time waiting delivery worst rider ever</td>\n",
       "    </tr>\n",
       "    <tr>\n",
       "      <th>564</th>\n",
       "      <td>0</td>\n",
       "      <td>order 140 tk deliver 40 tk burger</td>\n",
       "      <td>order  tk deliver  tk burger</td>\n",
       "    </tr>\n",
       "    <tr>\n",
       "      <th>565</th>\n",
       "      <td>0</td>\n",
       "      <td>worst rider</td>\n",
       "      <td>worst rider</td>\n",
       "    </tr>\n",
       "    <tr>\n",
       "      <th>566</th>\n",
       "      <td>0</td>\n",
       "      <td>waiting long time food come long time</td>\n",
       "      <td>waiting long time food come long time</td>\n",
       "    </tr>\n",
       "  </tbody>\n",
       "</table>\n",
       "<p>567 rows × 3 columns</p>\n",
       "</div>"
      ],
      "text/plain": [
       "     sentiment  \\\n",
       "0            1   \n",
       "1            1   \n",
       "2            1   \n",
       "3            1   \n",
       "4            1   \n",
       "..         ...   \n",
       "562          0   \n",
       "563          0   \n",
       "564          0   \n",
       "565          0   \n",
       "566          0   \n",
       "\n",
       "                                                                                                                                                                                      emoji  \\\n",
       "0                                                                                                                                                                          got best service   \n",
       "1    impressive service customer love come call confirmation order also address online delivery platform dont always create misunderstanding problem due also love easy welldesigned conven   \n",
       "2                             never issue delivery always got food time problem new app ui look good little confusing first 4 star previous order history saved address gone due new update   \n",
       "3                                                                                                                                                great service preorder option great loving   \n",
       "4                                                                                                                                                                     delivery service best   \n",
       "..                                                                                                                                                                                      ...   \n",
       "562                                                                                                                                                            food bad give wrong food bad   \n",
       "563                                                                                 ordered food almost 1 12 hour ago still receive yet rider wasted time waiting delivery worst rider ever   \n",
       "564                                                                                                                                                       order 140 tk deliver 40 tk burger   \n",
       "565                                                                                                                                                                             worst rider   \n",
       "566                                                                                                                                                   waiting long time food come long time   \n",
       "\n",
       "                                                                                                                                                                                       text  \n",
       "0                                                                                                                                                                          got best service  \n",
       "1    impressive service customer love come call confirmation order also address online delivery platform dont always create misunderstanding problem due also love easy welldesigned conven  \n",
       "2                              never issue delivery always got food time problem new app ui look good little confusing first  star previous order history saved address gone due new update  \n",
       "3                                                                                                                                                great service preorder option great loving  \n",
       "4                                                                                                                                                                     delivery service best  \n",
       "..                                                                                                                                                                                      ...  \n",
       "562                                                                                                                                                            food bad give wrong food bad  \n",
       "563                                                                                    ordered food almost   hour ago still receive yet rider wasted time waiting delivery worst rider ever  \n",
       "564                                                                                                                                                            order  tk deliver  tk burger  \n",
       "565                                                                                                                                                                             worst rider  \n",
       "566                                                                                                                                                   waiting long time food come long time  \n",
       "\n",
       "[567 rows x 3 columns]"
      ]
     },
     "execution_count": 512,
     "metadata": {},
     "output_type": "execute_result"
    }
   ],
   "source": [
    "del df['lemmatize']\n",
    "df"
   ]
  },
  {
   "cell_type": "code",
   "execution_count": 513,
   "metadata": {},
   "outputs": [
    {
     "data": {
      "text/html": [
       "<div>\n",
       "<style scoped>\n",
       "    .dataframe tbody tr th:only-of-type {\n",
       "        vertical-align: middle;\n",
       "    }\n",
       "\n",
       "    .dataframe tbody tr th {\n",
       "        vertical-align: top;\n",
       "    }\n",
       "\n",
       "    .dataframe thead th {\n",
       "        text-align: right;\n",
       "    }\n",
       "</style>\n",
       "<table border=\"1\" class=\"dataframe\">\n",
       "  <thead>\n",
       "    <tr style=\"text-align: right;\">\n",
       "      <th></th>\n",
       "      <th>sentiment</th>\n",
       "      <th>text</th>\n",
       "    </tr>\n",
       "  </thead>\n",
       "  <tbody>\n",
       "    <tr>\n",
       "      <th>0</th>\n",
       "      <td>1</td>\n",
       "      <td>got best service</td>\n",
       "    </tr>\n",
       "    <tr>\n",
       "      <th>1</th>\n",
       "      <td>1</td>\n",
       "      <td>impressive service customer love come call confirmation order also address online delivery platform dont always create misunderstanding problem due also love easy welldesigned conven</td>\n",
       "    </tr>\n",
       "    <tr>\n",
       "      <th>2</th>\n",
       "      <td>1</td>\n",
       "      <td>never issue delivery always got food time problem new app ui look good little confusing first  star previous order history saved address gone due new update</td>\n",
       "    </tr>\n",
       "    <tr>\n",
       "      <th>3</th>\n",
       "      <td>1</td>\n",
       "      <td>great service preorder option great loving</td>\n",
       "    </tr>\n",
       "    <tr>\n",
       "      <th>4</th>\n",
       "      <td>1</td>\n",
       "      <td>delivery service best</td>\n",
       "    </tr>\n",
       "    <tr>\n",
       "      <th>...</th>\n",
       "      <td>...</td>\n",
       "      <td>...</td>\n",
       "    </tr>\n",
       "    <tr>\n",
       "      <th>562</th>\n",
       "      <td>0</td>\n",
       "      <td>food bad give wrong food bad</td>\n",
       "    </tr>\n",
       "    <tr>\n",
       "      <th>563</th>\n",
       "      <td>0</td>\n",
       "      <td>ordered food almost   hour ago still receive yet rider wasted time waiting delivery worst rider ever</td>\n",
       "    </tr>\n",
       "    <tr>\n",
       "      <th>564</th>\n",
       "      <td>0</td>\n",
       "      <td>order  tk deliver  tk burger</td>\n",
       "    </tr>\n",
       "    <tr>\n",
       "      <th>565</th>\n",
       "      <td>0</td>\n",
       "      <td>worst rider</td>\n",
       "    </tr>\n",
       "    <tr>\n",
       "      <th>566</th>\n",
       "      <td>0</td>\n",
       "      <td>waiting long time food come long time</td>\n",
       "    </tr>\n",
       "  </tbody>\n",
       "</table>\n",
       "<p>567 rows × 2 columns</p>\n",
       "</div>"
      ],
      "text/plain": [
       "     sentiment  \\\n",
       "0            1   \n",
       "1            1   \n",
       "2            1   \n",
       "3            1   \n",
       "4            1   \n",
       "..         ...   \n",
       "562          0   \n",
       "563          0   \n",
       "564          0   \n",
       "565          0   \n",
       "566          0   \n",
       "\n",
       "                                                                                                                                                                                       text  \n",
       "0                                                                                                                                                                          got best service  \n",
       "1    impressive service customer love come call confirmation order also address online delivery platform dont always create misunderstanding problem due also love easy welldesigned conven  \n",
       "2                              never issue delivery always got food time problem new app ui look good little confusing first  star previous order history saved address gone due new update  \n",
       "3                                                                                                                                                great service preorder option great loving  \n",
       "4                                                                                                                                                                     delivery service best  \n",
       "..                                                                                                                                                                                      ...  \n",
       "562                                                                                                                                                            food bad give wrong food bad  \n",
       "563                                                                                    ordered food almost   hour ago still receive yet rider wasted time waiting delivery worst rider ever  \n",
       "564                                                                                                                                                            order  tk deliver  tk burger  \n",
       "565                                                                                                                                                                             worst rider  \n",
       "566                                                                                                                                                   waiting long time food come long time  \n",
       "\n",
       "[567 rows x 2 columns]"
      ]
     },
     "execution_count": 513,
     "metadata": {},
     "output_type": "execute_result"
    }
   ],
   "source": [
    "del df['emoji']\n",
    "df"
   ]
  },
  {
   "cell_type": "markdown",
   "metadata": {},
   "source": [
    "# count some value"
   ]
  },
  {
   "cell_type": "code",
   "execution_count": 514,
   "metadata": {},
   "outputs": [
    {
     "data": {
      "text/plain": [
       "0    295\n",
       "1    272\n",
       "Name: sentiment, dtype: int64"
      ]
     },
     "execution_count": 514,
     "metadata": {},
     "output_type": "execute_result"
    }
   ],
   "source": [
    "df['sentiment'].value_counts()"
   ]
  },
  {
   "cell_type": "code",
   "execution_count": 515,
   "metadata": {},
   "outputs": [],
   "source": [
    "df.drop_duplicates(inplace = True)"
   ]
  },
  {
   "cell_type": "code",
   "execution_count": 516,
   "metadata": {},
   "outputs": [
    {
     "data": {
      "text/plain": [
       "0    289\n",
       "1    264\n",
       "Name: sentiment, dtype: int64"
      ]
     },
     "execution_count": 516,
     "metadata": {},
     "output_type": "execute_result"
    }
   ],
   "source": [
    "df['sentiment'].value_counts()"
   ]
  },
  {
   "cell_type": "code",
   "execution_count": 517,
   "metadata": {},
   "outputs": [
    {
     "data": {
      "text/plain": [
       "sentiment    0\n",
       "text         0\n",
       "dtype: int64"
      ]
     },
     "execution_count": 517,
     "metadata": {},
     "output_type": "execute_result"
    }
   ],
   "source": [
    "df.isnull().sum()"
   ]
  },
  {
   "cell_type": "markdown",
   "metadata": {},
   "source": [
    "# Data exploration"
   ]
  },
  {
   "cell_type": "code",
   "execution_count": 518,
   "metadata": {},
   "outputs": [
    {
     "data": {
      "text/plain": [
       "<AxesSubplot:>"
      ]
     },
     "execution_count": 518,
     "metadata": {},
     "output_type": "execute_result"
    },
    {
     "data": {
      "image/png": "[encoded data removed]",
      "text/plain": [
       "<Figure size 432x288 with 1 Axes>"
      ]
     },
     "metadata": {
      "needs_background": "light"
     },
     "output_type": "display_data"
    }
   ],
   "source": [
    "df['sentiment'].value_counts().sort_index().plot.bar(color=['firebrick','skyblue'])"
   ]
  },
  {
   "cell_type": "code",
   "execution_count": 519,
   "metadata": {},
   "outputs": [
    {
     "data": {
      "text/plain": [
       "<AxesSubplot:ylabel='sentiment'>"
      ]
     },
     "execution_count": 519,
     "metadata": {},
     "output_type": "execute_result"
    },
    {
     "data": {
      "image/png": "[encoded data removed]",
      "text/plain": [
       "<Figure size 432x288 with 1 Axes>"
      ]
     },
     "metadata": {},
     "output_type": "display_data"
    }
   ],
   "source": [
    "df['sentiment'].value_counts().plot(kind='pie', autopct='%1.0f%%', colors=[ \"darkorange\", \"darksalmon\"])"
   ]
  },
  {
   "cell_type": "code",
   "execution_count": 520,
   "metadata": {},
   "outputs": [
    {
     "data": {
      "text/plain": [
       "<AxesSubplot:ylabel='Frequency'>"
      ]
     },
     "execution_count": 520,
     "metadata": {},
     "output_type": "execute_result"
    },
    {
     "data": {
      "image/png": "[encoded data removed]",
      "text/plain": [
       "<Figure size 432x288 with 1 Axes>"
      ]
     },
     "metadata": {
      "needs_background": "light"
     },
     "output_type": "display_data"
    }
   ],
   "source": [
    "df['text'].str.len().plot.hist(color=['firebrick'])"
   ]
  },
  {
   "cell_type": "markdown",
   "metadata": {},
   "source": [
    "# Feature extraction & split data"
   ]
  },
  {
   "cell_type": "code",
   "execution_count": 521,
   "metadata": {},
   "outputs": [],
   "source": [
    "y=df.sentiment.values\n",
    "X=df.text.values"
   ]
  },
  {
   "cell_type": "code",
   "execution_count": 522,
   "metadata": {},
   "outputs": [],
   "source": [
    "from sklearn.model_selection import train_test_split\n",
    "Xtrain, Xval, y_train, y_val = train_test_split(\n",
    "    X, y, train_size = 0.80)"
   ]
  },
  {
   "cell_type": "code",
   "execution_count": 523,
   "metadata": {},
   "outputs": [],
   "source": [
    "from sklearn.feature_extraction.text import CountVectorizer\n",
    "ngram_vectorizer = CountVectorizer(ngram_range=(1,1))\n",
    "X_train= ngram_vectorizer.fit(Xtrain)\n",
    "X_train= ngram_vectorizer.transform(Xtrain)\n",
    "X_val= ngram_vectorizer.transform(Xval)\n"
   ]
  },
  {
   "cell_type": "code",
   "execution_count": 524,
   "metadata": {},
   "outputs": [
    {
     "data": {
      "text/plain": [
       "array([[0, 0, 0, ..., 0, 0, 0],\n",
       "       [0, 0, 0, ..., 0, 0, 0],\n",
       "       [0, 0, 0, ..., 0, 0, 0],\n",
       "       ...,\n",
       "       [0, 0, 0, ..., 0, 0, 0],\n",
       "       [0, 0, 0, ..., 0, 0, 0],\n",
       "       [0, 0, 0, ..., 0, 0, 0]], dtype=int64)"
      ]
     },
     "execution_count": 524,
     "metadata": {},
     "output_type": "execute_result"
    }
   ],
   "source": [
    "X_train.toarray()"
   ]
  },
  {
   "cell_type": "markdown",
   "metadata": {},
   "source": [
    "# SVM"
   ]
  },
  {
   "cell_type": "code",
   "execution_count": 525,
   "metadata": {},
   "outputs": [
    {
     "name": "stdout",
     "output_type": "stream",
     "text": [
      "Support Vector Machine Accuracy: 0.91\n"
     ]
    }
   ],
   "source": [
    "from sklearn.svm import SVC\n",
    "from sklearn.metrics import accuracy_score\n",
    "from sklearn import metrics\n",
    "svm=SVC()\n",
    "svm.fit(X_train, y_train)\n",
    "pred_svm=svm.predict(X_val)\n",
    "print(\"Support Vector Machine Accuracy: %.2f\"%(metrics.accuracy_score(y_val, pred_svm)))"
   ]
  },
  {
   "cell_type": "markdown",
   "metadata": {},
   "source": [
    "# ROC Curve"
   ]
  },
  {
   "cell_type": "code",
   "execution_count": 526,
   "metadata": {},
   "outputs": [
    {
     "data": {
      "image/png": "[encoded data removed]",
      "text/plain": [
       "<Figure size 432x288 with 1 Axes>"
      ]
     },
     "metadata": {
      "needs_background": "light"
     },
     "output_type": "display_data"
    }
   ],
   "source": [
    "from sklearn.metrics import roc_curve, auc\n",
    "fpr, tpr, thresholds = roc_curve(y_val,pred_svm)\n",
    "roc_auc = auc(fpr, tpr)\n",
    "\n",
    "plt.figure()\n",
    "plt.plot(fpr, tpr, color='darkorange', lw=1, label='ROC curve (area = %0.2f)' % roc_auc)\n",
    "plt.plot([0, 1], [0, 1], color='navy', lw=1, linestyle='--')\n",
    "plt.xlim([0.0, 1.0])\n",
    "plt.ylim([0.0, 1.05])\n",
    "plt.xlabel('False Positive Rate')\n",
    "plt.ylabel('True Positive Rate')\n",
    "plt.title('Receiver operating characteristic')\n",
    "plt.legend(loc=\"lower right\")\n",
    "plt.show()"
   ]
  },
  {
   "cell_type": "markdown",
   "metadata": {},
   "source": [
    "# Confusion Matrix"
   ]
  },
  {
   "cell_type": "code",
   "execution_count": 527,
   "metadata": {},
   "outputs": [
    {
     "name": "stdout",
     "output_type": "stream",
     "text": [
      "[[56  2]\n",
      " [ 8 45]]\n"
     ]
    },
    {
     "data": {
      "image/png": "[encoded data removed]",
      "text/plain": [
       "<Figure size 432x288 with 2 Axes>"
      ]
     },
     "metadata": {
      "needs_background": "light"
     },
     "output_type": "display_data"
    },
    {
     "data": {
      "text/plain": [
       "<Figure size 720x720 with 0 Axes>"
      ]
     },
     "metadata": {},
     "output_type": "display_data"
    },
    {
     "data": {
      "image/png": "[encoded data removed]",
      "text/plain": [
       "<Figure size 432x288 with 2 Axes>"
      ]
     },
     "metadata": {
      "needs_background": "light"
     },
     "output_type": "display_data"
    }
   ],
   "source": [
    "from sklearn import metrics\n",
    "cm_SVM=print(metrics.confusion_matrix(y_val,pred_svm))\n",
    "\n",
    "from sklearn import metrics\n",
    "import seaborn as sn\n",
    "import matplotlib.pyplot as plt\n",
    "confusion=metrics.confusion_matrix(y_val,pred_svm)\n",
    "plt.xlabel('true')\n",
    "plt.ylabel('Predicted')\n",
    "sn.heatmap(confusion,annot=True)\n",
    "plt.title('Without Normalized Confusion matrix for our classifier')\n",
    "plt.figure(figsize=(10,10))\n",
    "\n",
    "import matplotlib.pyplot as plt\n",
    "from sklearn.metrics import plot_confusion_matrix\n",
    "from mlxtend.plotting import plot_decision_regions\n",
    "matrix =plot_confusion_matrix(svm, X_val, y_val,\n",
    "                                 cmap=plt.cm.Blues,\n",
    "                                 normalize='true')\n",
    "plt.title('Normalized Confusion matrix for our classifier')\n",
    "plt.show(matrix)\n",
    "plt.show()"
   ]
  },
  {
   "cell_type": "code",
   "execution_count": 528,
   "metadata": {},
   "outputs": [
    {
     "name": "stdout",
     "output_type": "stream",
     "text": [
      "True: [1 1 0 0 0 0 0 1 1 0 1 0 1 0 1 1 0 0 0 0 1 1 0 1 1]\n",
      "Pred: [1 1 0 0 0 0 0 1 0 0 1 0 1 0 1 1 1 0 0 0 1 1 0 1 1]\n"
     ]
    }
   ],
   "source": [
    "# print the first 25 true and predicted responses\n",
    "print('True:', y_val[0:25])\n",
    "print('Pred:', pred_svm[0:25])"
   ]
  },
  {
   "cell_type": "markdown",
   "metadata": {},
   "source": [
    "# precision recall F1 score"
   ]
  },
  {
   "cell_type": "code",
   "execution_count": 529,
   "metadata": {},
   "outputs": [
    {
     "name": "stdout",
     "output_type": "stream",
     "text": [
      "Support Vector Machine Precision: 0.95\n",
      "Support Vector Machine Recall: 0.87\n",
      "Support Vector Machine F1 score: 0.91\n"
     ]
    }
   ],
   "source": [
    "TP_SVM =55\n",
    "TN_SVM =45\n",
    "FP_SVM=3\n",
    "FN_SVM=8\n",
    "\n",
    "Precision_SVM=TP_SVM/(TP_SVM+FP_SVM)\n",
    "print(\"Support Vector Machine Precision: %.2f\"%(Precision_SVM))\n",
    "\n",
    "Recall_SVM= TP_SVM/(TP_SVM+FN_SVM)\n",
    "print(\"Support Vector Machine Recall: %.2f\"%(Recall_SVM))\n",
    "\n",
    "F1_SVM= 2*((Precision_SVM*Recall_SVM)/(Precision_SVM+Recall_SVM))\n",
    "print(\"Support Vector Machine F1 score: %.2f\"%(F1_SVM))"
   ]
  },
  {
   "cell_type": "markdown",
   "metadata": {},
   "source": [
    "# Classification Report"
   ]
  },
  {
   "cell_type": "code",
   "execution_count": 530,
   "metadata": {},
   "outputs": [
    {
     "name": "stdout",
     "output_type": "stream",
     "text": [
      "              precision    recall  f1-score   support\n",
      "\n",
      "           0       0.88      0.97      0.92        58\n",
      "           1       0.96      0.85      0.90        53\n",
      "\n",
      "    accuracy                           0.91       111\n",
      "   macro avg       0.92      0.91      0.91       111\n",
      "weighted avg       0.91      0.91      0.91       111\n",
      "\n"
     ]
    }
   ],
   "source": [
    "from sklearn.metrics import classification_report\n",
    "print(classification_report(y_val,pred_svm))"
   ]
  },
  {
   "cell_type": "markdown",
   "metadata": {},
   "source": [
    "# Logistic Regression"
   ]
  },
  {
   "cell_type": "code",
   "execution_count": 531,
   "metadata": {},
   "outputs": [
    {
     "name": "stdout",
     "output_type": "stream",
     "text": [
      "Logistic Regression Accuracy: 0.93\n"
     ]
    }
   ],
   "source": [
    "from sklearn.linear_model import LogisticRegression\n",
    "lr = LogisticRegression(C=0.25)\n",
    "lr.fit(X_train, y_train)\n",
    "pred_lr=lr.predict(X_val)\n",
    "print(\"Logistic Regression Accuracy: %.2f\"%(metrics.accuracy_score(y_val, pred_lr)))"
   ]
  },
  {
   "cell_type": "markdown",
   "metadata": {},
   "source": [
    "# ROC curve"
   ]
  },
  {
   "cell_type": "code",
   "execution_count": 532,
   "metadata": {},
   "outputs": [
    {
     "data": {
      "image/png": "[encoded data removed]",
      "text/plain": [
       "<Figure size 432x288 with 1 Axes>"
      ]
     },
     "metadata": {
      "needs_background": "light"
     },
     "output_type": "display_data"
    }
   ],
   "source": [
    "from sklearn.metrics import roc_curve, auc\n",
    "fpr, tpr, thresholds = roc_curve(y_val,pred_lr)\n",
    "roc_auc = auc(fpr, tpr)\n",
    "\n",
    "plt.figure()\n",
    "plt.plot(fpr, tpr, color='green', lw=1, label='ROC curve (area = %0.2f)' % roc_auc)\n",
    "plt.plot([0, 1], [0, 1], color='navy', lw=1, linestyle='--')\n",
    "plt.xlim([0.0, 1.0])\n",
    "plt.ylim([0.0, 1.05])\n",
    "plt.xlabel('False Positive Rate')\n",
    "plt.ylabel('True Positive Rate')\n",
    "plt.title('Receiver operating characteristic')\n",
    "plt.legend(loc=\"lower right\")\n",
    "plt.show()"
   ]
  },
  {
   "cell_type": "markdown",
   "metadata": {},
   "source": [
    "# Confusion Matrix"
   ]
  },
  {
   "cell_type": "code",
   "execution_count": 533,
   "metadata": {},
   "outputs": [
    {
     "name": "stdout",
     "output_type": "stream",
     "text": [
      "[[57  1]\n",
      " [ 7 46]]\n"
     ]
    },
    {
     "data": {
      "image/png": "[encoded data removed]",
      "text/plain": [
       "<Figure size 432x288 with 2 Axes>"
      ]
     },
     "metadata": {
      "needs_background": "light"
     },
     "output_type": "display_data"
    },
    {
     "data": {
      "text/plain": [
       "<Figure size 720x720 with 0 Axes>"
      ]
     },
     "metadata": {},
     "output_type": "display_data"
    },
    {
     "data": {
      "image/png": "[encoded data removed]",
      "text/plain": [
       "<Figure size 432x288 with 2 Axes>"
      ]
     },
     "metadata": {
      "needs_background": "light"
     },
     "output_type": "display_data"
    }
   ],
   "source": [
    "from sklearn import metrics\n",
    "cm_LR=print(metrics.confusion_matrix(y_val,pred_lr))\n",
    "\n",
    "import seaborn as sn\n",
    "import matplotlib.pyplot as plt\n",
    "confusion=metrics.confusion_matrix(y_val,pred_lr)\n",
    "plt.xlabel('true')\n",
    "plt.ylabel('Predicted')\n",
    "sn.heatmap(confusion,annot=True)\n",
    "plt.title('Without Normalized Confusion matrix  for our classifier')\n",
    "plt.figure(figsize=(10,10))\n",
    "\n",
    "import matplotlib.pyplot as plt\n",
    "from sklearn.metrics import plot_confusion_matrix\n",
    "from mlxtend.plotting import plot_decision_regions\n",
    "matrix =plot_confusion_matrix(lr, X_val, y_val,\n",
    "                                 cmap=plt.cm.Blues,\n",
    "                                 normalize='true')\n",
    "plt.title('Normalized Confusion matrix  for our classifier')\n",
    "plt.show(matrix)\n",
    "plt.show()"
   ]
  },
  {
   "cell_type": "markdown",
   "metadata": {},
   "source": [
    "# Precision Recall F1_Score"
   ]
  },
  {
   "cell_type": "code",
   "execution_count": 534,
   "metadata": {},
   "outputs": [
    {
     "name": "stdout",
     "output_type": "stream",
     "text": [
      "Logistic Regression Precision: 0.95\n",
      "Logistic Regression Recall: 0.92\n",
      "Logistic Regression F1 score: 0.93\n"
     ]
    }
   ],
   "source": [
    "TP_LR =55\n",
    "TN_LR =48\n",
    "FP_LR=3\n",
    "FN_LR=5\n",
    "\n",
    "Precision_LR=TP_LR/(TP_LR+FP_LR)\n",
    "print(\"Logistic Regression Precision: %.2f\"%(Precision_LR))\n",
    "\n",
    "Recall_LR= TP_LR/(TP_LR+FN_LR)\n",
    "print(\"Logistic Regression Recall: %.2f\"%(Recall_LR))\n",
    "\n",
    "F1_LR= 2*((Precision_LR*Recall_LR)/(Precision_LR+Recall_LR))\n",
    "print(\"Logistic Regression F1 score: %.2f\"%(F1_LR))"
   ]
  },
  {
   "cell_type": "markdown",
   "metadata": {},
   "source": [
    "# Classification Report"
   ]
  },
  {
   "cell_type": "code",
   "execution_count": 535,
   "metadata": {},
   "outputs": [
    {
     "name": "stdout",
     "output_type": "stream",
     "text": [
      "              precision    recall  f1-score   support\n",
      "\n",
      "           0       0.89      0.98      0.93        58\n",
      "           1       0.98      0.87      0.92        53\n",
      "\n",
      "    accuracy                           0.93       111\n",
      "   macro avg       0.93      0.93      0.93       111\n",
      "weighted avg       0.93      0.93      0.93       111\n",
      "\n"
     ]
    }
   ],
   "source": [
    "from sklearn.metrics import classification_report\n",
    "print(classification_report(y_val,pred_lr))"
   ]
  },
  {
   "cell_type": "markdown",
   "metadata": {},
   "source": [
    "# Stochastic Gradient Descendent"
   ]
  },
  {
   "cell_type": "code",
   "execution_count": 536,
   "metadata": {},
   "outputs": [
    {
     "name": "stdout",
     "output_type": "stream",
     "text": [
      "Stochastic Gradient Accuracy: 0.90\n"
     ]
    },
    {
     "name": "stderr",
     "output_type": "stream",
     "text": [
      "C:\\Users\\user\\anaconda3\\envs\\PythonCPU\\lib\\site-packages\\sklearn\\linear_model\\_stochastic_gradient.py:573: ConvergenceWarning: Maximum number of iteration reached before convergence. Consider increasing max_iter to improve the fit.\n",
      "  ConvergenceWarning)\n"
     ]
    }
   ],
   "source": [
    "from sklearn.linear_model import SGDClassifier\n",
    "sgd = SGDClassifier(loss=\"hinge\", penalty=\"l2\", max_iter=5)\n",
    "sgd.fit(X_train, y_train)\n",
    "pred_sgd=sgd.predict(X_val)\n",
    "Accuracy_SGD= print(\"Stochastic Gradient Accuracy: %.2f\"%(metrics.accuracy_score(y_val, pred_sgd)))\n"
   ]
  },
  {
   "cell_type": "markdown",
   "metadata": {},
   "source": [
    "# ROC Curve"
   ]
  },
  {
   "cell_type": "code",
   "execution_count": 537,
   "metadata": {},
   "outputs": [
    {
     "data": {
      "image/png": "[encoded data removed]",
      "text/plain": [
       "<Figure size 432x288 with 1 Axes>"
      ]
     },
     "metadata": {
      "needs_background": "light"
     },
     "output_type": "display_data"
    }
   ],
   "source": [
    "from sklearn.metrics import roc_curve, auc\n",
    "fpr, tpr, thresholds = roc_curve(y_val,pred_sgd)\n",
    "roc_auc = auc(fpr, tpr)\n",
    "\n",
    "plt.figure()\n",
    "plt.plot(fpr, tpr, color='purple', lw=1, label='ROC curve (area = %0.2f)' % roc_auc)\n",
    "plt.plot([0, 1], [0, 1], color='navy', lw=1, linestyle='--')\n",
    "plt.xlim([0.0, 1.0])\n",
    "plt.ylim([0.0, 1.05])\n",
    "plt.xlabel('False Positive Rate')\n",
    "plt.ylabel('True Positive Rate')\n",
    "plt.title('Receiver operating characteristic')\n",
    "plt.legend(loc=\"lower right\")\n",
    "plt.show()"
   ]
  },
  {
   "cell_type": "markdown",
   "metadata": {},
   "source": [
    "# Confusion Matrix"
   ]
  },
  {
   "cell_type": "code",
   "execution_count": 538,
   "metadata": {},
   "outputs": [
    {
     "name": "stdout",
     "output_type": "stream",
     "text": [
      "[[53  5]\n",
      " [ 6 47]]\n"
     ]
    },
    {
     "data": {
      "image/png": "[encoded data removed]",
      "text/plain": [
       "<Figure size 432x288 with 2 Axes>"
      ]
     },
     "metadata": {
      "needs_background": "light"
     },
     "output_type": "display_data"
    },
    {
     "data": {
      "text/plain": [
       "<Figure size 720x720 with 0 Axes>"
      ]
     },
     "metadata": {},
     "output_type": "display_data"
    },
    {
     "data": {
      "image/png": "[encoded data removed]",
      "text/plain": [
       "<Figure size 432x288 with 2 Axes>"
      ]
     },
     "metadata": {
      "needs_background": "light"
     },
     "output_type": "display_data"
    }
   ],
   "source": [
    "from sklearn import metrics\n",
    "cm_SGD=print(metrics.confusion_matrix(y_val,pred_sgd))\n",
    "\n",
    "import seaborn as sn\n",
    "import matplotlib.pyplot as plt\n",
    "confusion=metrics.confusion_matrix(y_val,pred_sgd)\n",
    "plt.xlabel('true')\n",
    "plt.ylabel('Predicted')\n",
    "sn.heatmap(confusion,annot=True)\n",
    "plt.title('Without Normalized Confusion matrix for our classifier')\n",
    "plt.figure(figsize=(10,10))\n",
    "\n",
    "import matplotlib.pyplot as plt\n",
    "from sklearn.metrics import plot_confusion_matrix\n",
    "from mlxtend.plotting import plot_decision_regions\n",
    "matrix =plot_confusion_matrix(sgd, X_val, y_val,\n",
    "                                 cmap=plt.cm.Blues,\n",
    "                                 normalize='true')\n",
    "plt.title('Normalized Confusion matrix for our classifier')\n",
    "plt.show(matrix)\n",
    "plt.show()"
   ]
  },
  {
   "cell_type": "markdown",
   "metadata": {},
   "source": [
    "# Precision Recall F1_Score"
   ]
  },
  {
   "cell_type": "code",
   "execution_count": 539,
   "metadata": {},
   "outputs": [
    {
     "name": "stdout",
     "output_type": "stream",
     "text": [
      "Stochastic Gradient Precision: 0.95\n",
      "Stochastic Gradient Recall: 0.90\n",
      "Stochastic Gradient F1 score: 0.92\n"
     ]
    }
   ],
   "source": [
    "TP_SGD =55\n",
    "TN_SGD =47\n",
    "FP_SGD=3\n",
    "FN_SGD=6\n",
    "\n",
    "Precision_SGD=TP_SGD/(TP_SGD+FP_SGD)\n",
    "print(\"Stochastic Gradient Precision: %.2f\"%(Precision_SGD))\n",
    "\n",
    "Recall_SGD= TP_SGD/(TP_SGD+FN_SGD)\n",
    "print(\"Stochastic Gradient Recall: %.2f\"%(Recall_SGD))\n",
    "\n",
    "F1_SGD= 2*((Precision_SGD*Recall_SGD)/(Precision_SGD+Recall_SGD))\n",
    "print(\"Stochastic Gradient F1 score: %.2f\"%(F1_SGD))"
   ]
  },
  {
   "cell_type": "markdown",
   "metadata": {},
   "source": [
    "# Classification Report"
   ]
  },
  {
   "cell_type": "code",
   "execution_count": 540,
   "metadata": {},
   "outputs": [
    {
     "name": "stdout",
     "output_type": "stream",
     "text": [
      "              precision    recall  f1-score   support\n",
      "\n",
      "           0       0.90      0.91      0.91        58\n",
      "           1       0.90      0.89      0.90        53\n",
      "\n",
      "    accuracy                           0.90       111\n",
      "   macro avg       0.90      0.90      0.90       111\n",
      "weighted avg       0.90      0.90      0.90       111\n",
      "\n"
     ]
    }
   ],
   "source": [
    "from sklearn.metrics import classification_report\n",
    "print(classification_report(y_val,pred_sgd))"
   ]
  },
  {
   "cell_type": "markdown",
   "metadata": {},
   "source": [
    "# Multinomial Naive Bayes"
   ]
  },
  {
   "cell_type": "code",
   "execution_count": 541,
   "metadata": {},
   "outputs": [
    {
     "name": "stdout",
     "output_type": "stream",
     "text": [
      "MUltinomial Naive Bayes Accuracy: 0.92\n"
     ]
    }
   ],
   "source": [
    "from sklearn.naive_bayes import MultinomialNB\n",
    "mnb = MultinomialNB()\n",
    "mnb.fit(X_train, y_train)\n",
    "pred_mnb=mnb.predict(X_val)\n",
    "Accuracy_MNB=print(\"MUltinomial Naive Bayes Accuracy: %.2f\"%(metrics.accuracy_score(y_val, pred_mnb)))"
   ]
  },
  {
   "cell_type": "markdown",
   "metadata": {},
   "source": [
    "# ROC Curve"
   ]
  },
  {
   "cell_type": "code",
   "execution_count": 542,
   "metadata": {},
   "outputs": [
    {
     "data": {
      "image/png": "[encoded data removed]",
      "text/plain": [
       "<Figure size 432x288 with 1 Axes>"
      ]
     },
     "metadata": {
      "needs_background": "light"
     },
     "output_type": "display_data"
    }
   ],
   "source": [
    "from sklearn.metrics import roc_curve, auc\n",
    "fpr, tpr, thresholds = roc_curve(y_val,pred_mnb)\n",
    "roc_auc = auc(fpr, tpr)\n",
    "\n",
    "plt.figure()\n",
    "plt.plot(fpr, tpr, color='seagreen', lw=1, label='ROC curve (area = %0.2f)' % roc_auc)\n",
    "plt.plot([0, 1], [0, 1], color='navy', lw=1, linestyle='--')\n",
    "plt.xlim([0.0, 1.0])\n",
    "plt.ylim([0.0, 1.05])\n",
    "plt.xlabel('False Positive Rate')\n",
    "plt.ylabel('True Positive Rate')\n",
    "plt.title('Receiver operating characteristic')\n",
    "plt.legend(loc=\"lower right\")\n",
    "plt.show()"
   ]
  },
  {
   "cell_type": "markdown",
   "metadata": {},
   "source": [
    "# Confusion matrix"
   ]
  },
  {
   "cell_type": "code",
   "execution_count": 543,
   "metadata": {},
   "outputs": [
    {
     "name": "stdout",
     "output_type": "stream",
     "text": [
      "[[56  2]\n",
      " [ 7 46]]\n"
     ]
    },
    {
     "data": {
      "image/png": "[encoded data removed]",
      "text/plain": [
       "<Figure size 432x288 with 2 Axes>"
      ]
     },
     "metadata": {
      "needs_background": "light"
     },
     "output_type": "display_data"
    },
    {
     "data": {
      "text/plain": [
       "<Figure size 720x720 with 0 Axes>"
      ]
     },
     "metadata": {},
     "output_type": "display_data"
    },
    {
     "data": {
      "image/png": "[encoded data removed]",
      "text/plain": [
       "<Figure size 432x288 with 2 Axes>"
      ]
     },
     "metadata": {
      "needs_background": "light"
     },
     "output_type": "display_data"
    }
   ],
   "source": [
    "from sklearn import metrics\n",
    "cm_MNB=print(metrics.confusion_matrix(y_val,pred_mnb))\n",
    "\n",
    "\n",
    "from sklearn import metrics\n",
    "import seaborn as sn\n",
    "import matplotlib.pyplot as plt\n",
    "confusion=metrics.confusion_matrix(y_val,pred_mnb)\n",
    "plt.xlabel('true')\n",
    "plt.ylabel('Predicted')\n",
    "sn.heatmap(confusion,annot=True)\n",
    "plt.title('Without Normalized Confusion matrix for our classifier')\n",
    "plt.figure(figsize=(10,10))\n",
    "\n",
    "import matplotlib.pyplot as plt\n",
    "from sklearn.metrics import plot_confusion_matrix\n",
    "from mlxtend.plotting import plot_decision_regions\n",
    "matrix =plot_confusion_matrix(mnb, X_val, y_val,\n",
    "                                 cmap=plt.cm.Blues,\n",
    "                                 normalize='true')\n",
    "plt.title('Normalized Confusion matrix for our classifier')\n",
    "plt.show(matrix)\n",
    "plt.show()"
   ]
  },
  {
   "cell_type": "markdown",
   "metadata": {},
   "source": [
    "# Precision Recall F1_Score"
   ]
  },
  {
   "cell_type": "code",
   "execution_count": 544,
   "metadata": {},
   "outputs": [
    {
     "name": "stdout",
     "output_type": "stream",
     "text": [
      "Multinomial Naive Bayse Precision: 0.93\n",
      "Multinomial Naive Bayse Recall: 0.95\n",
      "Multinomial Naive Bayse F1 score: 0.94\n"
     ]
    }
   ],
   "source": [
    "TP_MNB =54\n",
    "TN_MNB =50\n",
    "FP_MNB=4\n",
    "FN_MNB=3\n",
    "\n",
    "Precision_MNB=TP_MNB/(TP_MNB+FP_MNB)\n",
    "print(\"Multinomial Naive Bayse Precision: %.2f\"%(Precision_MNB))\n",
    "Recall_MNB= TP_MNB/(TP_MNB+FN_MNB)\n",
    "print(\"Multinomial Naive Bayse Recall: %.2f\"%(Recall_MNB))\n",
    "\n",
    "F1_MNB= 2*((Precision_MNB*Recall_MNB)/(Precision_MNB+Recall_MNB))\n",
    "print(\"Multinomial Naive Bayse F1 score: %.2f\"%(F1_MNB))"
   ]
  },
  {
   "cell_type": "markdown",
   "metadata": {},
   "source": [
    "# Classification Report"
   ]
  },
  {
   "cell_type": "code",
   "execution_count": 545,
   "metadata": {},
   "outputs": [
    {
     "name": "stdout",
     "output_type": "stream",
     "text": [
      "              precision    recall  f1-score   support\n",
      "\n",
      "           0       0.89      0.97      0.93        58\n",
      "           1       0.96      0.87      0.91        53\n",
      "\n",
      "    accuracy                           0.92       111\n",
      "   macro avg       0.92      0.92      0.92       111\n",
      "weighted avg       0.92      0.92      0.92       111\n",
      "\n"
     ]
    }
   ],
   "source": [
    "from sklearn.metrics import classification_report\n",
    "print(classification_report(y_val,pred_mnb))"
   ]
  },
  {
   "cell_type": "markdown",
   "metadata": {},
   "source": [
    "# Random forest classifier"
   ]
  },
  {
   "cell_type": "code",
   "execution_count": 546,
   "metadata": {},
   "outputs": [
    {
     "name": "stdout",
     "output_type": "stream",
     "text": [
      "Random forest Accuracy: 0.88\n"
     ]
    }
   ],
   "source": [
    "from sklearn.ensemble import RandomForestClassifier\n",
    "rfc = RandomForestClassifier(n_estimators=500, max_depth=20, random_state=0)\n",
    "rfc.fit(X_train, y_train)\n",
    "pred_rfc=rfc.predict(X_val)\n",
    "Accuracy_RF=print(\"Random forest Accuracy: %.2f\"%(metrics.accuracy_score(y_val, pred_rfc)))"
   ]
  },
  {
   "cell_type": "markdown",
   "metadata": {},
   "source": [
    "# ROC_Curve"
   ]
  },
  {
   "cell_type": "code",
   "execution_count": 547,
   "metadata": {},
   "outputs": [
    {
     "data": {
      "image/png": "[encoded data removed]",
      "text/plain": [
       "<Figure size 432x288 with 1 Axes>"
      ]
     },
     "metadata": {
      "needs_background": "light"
     },
     "output_type": "display_data"
    }
   ],
   "source": [
    "from sklearn.metrics import roc_curve, auc\n",
    "fpr, tpr, thresholds = roc_curve(y_val,pred_rfc)\n",
    "roc_auc = auc(fpr, tpr)\n",
    "\n",
    "plt.figure()\n",
    "plt.plot(fpr, tpr, color='yellow', lw=1, label='ROC curve (area = %0.2f)' % roc_auc)\n",
    "plt.plot([0, 1], [0, 1], color='navy', lw=1, linestyle='--')\n",
    "plt.xlim([0.0, 1.0])\n",
    "plt.ylim([0.0, 1.05])\n",
    "plt.xlabel('False Positive Rate')\n",
    "plt.ylabel('True Positive Rate')\n",
    "plt.title('Receiver operating characteristic')\n",
    "plt.legend(loc=\"lower right\")\n",
    "plt.show()"
   ]
  },
  {
   "cell_type": "markdown",
   "metadata": {},
   "source": [
    "# Confusion Matrix"
   ]
  },
  {
   "cell_type": "code",
   "execution_count": 548,
   "metadata": {},
   "outputs": [
    {
     "name": "stdout",
     "output_type": "stream",
     "text": [
      "[[55  3]\n",
      " [10 43]]\n"
     ]
    },
    {
     "data": {
      "image/png": "[encoded data removed]",
      "text/plain": [
       "<Figure size 432x288 with 2 Axes>"
      ]
     },
     "metadata": {
      "needs_background": "light"
     },
     "output_type": "display_data"
    },
    {
     "data": {
      "text/plain": [
       "<Figure size 720x720 with 0 Axes>"
      ]
     },
     "metadata": {},
     "output_type": "display_data"
    },
    {
     "data": {
      "image/png": "[encoded data removed]",
      "text/plain": [
       "<Figure size 432x288 with 2 Axes>"
      ]
     },
     "metadata": {
      "needs_background": "light"
     },
     "output_type": "display_data"
    }
   ],
   "source": [
    "from sklearn import metrics\n",
    "cm_RFC=print(metrics.confusion_matrix(y_val,pred_rfc))\n",
    "\n",
    "import seaborn as sn\n",
    "import matplotlib.pyplot as plt\n",
    "confusion=metrics.confusion_matrix(y_val,pred_rfc)\n",
    "plt.xlabel('true')\n",
    "plt.ylabel('Predicted')\n",
    "sn.heatmap(confusion,annot=True)\n",
    "plt.title('Without Normalized Confusion matrix for our classifier')\n",
    "plt.figure(figsize=(10,10))\n",
    "\n",
    "import matplotlib.pyplot as plt\n",
    "from sklearn.metrics import plot_confusion_matrix\n",
    "from mlxtend.plotting import plot_decision_regions\n",
    "matrix =plot_confusion_matrix(rfc, X_val, y_val,\n",
    "                                 cmap=plt.cm.Blues,\n",
    "                                 normalize='true')\n",
    "plt.title('Normalized Confusion matrix for our classifier')\n",
    "plt.show(matrix)\n",
    "plt.show()"
   ]
  },
  {
   "cell_type": "markdown",
   "metadata": {},
   "source": [
    "# Precision Recall F1_Score"
   ]
  },
  {
   "cell_type": "code",
   "execution_count": 549,
   "metadata": {},
   "outputs": [
    {
     "name": "stdout",
     "output_type": "stream",
     "text": [
      "Random Forest Precision: 0.91\n",
      "Random Forest Recall: 0.91\n",
      "Random Forest F1 score: 0.91\n"
     ]
    }
   ],
   "source": [
    "TP_RFC=53\n",
    "TN_RFC =48\n",
    "FP_RFC=5\n",
    "FN_RFC=5\n",
    "\n",
    "Precision_RFC=TP_RFC/(TP_RFC+FP_RFC)\n",
    "print(\"Random Forest Precision: %.2f\"%(Precision_RFC))\n",
    "Recall_RFC= TP_RFC/(TP_RFC+FN_RFC)\n",
    "print(\"Random Forest Recall: %.2f\"%(Recall_RFC))\n",
    "\n",
    "F1_RFC= 2*((Precision_RFC*Recall_RFC)/(Precision_RFC+Recall_RFC))\n",
    "print(\"Random Forest F1 score: %.2f\"%(F1_RFC))"
   ]
  },
  {
   "cell_type": "markdown",
   "metadata": {},
   "source": [
    "# Classification Report"
   ]
  },
  {
   "cell_type": "code",
   "execution_count": 550,
   "metadata": {},
   "outputs": [
    {
     "name": "stdout",
     "output_type": "stream",
     "text": [
      "              precision    recall  f1-score   support\n",
      "\n",
      "           0       0.85      0.95      0.89        58\n",
      "           1       0.93      0.81      0.87        53\n",
      "\n",
      "    accuracy                           0.88       111\n",
      "   macro avg       0.89      0.88      0.88       111\n",
      "weighted avg       0.89      0.88      0.88       111\n",
      "\n"
     ]
    }
   ],
   "source": [
    "from sklearn.metrics import classification_report\n",
    "print(classification_report(y_val,pred_rfc))"
   ]
  },
  {
   "cell_type": "markdown",
   "metadata": {},
   "source": [
    "# Decision Tree"
   ]
  },
  {
   "cell_type": "code",
   "execution_count": 551,
   "metadata": {},
   "outputs": [
    {
     "name": "stdout",
     "output_type": "stream",
     "text": [
      "Decision Tree Accuracy: 0.87\n"
     ]
    }
   ],
   "source": [
    "from sklearn.tree import DecisionTreeClassifier\n",
    "dt = DecisionTreeClassifier(criterion='entropy')\n",
    "dt.fit(X_train, y_train)\n",
    "pred_dt = dt.predict(X_val)\n",
    "Accuracy_DT=print(\"Decision Tree Accuracy: %.2f\"%(metrics.accuracy_score(y_val, pred_dt)))"
   ]
  },
  {
   "cell_type": "markdown",
   "metadata": {},
   "source": [
    "# ROC_Curve"
   ]
  },
  {
   "cell_type": "code",
   "execution_count": 552,
   "metadata": {},
   "outputs": [
    {
     "data": {
      "image/png": "[encoded data removed]",
      "text/plain": [
       "<Figure size 432x288 with 1 Axes>"
      ]
     },
     "metadata": {
      "needs_background": "light"
     },
     "output_type": "display_data"
    }
   ],
   "source": [
    "from sklearn.metrics import roc_curve, auc\n",
    "fpr, tpr, thresholds = roc_curve(y_val,pred_dt)\n",
    "roc_auc = auc(fpr, tpr)\n",
    "\n",
    "plt.figure()\n",
    "plt.plot(fpr, tpr, color='tomato', lw=1, label='ROC curve (area = %0.2f)' % roc_auc)\n",
    "plt.plot([0, 1], [0, 1], color='navy', lw=1, linestyle='--')\n",
    "plt.xlim([0.0, 1.0])\n",
    "plt.ylim([0.0, 1.05])\n",
    "plt.xlabel('False Positive Rate')\n",
    "plt.ylabel('True Positive Rate')\n",
    "plt.title('Receiver operating characteristic')\n",
    "plt.legend(loc=\"lower right\")\n",
    "plt.show()"
   ]
  },
  {
   "cell_type": "markdown",
   "metadata": {},
   "source": [
    "# Confusion Matrix"
   ]
  },
  {
   "cell_type": "code",
   "execution_count": 553,
   "metadata": {},
   "outputs": [
    {
     "name": "stdout",
     "output_type": "stream",
     "text": [
      "[[51  7]\n",
      " [ 7 46]]\n"
     ]
    },
    {
     "data": {
      "image/png": "[encoded data removed]",
      "text/plain": [
       "<Figure size 432x288 with 2 Axes>"
      ]
     },
     "metadata": {
      "needs_background": "light"
     },
     "output_type": "display_data"
    },
    {
     "data": {
      "text/plain": [
       "<Figure size 720x720 with 0 Axes>"
      ]
     },
     "metadata": {},
     "output_type": "display_data"
    },
    {
     "data": {
      "image/png": "[encoded data removed]",
      "text/plain": [
       "<Figure size 432x288 with 2 Axes>"
      ]
     },
     "metadata": {
      "needs_background": "light"
     },
     "output_type": "display_data"
    }
   ],
   "source": [
    "from sklearn import metrics\n",
    "cm_DT=print(metrics.confusion_matrix(y_val,pred_dt))\n",
    "\n",
    "import seaborn as sn\n",
    "import matplotlib.pyplot as plt\n",
    "confusion=metrics.confusion_matrix(y_val,pred_dt)\n",
    "plt.xlabel('true')\n",
    "plt.ylabel('Predicted')\n",
    "sn.heatmap(confusion,annot=True)\n",
    "plt.title('Without Normalized Confusion matrix for our classifier')\n",
    "plt.figure(figsize=(10,10))\n",
    "\n",
    "import matplotlib.pyplot as plt\n",
    "from sklearn.metrics import plot_confusion_matrix\n",
    "from mlxtend.plotting import plot_decision_regions\n",
    "matrix =plot_confusion_matrix(dt, X_val, y_val,\n",
    "                                 cmap=plt.cm.Blues,\n",
    "                                 normalize='true')\n",
    "plt.title('Normalized Confusion matrix for our classifier')\n",
    "plt.show(matrix)\n",
    "plt.show()\n"
   ]
  },
  {
   "cell_type": "markdown",
   "metadata": {},
   "source": [
    "# Precision Recall F1_Score"
   ]
  },
  {
   "cell_type": "code",
   "execution_count": 554,
   "metadata": {},
   "outputs": [
    {
     "name": "stdout",
     "output_type": "stream",
     "text": [
      "Decision Tree Precision: 0.86\n",
      "Decision Tree Recall: 0.86\n",
      "Decision Tree F1 score: 0.86\n"
     ]
    }
   ],
   "source": [
    "TP_DT =50\n",
    "TN_DT=45\n",
    "FP_DT=8\n",
    "FN_DT=8\n",
    "\n",
    "Precision_DT=TP_DT/(TP_DT+FP_DT)\n",
    "print(\"Decision Tree Precision: %.2f\"%(Precision_DT))\n",
    "Recall_DT= TP_DT/(TP_DT+FN_DT)\n",
    "print(\"Decision Tree Recall: %.2f\"%(Recall_DT))\n",
    "\n",
    "F1_DT= 2*((Precision_DT*Recall_DT)/(Precision_DT+Recall_DT))\n",
    "print(\"Decision Tree F1 score: %.2f\"%(F1_DT))"
   ]
  },
  {
   "cell_type": "markdown",
   "metadata": {},
   "source": [
    "# Classification Report"
   ]
  },
  {
   "cell_type": "code",
   "execution_count": 555,
   "metadata": {},
   "outputs": [
    {
     "name": "stdout",
     "output_type": "stream",
     "text": [
      "              precision    recall  f1-score   support\n",
      "\n",
      "           0       0.88      0.88      0.88        58\n",
      "           1       0.87      0.87      0.87        53\n",
      "\n",
      "    accuracy                           0.87       111\n",
      "   macro avg       0.87      0.87      0.87       111\n",
      "weighted avg       0.87      0.87      0.87       111\n",
      "\n"
     ]
    }
   ],
   "source": [
    "from sklearn.metrics import classification_report\n",
    "print(classification_report(y_val,pred_dt))"
   ]
  },
  {
   "cell_type": "markdown",
   "metadata": {},
   "source": [
    "# Extra Trees"
   ]
  },
  {
   "cell_type": "code",
   "execution_count": 556,
   "metadata": {},
   "outputs": [
    {
     "name": "stdout",
     "output_type": "stream",
     "text": [
      "Decision Tree Accuracy: 0.91\n"
     ]
    }
   ],
   "source": [
    "from sklearn.ensemble import ExtraTreesClassifier\n",
    "extra = ExtraTreesClassifier(n_estimators=500, max_depth=20, random_state=0)\n",
    "extra.fit(X_train,y_train)\n",
    "pred_et = extra.predict(X_val)\n",
    "Accuracy_ET=print(\"Decision Tree Accuracy: %.2f\"%(metrics.accuracy_score(y_val, pred_et)))"
   ]
  },
  {
   "cell_type": "markdown",
   "metadata": {},
   "source": [
    "# ROC_Curve"
   ]
  },
  {
   "cell_type": "code",
   "execution_count": 557,
   "metadata": {},
   "outputs": [
    {
     "data": {
      "image/png": "[encoded data removed]",
      "text/plain": [
       "<Figure size 432x288 with 1 Axes>"
      ]
     },
     "metadata": {
      "needs_background": "light"
     },
     "output_type": "display_data"
    }
   ],
   "source": [
    "from sklearn.metrics import roc_curve, auc\n",
    "fpr, tpr, thresholds = roc_curve(y_val,pred_et)\n",
    "roc_auc = auc(fpr, tpr)\n",
    "\n",
    "plt.figure()\n",
    "plt.plot(fpr, tpr, color='skyblue', lw=1, label='ROC curve (area = %0.2f)' % roc_auc)\n",
    "plt.plot([0, 1], [0, 1], color='navy', lw=1, linestyle='--')\n",
    "plt.xlim([0.0, 1.0])\n",
    "plt.ylim([0.0, 1.05])\n",
    "plt.xlabel('False Positive Rate')\n",
    "plt.ylabel('True Positive Rate')\n",
    "plt.title('Receiver operating characteristic')\n",
    "plt.legend(loc=\"lower right\")\n",
    "plt.show()"
   ]
  },
  {
   "cell_type": "markdown",
   "metadata": {},
   "source": [
    "# Confusion Matrix"
   ]
  },
  {
   "cell_type": "code",
   "execution_count": 558,
   "metadata": {},
   "outputs": [
    {
     "name": "stdout",
     "output_type": "stream",
     "text": [
      "[[58  0]\n",
      " [10 43]]\n"
     ]
    },
    {
     "data": {
      "image/png": "[encoded data removed]",
      "text/plain": [
       "<Figure size 432x288 with 2 Axes>"
      ]
     },
     "metadata": {
      "needs_background": "light"
     },
     "output_type": "display_data"
    },
    {
     "data": {
      "text/plain": [
       "<Figure size 720x720 with 0 Axes>"
      ]
     },
     "metadata": {},
     "output_type": "display_data"
    },
    {
     "data": {
      "image/png": "[encoded data removed]",
      "text/plain": [
       "<Figure size 432x288 with 2 Axes>"
      ]
     },
     "metadata": {
      "needs_background": "light"
     },
     "output_type": "display_data"
    }
   ],
   "source": [
    "from sklearn import metrics\n",
    "cm_ET=print(metrics.confusion_matrix(y_val,pred_et))\n",
    "\n",
    "\n",
    "import seaborn as sn\n",
    "import matplotlib.pyplot as plt\n",
    "confusion=metrics.confusion_matrix(y_val,pred_et)\n",
    "plt.xlabel('true')\n",
    "plt.ylabel('Predicted')\n",
    "sn.heatmap(confusion,annot=True)\n",
    "plt.title('Without Normalized Confusion matrix for our classifier')\n",
    "plt.figure(figsize=(10,10))\n",
    "\n",
    "import matplotlib.pyplot as plt\n",
    "from sklearn.metrics import plot_confusion_matrix\n",
    "from mlxtend.plotting import plot_decision_regions\n",
    "matrix =plot_confusion_matrix(extra, X_val, y_val,\n",
    "                                 cmap=plt.cm.Blues,\n",
    "                                 normalize='true')\n",
    "plt.title('Normalized Confusion matrix for our classifier')\n",
    "plt.show(matrix)\n",
    "plt.show()"
   ]
  },
  {
   "cell_type": "markdown",
   "metadata": {},
   "source": [
    "# Precision Recall F1_Score"
   ]
  },
  {
   "cell_type": "code",
   "execution_count": 559,
   "metadata": {},
   "outputs": [
    {
     "name": "stdout",
     "output_type": "stream",
     "text": [
      "Extra Tree Precision: 0.95\n",
      "Extra Tree Recall: 0.93\n",
      "Extra Tree F1 score: 0.94\n"
     ]
    }
   ],
   "source": [
    "TP_ET =55\n",
    "TN_ET =49\n",
    "FP_ET=3\n",
    "FN_ET=4\n",
    "\n",
    "Precision_ET=TP_ET/(TP_ET+FP_ET)\n",
    "print(\"Extra Tree Precision: %.2f\"%(Precision_ET))\n",
    "Recall_ET= TP_ET/(TP_ET+FN_ET)\n",
    "print(\"Extra Tree Recall: %.2f\"%(Recall_ET))\n",
    "\n",
    "F1_ET= 2*((Precision_ET*Recall_ET)/(Precision_ET+Recall_ET))\n",
    "print(\"Extra Tree F1 score: %.2f\"%(F1_ET))"
   ]
  },
  {
   "cell_type": "markdown",
   "metadata": {},
   "source": [
    "# Classification Report"
   ]
  },
  {
   "cell_type": "code",
   "execution_count": 560,
   "metadata": {},
   "outputs": [
    {
     "name": "stdout",
     "output_type": "stream",
     "text": [
      "              precision    recall  f1-score   support\n",
      "\n",
      "           0       0.85      1.00      0.92        58\n",
      "           1       1.00      0.81      0.90        53\n",
      "\n",
      "    accuracy                           0.91       111\n",
      "   macro avg       0.93      0.91      0.91       111\n",
      "weighted avg       0.92      0.91      0.91       111\n",
      "\n"
     ]
    }
   ],
   "source": [
    "from sklearn.metrics import classification_report\n",
    "print(classification_report(y_val,pred_et))"
   ]
  },
  {
   "cell_type": "markdown",
   "metadata": {},
   "source": [
    "# predict"
   ]
  },
  {
   "cell_type": "code",
   "execution_count": 561,
   "metadata": {},
   "outputs": [],
   "source": [
    "reviews =['very great service','deliver food arter two hour late']"
   ]
  },
  {
   "cell_type": "code",
   "execution_count": 562,
   "metadata": {},
   "outputs": [],
   "source": [
    "ngram_vectorizer_reviews=ngram_vectorizer.transform(reviews)"
   ]
  },
  {
   "cell_type": "code",
   "execution_count": 563,
   "metadata": {},
   "outputs": [
    {
     "data": {
      "text/plain": [
       "array([1, 0], dtype=int64)"
      ]
     },
     "execution_count": 563,
     "metadata": {},
     "output_type": "execute_result"
    }
   ],
   "source": [
    "extra.predict(ngram_vectorizer_reviews)"
   ]
  },
  {
   "cell_type": "markdown",
   "metadata": {},
   "source": [
    "# Ensemble model"
   ]
  },
  {
   "cell_type": "code",
   "execution_count": 564,
   "metadata": {},
   "outputs": [],
   "source": [
    "from sklearn.ensemble import RandomForestClassifier, AdaBoostClassifier, GradientBoostingClassifier,BaggingClassifier\n",
    "import xgboost as xgb"
   ]
  },
  {
   "cell_type": "code",
   "execution_count": 565,
   "metadata": {},
   "outputs": [],
   "source": [
    "rfc = RandomForestClassifier(n_estimators=500, random_state=0,max_depth=20)\n",
    "abc = AdaBoostClassifier(n_estimators=500, random_state= 0, learning_rate=0.01)\n",
    "gbc = GradientBoostingClassifier(n_estimators=500, random_state=0,  learning_rate=0.01)\n",
    "xgb_clf = xgb.XGBClassifier(n_estimators=500,   learning_rate=0.01, random_state=0)\n",
    "bg = BaggingClassifier(DecisionTreeClassifier(),max_samples=0.5, max_features=1.0, n_estimators=500)"
   ]
  },
  {
   "cell_type": "code",
   "execution_count": 566,
   "metadata": {},
   "outputs": [
    {
     "data": {
      "text/plain": [
       "BaggingClassifier(base_estimator=DecisionTreeClassifier(), max_samples=0.5,\n",
       "                  n_estimators=500)"
      ]
     },
     "execution_count": 566,
     "metadata": {},
     "output_type": "execute_result"
    }
   ],
   "source": [
    "rfc.fit(X_train, y_train)\n",
    "abc.fit(X_train, y_train)\n",
    "gbc.fit(X_train, y_train)\n",
    "xgb_clf.fit(X_train, y_train)\n",
    "bg.fit(X_train, y_train)"
   ]
  },
  {
   "cell_type": "code",
   "execution_count": 567,
   "metadata": {},
   "outputs": [
    {
     "name": "stdout",
     "output_type": "stream",
     "text": [
      "Random Forest:  0.8828828828828829\n",
      "AdaBoost:  0.8198198198198198\n",
      "Gradient Boost:  0.8738738738738738\n",
      "XGBoost:  0.8648648648648649\n",
      "Bagging:  0.8828828828828829\n"
     ]
    }
   ],
   "source": [
    "print('Random Forest: ', rfc.score(X_val, y_val))\n",
    "print('AdaBoost: ', abc.score(X_val, y_val))\n",
    "print('Gradient Boost: ', gbc.score(X_val, y_val))\n",
    "print('XGBoost: ', xgb_clf.score(X_val, y_val))\n",
    "print('Bagging: ', bg.score(X_val, y_val))"
   ]
  },
  {
   "cell_type": "markdown",
   "metadata": {},
   "source": [
    "# RNN LSTM"
   ]
  },
  {
   "cell_type": "code",
   "execution_count": 568,
   "metadata": {},
   "outputs": [],
   "source": [
    "import numpy as np # linear algebra\n",
    "import pandas as pd # data processing, CSV file I/O (e.g. pd.read_csv)\n",
    "from sklearn.feature_extraction.text import CountVectorizer\n",
    "from keras.preprocessing.text import Tokenizer\n",
    "from keras.preprocessing.sequence import pad_sequences\n",
    "from keras.models import Sequential\n",
    "from keras.layers import Dense, Embedding, LSTM, SpatialDropout1D\n",
    "from sklearn.model_selection import train_test_split\n",
    "from keras.utils.np_utils import to_categorical\n",
    "import re"
   ]
  },
  {
   "cell_type": "code",
   "execution_count": 569,
   "metadata": {},
   "outputs": [],
   "source": [
    "# Split the sentences into words\n",
    "max_fatures = 2000\n",
    "tokenizer = Tokenizer(num_words=max_fatures, split=' ')\n",
    "tokenizer.fit_on_texts(df['text'].values)\n",
    "X = tokenizer.texts_to_sequences(df['text'].values)\n",
    "X = pad_sequences(X)\n",
    "y = pd.get_dummies(df['sentiment']).values"
   ]
  },
  {
   "cell_type": "code",
   "execution_count": 570,
   "metadata": {},
   "outputs": [
    {
     "name": "stdout",
     "output_type": "stream",
     "text": [
      "(442, 59) (442, 2)\n",
      "(111, 59) (111, 2)\n"
     ]
    }
   ],
   "source": [
    "X_train, X_test, y_train, y_test = train_test_split(X,y, test_size = 0.2)\n",
    "print(X_train.shape,y_train.shape)\n",
    "print(X_test.shape,y_test.shape)"
   ]
  },
  {
   "cell_type": "code",
   "execution_count": 571,
   "metadata": {},
   "outputs": [
    {
     "name": "stdout",
     "output_type": "stream",
     "text": [
      "Model: \"sequential_7\"\n",
      "_________________________________________________________________\n",
      "Layer (type)                 Output Shape              Param #   \n",
      "=================================================================\n",
      "embedding_7 (Embedding)      (None, 59, 128)           256000    \n",
      "_________________________________________________________________\n",
      "spatial_dropout1d_7 (Spatial (None, 59, 128)           0         \n",
      "_________________________________________________________________\n",
      "lstm_7 (LSTM)                (None, 196)               254800    \n",
      "_________________________________________________________________\n",
      "dense_7 (Dense)              (None, 2)                 394       \n",
      "=================================================================\n",
      "Total params: 511,194\n",
      "Trainable params: 511,194\n",
      "Non-trainable params: 0\n",
      "_________________________________________________________________\n",
      "None\n"
     ]
    }
   ],
   "source": [
    "embed_dim = 128\n",
    "lstm_out = 196\n",
    "\n",
    "model = Sequential()\n",
    "model.add(Embedding(max_fatures, embed_dim,input_length = X.shape[1]))\n",
    "model.add(SpatialDropout1D(0.2))\n",
    "model.add(LSTM(lstm_out, dropout=0.2, recurrent_dropout=0.2))\n",
    "model.add(Dense(2,activation='softmax'))\n",
    "model.compile(loss = 'categorical_crossentropy', optimizer='adam',metrics = ['accuracy'])\n",
    "print(model.summary())"
   ]
  },
  {
   "cell_type": "code",
   "execution_count": 572,
   "metadata": {},
   "outputs": [
    {
     "name": "stdout",
     "output_type": "stream",
     "text": [
      "Train on 309 samples, validate on 133 samples\n",
      "Epoch 1/8\n",
      "309/309 [==============================] - 2s 8ms/step - loss: 0.6908 - accuracy: 0.4919 - val_loss: 0.6827 - val_accuracy: 0.6692\n",
      "Epoch 2/8\n",
      "309/309 [==============================] - 2s 5ms/step - loss: 0.6690 - accuracy: 0.7023 - val_loss: 0.6572 - val_accuracy: 0.7143\n",
      "Epoch 3/8\n",
      "309/309 [==============================] - 2s 5ms/step - loss: 0.5991 - accuracy: 0.8511 - val_loss: 0.5492 - val_accuracy: 0.7895\n",
      "Epoch 4/8\n",
      "309/309 [==============================] - 2s 5ms/step - loss: 0.4577 - accuracy: 0.8382 - val_loss: 0.4578 - val_accuracy: 0.8346\n",
      "Epoch 5/8\n",
      "309/309 [==============================] - 2s 5ms/step - loss: 0.2776 - accuracy: 0.9256 - val_loss: 0.4442 - val_accuracy: 0.7895\n",
      "Epoch 6/8\n",
      "309/309 [==============================] - 2s 5ms/step - loss: 0.2432 - accuracy: 0.8997 - val_loss: 0.3629 - val_accuracy: 0.8421\n",
      "Epoch 7/8\n",
      "309/309 [==============================] - 2s 5ms/step - loss: 0.1384 - accuracy: 0.9773 - val_loss: 0.4357 - val_accuracy: 0.8722\n",
      "Epoch 8/8\n",
      "309/309 [==============================] - 2s 5ms/step - loss: 0.0972 - accuracy: 0.9838 - val_loss: 0.4214 - val_accuracy: 0.8722\n"
     ]
    }
   ],
   "source": [
    "batch_size = 50\n",
    "hist=model.fit(X_train, y_train, epochs =8,batch_size=batch_size,validation_split=0.3)"
   ]
  },
  {
   "cell_type": "markdown",
   "metadata": {},
   "source": [
    "# Evaluate The Model Loss and Accuracy\n"
   ]
  },
  {
   "cell_type": "code",
   "execution_count": 573,
   "metadata": {},
   "outputs": [
    {
     "name": "stdout",
     "output_type": "stream",
     "text": [
      "111/111 [==============================] - 0s 2ms/step\n",
      "Test set\n",
      "  Loss: 0.290\n",
      "  Accuracy: 0.919\n"
     ]
    }
   ],
   "source": [
    "accr = model.evaluate(X_test,y_test)\n",
    "print('Test set\\n  Loss: {:0.3f}\\n  Accuracy: {:0.3f}'.format(accr[0],accr[1]))"
   ]
  },
  {
   "cell_type": "code",
   "execution_count": 574,
   "metadata": {},
   "outputs": [
    {
     "data": {
      "image/png": "[encoded data removed]",
      "text/plain": [
       "<Figure size 432x288 with 1 Axes>"
      ]
     },
     "metadata": {
      "needs_background": "light"
     },
     "output_type": "display_data"
    },
    {
     "data": {
      "image/png": "[encoded data removed]",
      "text/plain": [
       "<Figure size 432x288 with 1 Axes>"
      ]
     },
     "metadata": {
      "needs_background": "light"
     },
     "output_type": "display_data"
    }
   ],
   "source": [
    "import matplotlib.pyplot as plt\n",
    "\n",
    "plt.plot(hist.history['accuracy'])\n",
    "plt.plot(hist.history['val_accuracy'])\n",
    "\n",
    "plt.title('model accuracy')\n",
    "plt.ylabel('accuracy')\n",
    "plt.xlabel('epoch')\n",
    "plt.legend(['train','test'], loc='upper left')\n",
    "plt.show()\n",
    "\n",
    "plt.plot(hist.history['loss'])\n",
    "plt.plot(hist.history['val_loss'])\n",
    "\n",
    "plt.title('model loss')\n",
    "plt.ylabel('loss')\n",
    "plt.xlabel('epoch')\n",
    "plt.legend(['train','test'], loc='upper left')\n",
    "plt.show()"
   ]
  },
  {
   "cell_type": "markdown",
   "metadata": {},
   "source": [
    "# F1 score&confusion matrix"
   ]
  },
  {
   "cell_type": "code",
   "execution_count": 575,
   "metadata": {},
   "outputs": [
    {
     "name": "stdout",
     "output_type": "stream",
     "text": [
      "              precision    recall  f1-score   support\n",
      "\n",
      "           0       0.96      0.89      0.92        61\n",
      "           1       0.87      0.96      0.91        50\n",
      "\n",
      "   micro avg       0.92      0.92      0.92       111\n",
      "   macro avg       0.92      0.92      0.92       111\n",
      "weighted avg       0.92      0.92      0.92       111\n",
      " samples avg       0.92      0.92      0.92       111\n",
      "\n"
     ]
    }
   ],
   "source": [
    "predictions = model.predict(X_test)\n",
    "predictions =(predictions>0.5)\n",
    "list(predictions)\n",
    "from sklearn.metrics import classification_report\n",
    "print(classification_report(y_test,predictions))"
   ]
  },
  {
   "cell_type": "code",
   "execution_count": 576,
   "metadata": {},
   "outputs": [
    {
     "name": "stdout",
     "output_type": "stream",
     "text": [
      "[[[48  2]\n",
      "  [ 7 54]]\n",
      "\n",
      " [[54  7]\n",
      "  [ 2 48]]]\n"
     ]
    }
   ],
   "source": [
    "from sklearn.metrics import multilabel_confusion_matrix\n",
    "confusion =multilabel_confusion_matrix(y_test,predictions)\n",
    "print(confusion)\n"
   ]
  },
  {
   "cell_type": "markdown",
   "metadata": {},
   "source": [
    "# predict"
   ]
  },
  {
   "cell_type": "code",
   "execution_count": 577,
   "metadata": {},
   "outputs": [
    {
     "name": "stdout",
     "output_type": "stream",
     "text": [
      "Positive predictions: 55\n",
      "Negative predictions: 56\n",
      "Real positive: 50\n",
      "Real negative: 61\n"
     ]
    }
   ],
   "source": [
    "\n",
    "pos_count,  neg_count = 0, 0\n",
    "real_pos, real_neg = 0, 0\n",
    "for i, prediction in enumerate(predictions):\n",
    "    if np.argmax(prediction)==1:\n",
    "        pos_count += 1\n",
    "    \n",
    "    else:\n",
    "        neg_count += 1\n",
    "    \n",
    "    if np.argmax(y_test[i])==1:\n",
    "        real_pos += 1\n",
    "    \n",
    "    else:\n",
    "        real_neg +=1\n",
    "\n",
    "print('Positive predictions:', pos_count)\n",
    "print('Negative predictions:', neg_count)\n",
    "print('Real positive:', real_pos)\n",
    "print('Real negative:', real_neg)"
   ]
  },
  {
   "cell_type": "code",
   "execution_count": 578,
   "metadata": {},
   "outputs": [
    {
     "data": {
      "image/png": "[encoded data removed]",
      "text/plain": [
       "<Figure size 432x288 with 1 Axes>"
      ]
     },
     "metadata": {},
     "output_type": "display_data"
    }
   ],
   "source": [
    "from matplotlib import pyplot as plt\n",
    "import numpy as np\n",
    "fig = plt.figure()\n",
    "ax = fig.add_axes([0,0,1,1])\n",
    "ax.axis('equal')\n",
    "langs = ['Positive predictions', 'Negative predictions', 'Real positive', 'Real Negative']\n",
    "number = [51,60,53,58]\n",
    "ax.pie(number, labels = langs,autopct='%1.2f%%')\n",
    "plt.show()"
   ]
  },
  {
   "cell_type": "markdown",
   "metadata": {},
   "source": [
    "# Result Analysis"
   ]
  },
  {
   "cell_type": "code",
   "execution_count": 579,
   "metadata": {},
   "outputs": [
    {
     "data": {
      "image/png": "[encoded data removed]",
      "text/plain": [
       "<Figure size 432x288 with 1 Axes>"
      ]
     },
     "metadata": {
      "needs_background": "light"
     },
     "output_type": "display_data"
    }
   ],
   "source": [
    "import numpy as np\n",
    "import matplotlib.pyplot as plt\n",
    "N = 7\n",
    "\n",
    "ind = np.arange(N)\n",
    "width = 0.15\n",
    "fig, ax = plt.subplots()\n",
    "\n",
    "f1 = [92,94,84,96,92,85,93]\n",
    "rects1 = ax.bar(ind, f1, width, color='skyblue')\n",
    "prec = [93,92,89,94,92,83,92]\n",
    "rects2 = ax.bar(ind+width, prec, width, color='purple')\n",
    "rec = [93,96,80,98,91,86,94]\n",
    "rects3 = ax.bar(ind + 2 * width, rec, width, color='tomato')\n",
    "\n",
    "ax.set_ylabel('Scores')\n",
    "ax.set_title('Scores for each model using CountVectorizer')\n",
    "ax.set_xticks(ind + 1.5*width)\n",
    "ax.set_xticklabels(('SVM','LR','SGD','MNB','RFC','DT','ET'))\n",
    "ax.legend((rects1[0], rects2[0], rects3[0]), ('F1_Score', 'Precision', 'Recall'))\n",
    "\n",
    "plt.show()"
   ]
  },
  {
   "cell_type": "code",
   "execution_count": 580,
   "metadata": {},
   "outputs": [
    {
     "data": {
      "image/png": "[encoded data removed]",
      "text/plain": [
       "<Figure size 432x288 with 1 Axes>"
      ]
     },
     "metadata": {
      "needs_background": "light"
     },
     "output_type": "display_data"
    }
   ],
   "source": [
    "import numpy as np\n",
    "import matplotlib.pyplot as plt\n",
    "N = 7\n",
    "\n",
    "ind = np.arange(N)\n",
    "width = 0.15\n",
    "fig, ax = plt.subplots()\n",
    "\n",
    "f1 = [97,95,93,96,94,83,93]\n",
    "rects1 = ax.bar(ind, f1, width, color='skyblue')\n",
    "prec = [98,98,96,98,98,84,98]\n",
    "rects2 = ax.bar(ind+width, prec, width, color='purple')\n",
    "rec = [96,92,90,95,90,83,89]\n",
    "rects3 = ax.bar(ind + 2 * width, rec, width, color='tomato')\n",
    "\n",
    "ax.set_ylabel('Scores')\n",
    "ax.set_title('Scores for each model using TF-IDF')\n",
    "ax.set_xticks(ind + 1.5*width)\n",
    "ax.set_xticklabels(('SVM','LR','SGD','MNB','RFC','DT','ET'))\n",
    "ax.legend((rects1[0], rects2[0], rects3[0]), ('F1_Score', 'Precision', 'Recall'))\n",
    "\n",
    "plt.show()"
   ]
  },
  {
   "cell_type": "code",
   "execution_count": 581,
   "metadata": {},
   "outputs": [
    {
     "data": {
      "image/png": "[encoded data removed]",
      "text/plain": [
       "<Figure size 720x360 with 1 Axes>"
      ]
     },
     "metadata": {
      "needs_background": "light"
     },
     "output_type": "display_data"
    }
   ],
   "source": [
    "import matplotlib\n",
    "import matplotlib.pyplot as plt\n",
    "%matplotlib inline\n",
    "import numpy as np\n",
    "\n",
    "labels = ['SVM','LR','SGD','MNB','RFC','DT','ET']\n",
    "countvectorizer = [93,95,84,96,92,86,94]\n",
    "tfidf = [97,95,93,96,94,83,93]\n",
    "\n",
    "x = np.arange(len(labels))  # the label locations\n",
    "width = 0.25  # the width of the bars\n",
    "\n",
    "fig, ax = plt.subplots(figsize=(10,5))\n",
    "rects1 = ax.bar(x - width/2, countvectorizer, width,label='CountVectorizer',color='seagreen')\n",
    "rects2 = ax.bar(x + width/2,tfidf, width,label='TF-IDF',color='firebrick')\n",
    "\n",
    "# Add some text for labels, title and custom x-axis tick labels, etc.\n",
    "ax.set_ylabel('Accuracy')\n",
    "ax.set_title('compare the accuracy of each model using Holdout method')\n",
    "ax.set_xticks(x)\n",
    "ax.set_xticklabels(labels)\n",
    "ax.legend()\n",
    "\n",
    "\n",
    "def autolabel(rects):\n",
    "    \"\"\"Attach a text label above each bar in *rects*, displaying its height.\"\"\"\n",
    "    for rect in rects:\n",
    "        height = rect.get_height()\n",
    "        ax.annotate('{}'.format(height),\n",
    "                    xy=(rect.get_x() + rect.get_width() / 2, height),\n",
    "                    xytext=(0, 2),  # 3 points vertical offset\n",
    "                    textcoords=\"offset points\",\n",
    "                    ha='center', va='bottom')\n",
    "\n",
    "\n",
    "autolabel(rects1)\n",
    "autolabel(rects2)\n",
    "\n",
    "fig.tight_layout()\n",
    "\n",
    "plt.legend(loc='lower center', bbox_to_anchor=(.5, -.2),ncol=2)\n",
    "\n",
    "plt.show()"
   ]
  },
  {
   "cell_type": "code",
   "execution_count": null,
   "metadata": {},
   "outputs": [],
   "source": []
  }
 ],
 "metadata": {
  "kernelspec": {
   "display_name": "Python 3",
   "language": "python",
   "name": "python3"
  },
  "language_info": {
   "codemirror_mode": {
    "name": "ipython",
    "version": 3
   },
   "file_extension": ".py",
   "mimetype": "text/x-python",
   "name": "python",
   "nbconvert_exporter": "python",
   "pygments_lexer": "ipython3",
   "version": "3.7.1"
  }
 },
 "nbformat": 4,
 "nbformat_minor": 4
}
